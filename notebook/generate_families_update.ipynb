{
  "nbformat": 4,
  "nbformat_minor": 0,
  "metadata": {
    "language_info": {
      "codemirror_mode": {
        "name": "ipython",
        "version": 3
      },
      "file_extension": ".py",
      "mimetype": "text/x-python",
      "name": "python",
      "nbconvert_exporter": "python",
      "pygments_lexer": "ipython3",
      "version": "3.7.6-final"
    },
    "orig_nbformat": 2,
    "kernelspec": {
      "name": "python3",
      "display_name": "Python 3"
    },
    "colab": {
      "name": "generate_families.ipynb",
      "provenance": []
    }
  },
  "cells": [
    {
      "cell_type": "markdown",
      "metadata": {
        "id": "view-in-github",
        "colab_type": "text"
      },
      "source": [
        "<a href=\"https://colab.research.google.com/github/ML-Bioinfo-CEITEC/mirna_binding/blob/master/notebook/generate_families.ipynb\" target=\"_parent\"><img src=\"https://colab.research.google.com/assets/colab-badge.svg\" alt=\"Open In Colab\"/></a>"
      ]
    },
    {
      "cell_type": "markdown",
      "metadata": {
        "id": "inlJR2MqdNFm",
        "colab_type": "text"
      },
      "source": [
        "# Generate microRNA families DB\n",
        "\n",
        "Download microRNA families from [targetscan](wwww.targetscan.org) and sanified it for project `microRNA_binding`.\n",
        "\n",
        "The \"sanified\" dataset contains unique microRNA for each family, and it considers only microRNA of length >= 20nt.\n",
        "\n",
        "Nucleotide \"U\" is replaced with \"T\".\n"
      ]
    },
    {
      "cell_type": "code",
      "metadata": {
        "id": "3rEQkDmydNFr",
        "colab_type": "code",
        "colab": {
          "base_uri": "https://localhost:8080/",
          "height": 50
        },
        "outputId": "6c634404-724b-4444-d2af-154c9a3cef72"
      },
      "source": [
        "import pandas as pd\n",
        "import numpy as np\n",
        "import seaborn as sns\n",
        "import matplotlib.pyplot as plt\n",
        "\n",
        "# set seed for reproducibility\n",
        "np.random.seed(1789)\n",
        "# retrive only microRNA of len\n",
        "min_microrna_len = 20\n",
        "# targetscan species id field\n",
        "human_id = 9606\n",
        "# save info\n",
        "save_to = './'\n",
        "save_as = 'tarbased.sanified'"
      ],
      "execution_count": 1,
      "outputs": [
        {
          "output_type": "stream",
          "text": [
            "/usr/local/lib/python3.6/dist-packages/statsmodels/tools/_testing.py:19: FutureWarning: pandas.util.testing is deprecated. Use the functions in the public API at pandas.testing instead.\n",
            "  import pandas.util.testing as tm\n"
          ],
          "name": "stderr"
        }
      ]
    },
    {
      "cell_type": "markdown",
      "metadata": {
        "id": "vvP1Tq9xdNFy",
        "colab_type": "text"
      },
      "source": [
        "### Download microRNA families dataset\n",
        "We used microRNA families dataset from [targetscan](www.targetscan.org)."
      ]
    },
    {
      "cell_type": "code",
      "metadata": {
        "id": "eHpeFIgOdNFz",
        "colab_type": "code",
        "colab": {
          "base_uri": "https://localhost:8080/",
          "height": 50
        },
        "outputId": "b90ad7d4-c5b0-4ca1-ede8-1ed069f97908"
      },
      "source": [
        "mirna_families_db_url = 'http://www.targetscan.org/vert_72/vert_72_data_download/miR_Family_Info.txt.zip'\n",
        "# load df from url\n",
        "families_db = pd.read_csv(mirna_families_db_url, sep='\\t')\n",
        "# retrive only human (9606) microRNA\n",
        "families_humans_db = families_db[families_db['Species ID'] == human_id].copy().reset_index(drop=True)\n",
        "\n",
        "print('original targetscan dataframe shape is:', families_db.shape)\n",
        "print('only human entries dataset shape is:', families_humans_db.shape)\n"
      ],
      "execution_count": 2,
      "outputs": [
        {
          "output_type": "stream",
          "text": [
            "original targetscan dataframe shape is: (9994, 7)\n",
            "only human entries dataset shape is: (2606, 7)\n"
          ],
          "name": "stdout"
        }
      ]
    },
    {
      "cell_type": "markdown",
      "metadata": {
        "id": "MjiiIyD5dNF-",
        "colab_type": "text"
      },
      "source": [
        "### pre-processing\n",
        "1. Remove microRNA with `NA` values in field `MiRBase Accession`."
      ]
    },
    {
      "cell_type": "code",
      "metadata": {
        "id": "O39c44yNdNF_",
        "colab_type": "code",
        "colab": {
          "base_uri": "https://localhost:8080/",
          "height": 185
        },
        "outputId": "7c7916ec-770e-4621-da34-7422ea661416"
      },
      "source": [
        "print(families_humans_db.isna().sum())\n",
        "\n",
        "print('original dataset shape is:', families_humans_db.shape)\n",
        "families_humans_db = families_humans_db.dropna()\n",
        "print('original dataset shape without \"NA\" values is:', families_humans_db.shape)\n",
        "\n",
        "\n"
      ],
      "execution_count": 3,
      "outputs": [
        {
          "output_type": "stream",
          "text": [
            "miR family               0\n",
            "Seed+m8                  0\n",
            "Species ID               0\n",
            "MiRBase ID               0\n",
            "Mature sequence          0\n",
            "Family Conservation?     0\n",
            "MiRBase Accession       26\n",
            "dtype: int64\n",
            "original dataset shape is: (2606, 7)\n",
            "original dataset shape without \"NA\" values is: (2580, 7)\n"
          ],
          "name": "stdout"
        }
      ]
    },
    {
      "cell_type": "markdown",
      "metadata": {
        "id": "O42POSQqdNGD",
        "colab_type": "text"
      },
      "source": [
        "2. Filters miRNA sequences < 20 nt length, and replace nucleotide \"U\" to \"T\".\n"
      ]
    },
    {
      "cell_type": "code",
      "metadata": {
        "id": "5DWn1cWfdNGE",
        "colab_type": "code",
        "colab": {
          "base_uri": "https://localhost:8080/",
          "height": 50
        },
        "outputId": "c92d57da-9dc1-4f08-8c8b-31c6cf4ed5ba"
      },
      "source": [
        "families_humans_db['sequence_len'] = families_humans_db.apply(lambda x: len(x['Mature sequence']), axis=1)\n",
        "families_humans_db_filtered = families_humans_db[families_humans_db['sequence_len'] >= min_microrna_len].copy()\n",
        "families_humans_db_filtered['Mature sequence'] = families_humans_db_filtered['Mature sequence'].str.replace('U', 'T')\n",
        "\n",
        "print('original dataset shape is:', families_humans_db.shape)\n",
        "print('processed dataset shape is:', families_humans_db_filtered.shape)"
      ],
      "execution_count": 9,
      "outputs": [
        {
          "output_type": "stream",
          "text": [
            "original dataset shape is: (2580, 8)\n",
            "processed dataset shape is: (2339, 8)\n"
          ],
          "name": "stdout"
        }
      ]
    },
    {
      "cell_type": "markdown",
      "metadata": {
        "id": "7IzPNEi0dNGL",
        "colab_type": "text"
      },
      "source": [
        "### Retrive a random RNA for each family\n",
        "This cell loop over the `families_humans_db` and randomly select a microRNA, which will represent the family.\n",
        "\n",
        "MicroRNAs of each family are listed under the new column field `members`."
      ]
    },
    {
      "cell_type": "code",
      "metadata": {
        "tags": [
          "outputPrepend",
          "outputPrepend",
          "outputPrepend",
          "outputPrepend",
          "outputPrepend",
          "outputPrepend",
          "outputPrepend",
          "outputPrepend",
          "outputPrepend",
          "outputPrepend",
          "outputPrepend",
          "outputPrepend",
          "outputPrepend",
          "outputPrepend",
          "outputPrepend",
          "outputPrepend",
          "outputPrepend",
          "outputPrepend",
          "outputPrepend",
          "outputPrepend",
          "outputPrepend",
          "outputPrepend",
          "outputPrepend",
          "outputPrepend",
          "outputPrepend",
          "outputPrepend",
          "outputPrepend",
          "outputPrepend",
          "outputPrepend",
          "outputPrepend",
          "outputPrepend",
          "outputPrepend",
          "outputPrepend",
          "outputPrepend",
          "outputPrepend",
          "outputPrepend",
          "outputPrepend",
          "outputPrepend",
          "outputPrepend",
          "outputPrepend",
          "outputPrepend",
          "outputPrepend",
          "outputPrepend",
          "outputPrepend",
          "outputPrepend",
          "outputPrepend",
          "outputPrepend",
          "outputPrepend",
          "outputPrepend",
          "outputPrepend",
          "outputPrepend"
        ],
        "id": "5s9wzbn3dNGP",
        "colab_type": "code",
        "colab": {
          "base_uri": "https://localhost:8080/",
          "height": 67
        },
        "outputId": "685de5ee-d8ae-46c4-d5d3-c4a287d8c110"
      },
      "source": [
        "# generate array of family size distribution.\n",
        "family_size = list()\n",
        "family_repres = list()\n",
        "for index, (family_id, group) in enumerate(families_humans_db_filtered.groupby('miR family')):\n",
        "    family_size.append(group.shape[0])\n",
        "    x = group.copy()\n",
        "    x['members'] = ','.join(np.unique(group['MiRBase ID']).tolist())\n",
        "    family_repres.append(x.sample(n=1))\n",
        "\n",
        "array = np.array(family_size, dtype='int')\n",
        "families_humans_unique = pd.concat(family_repres)\n",
        "\n",
        "print('family size min,max,std values:', array.min(), array.max(), array.mean(), sep=':')\n",
        "print('family size original db shape is', families_humans_db_filtered.shape, sep=':')\n",
        "print('family size unique db shape is', families_humans_unique.shape, sep=':')"
      ],
      "execution_count": 19,
      "outputs": [
        {
          "output_type": "stream",
          "text": [
            "family size min,max,std values::1:22:1.2441489361702127\n",
            "family size original db shape is:(2339, 8)\n",
            "family size unique db shape is:(1880, 9)\n"
          ],
          "name": "stdout"
        }
      ]
    },
    {
      "cell_type": "markdown",
      "metadata": {
        "id": "rYoIk2CzdNGT",
        "colab_type": "text"
      },
      "source": [
        "### save filtered microRNA dataset as FASTA file"
      ]
    },
    {
      "cell_type": "code",
      "metadata": {
        "id": "t_Ijq_BTdNGU",
        "colab_type": "code",
        "colab": {}
      },
      "source": [
        "with open(save_to + save_as + '.fasta', 'w') as outfasta:\n",
        "    for index, row in families_humans_unique.iterrows():\n",
        "        outfasta.write(f'>{row[\"miR family\"]}\\n{row[\"Mature sequence\"]}\\n')\n"
      ],
      "execution_count": 21,
      "outputs": []
    },
    {
      "cell_type": "markdown",
      "metadata": {
        "id": "cduh-BKmdNGb",
        "colab_type": "text"
      },
      "source": [
        "### save filtered microRNA dataset as tsv table"
      ]
    },
    {
      "cell_type": "code",
      "metadata": {
        "id": "5UkTs4fwdNGc",
        "colab_type": "code",
        "colab": {
          "base_uri": "https://localhost:8080/",
          "height": 343
        },
        "outputId": "ed682180-1f92-439f-e8c0-6f436b096d60"
      },
      "source": [
        "families_humans_unique.to_csv(save_to + save_as + '.tsv', sep='\\t', index=False)\n",
        "\n",
        "families_humans_unique.head(10)"
      ],
      "execution_count": 24,
      "outputs": [
        {
          "output_type": "execute_result",
          "data": {
            "text/html": [
              "<div>\n",
              "<style scoped>\n",
              "    .dataframe tbody tr th:only-of-type {\n",
              "        vertical-align: middle;\n",
              "    }\n",
              "\n",
              "    .dataframe tbody tr th {\n",
              "        vertical-align: top;\n",
              "    }\n",
              "\n",
              "    .dataframe thead th {\n",
              "        text-align: right;\n",
              "    }\n",
              "</style>\n",
              "<table border=\"1\" class=\"dataframe\">\n",
              "  <thead>\n",
              "    <tr style=\"text-align: right;\">\n",
              "      <th></th>\n",
              "      <th>miR family</th>\n",
              "      <th>Seed+m8</th>\n",
              "      <th>Species ID</th>\n",
              "      <th>MiRBase ID</th>\n",
              "      <th>Mature sequence</th>\n",
              "      <th>Family Conservation?</th>\n",
              "      <th>MiRBase Accession</th>\n",
              "      <th>sequence_len</th>\n",
              "      <th>members</th>\n",
              "    </tr>\n",
              "  </thead>\n",
              "  <tbody>\n",
              "    <tr>\n",
              "      <th>2</th>\n",
              "      <td>let-7-5p/98-5p</td>\n",
              "      <td>GAGGUAG</td>\n",
              "      <td>9606</td>\n",
              "      <td>hsa-let-7c-5p</td>\n",
              "      <td>TGAGGTAGTAGGTTGTATGGTT</td>\n",
              "      <td>2</td>\n",
              "      <td>MIMAT0000064</td>\n",
              "      <td>22</td>\n",
              "      <td>hsa-let-7a-5p,hsa-let-7b-5p,hsa-let-7c-5p,hsa-...</td>\n",
              "    </tr>\n",
              "    <tr>\n",
              "      <th>11</th>\n",
              "      <td>let-7a-2-3p/let-7g-3p</td>\n",
              "      <td>UGUACAG</td>\n",
              "      <td>9606</td>\n",
              "      <td>hsa-let-7a-2-3p</td>\n",
              "      <td>CTGTACAGCCTCCTAGCTTTCC</td>\n",
              "      <td>-1</td>\n",
              "      <td>MIMAT0010195</td>\n",
              "      <td>22</td>\n",
              "      <td>hsa-let-7a-2-3p,hsa-let-7g-3p</td>\n",
              "    </tr>\n",
              "    <tr>\n",
              "      <th>13</th>\n",
              "      <td>let-7a-3p/let-7b-3p/let-7f-1-3p/98-3p</td>\n",
              "      <td>UAUACAA</td>\n",
              "      <td>9606</td>\n",
              "      <td>hsa-let-7a-3p</td>\n",
              "      <td>CTATACAATCTACTGTCTTTC</td>\n",
              "      <td>-1</td>\n",
              "      <td>MIMAT0004481</td>\n",
              "      <td>21</td>\n",
              "      <td>hsa-let-7a-3p,hsa-let-7b-3p,hsa-let-7f-1-3p,hs...</td>\n",
              "    </tr>\n",
              "    <tr>\n",
              "      <th>17</th>\n",
              "      <td>let-7c-3p</td>\n",
              "      <td>UGUACAA</td>\n",
              "      <td>9606</td>\n",
              "      <td>hsa-let-7c-3p</td>\n",
              "      <td>CTGTACAACCTTCTAGCTTTCC</td>\n",
              "      <td>-1</td>\n",
              "      <td>MIMAT0026472</td>\n",
              "      <td>22</td>\n",
              "      <td>hsa-let-7c-3p</td>\n",
              "    </tr>\n",
              "    <tr>\n",
              "      <th>18</th>\n",
              "      <td>let-7d-3p</td>\n",
              "      <td>UAUACGA</td>\n",
              "      <td>9606</td>\n",
              "      <td>hsa-let-7d-3p</td>\n",
              "      <td>CTATACGACCTGCTGCCTTTCT</td>\n",
              "      <td>-1</td>\n",
              "      <td>MIMAT0004484</td>\n",
              "      <td>22</td>\n",
              "      <td>hsa-let-7d-3p</td>\n",
              "    </tr>\n",
              "    <tr>\n",
              "      <th>19</th>\n",
              "      <td>let-7e-3p</td>\n",
              "      <td>UAUACGG</td>\n",
              "      <td>9606</td>\n",
              "      <td>hsa-let-7e-3p</td>\n",
              "      <td>CTATACGGCCTCCTAGCTTTCC</td>\n",
              "      <td>-1</td>\n",
              "      <td>MIMAT0004485</td>\n",
              "      <td>22</td>\n",
              "      <td>hsa-let-7e-3p</td>\n",
              "    </tr>\n",
              "    <tr>\n",
              "      <th>20</th>\n",
              "      <td>let-7f-2-3p/1185-3p</td>\n",
              "      <td>UAUACAG</td>\n",
              "      <td>9606</td>\n",
              "      <td>hsa-let-7f-2-3p</td>\n",
              "      <td>CTATACAGTCTACTGTCTTTCC</td>\n",
              "      <td>-1</td>\n",
              "      <td>MIMAT0004487</td>\n",
              "      <td>22</td>\n",
              "      <td>hsa-let-7f-2-3p,hsa-miR-1185-1-3p,hsa-miR-1185...</td>\n",
              "    </tr>\n",
              "    <tr>\n",
              "      <th>23</th>\n",
              "      <td>let-7i-3p</td>\n",
              "      <td>UGCGCAA</td>\n",
              "      <td>9606</td>\n",
              "      <td>hsa-let-7i-3p</td>\n",
              "      <td>CTGCGCAAGCTACTGCCTTGCT</td>\n",
              "      <td>-1</td>\n",
              "      <td>MIMAT0004585</td>\n",
              "      <td>22</td>\n",
              "      <td>hsa-let-7i-3p</td>\n",
              "    </tr>\n",
              "    <tr>\n",
              "      <th>265</th>\n",
              "      <td>miR-1-3p/206</td>\n",
              "      <td>GGAAUGU</td>\n",
              "      <td>9606</td>\n",
              "      <td>hsa-miR-206</td>\n",
              "      <td>TGGAATGTAAGGAAGTGTGTGG</td>\n",
              "      <td>2</td>\n",
              "      <td>MIMAT0000462</td>\n",
              "      <td>22</td>\n",
              "      <td>hsa-miR-1-3p,hsa-miR-206,hsa-miR-613</td>\n",
              "    </tr>\n",
              "    <tr>\n",
              "      <th>338</th>\n",
              "      <td>miR-1-5p</td>\n",
              "      <td>CAUACUU</td>\n",
              "      <td>9606</td>\n",
              "      <td>hsa-miR-1-5p</td>\n",
              "      <td>ACATACTTCTTTATATGCCCAT</td>\n",
              "      <td>-1</td>\n",
              "      <td>MIMAT0031892</td>\n",
              "      <td>22</td>\n",
              "      <td>hsa-miR-1-5p</td>\n",
              "    </tr>\n",
              "  </tbody>\n",
              "</table>\n",
              "</div>"
            ],
            "text/plain": [
              "                                miR family  ...                                            members\n",
              "2                           let-7-5p/98-5p  ...  hsa-let-7a-5p,hsa-let-7b-5p,hsa-let-7c-5p,hsa-...\n",
              "11                   let-7a-2-3p/let-7g-3p  ...                      hsa-let-7a-2-3p,hsa-let-7g-3p\n",
              "13   let-7a-3p/let-7b-3p/let-7f-1-3p/98-3p  ...  hsa-let-7a-3p,hsa-let-7b-3p,hsa-let-7f-1-3p,hs...\n",
              "17                               let-7c-3p  ...                                      hsa-let-7c-3p\n",
              "18                               let-7d-3p  ...                                      hsa-let-7d-3p\n",
              "19                               let-7e-3p  ...                                      hsa-let-7e-3p\n",
              "20                     let-7f-2-3p/1185-3p  ...  hsa-let-7f-2-3p,hsa-miR-1185-1-3p,hsa-miR-1185...\n",
              "23                               let-7i-3p  ...                                      hsa-let-7i-3p\n",
              "265                           miR-1-3p/206  ...               hsa-miR-1-3p,hsa-miR-206,hsa-miR-613\n",
              "338                               miR-1-5p  ...                                       hsa-miR-1-5p\n",
              "\n",
              "[10 rows x 9 columns]"
            ]
          },
          "metadata": {
            "tags": []
          },
          "execution_count": 24
        }
      ]
    }
  ]
}
