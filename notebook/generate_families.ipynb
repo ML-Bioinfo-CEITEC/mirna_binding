{
 "cells": [
    {
      "cell_type": "markdown",
      "metadata": {
        "id": "view-in-github",
        "colab_type": "text"
      },
      "source": [
        "<a href=\"https://colab.research.google.com/github/ML-Bioinfo-CEITEC/mirna_binding/blob/master/notebook/generate_families.ipynb\" target=\"_parent\"><img src=\"https://colab.research.google.com/assets/colab-badge.svg\" alt=\"Open In Colab\"/></a>"
      ]
    },
  {
   "cell_type": "markdown",
   "metadata": {},
   "source": [
    "# Generate microRNA families DB\n",
    "\n",
    "Download microRNA families from [targetscan](wwww.targetscan.org) and sanified it for project `microRNA_binding`.\n",
    "\n",
    "The \"sanified\" dataset contains unique microRNA for each family, and it considers only microRNA of length >= 20nt.\n",
    "\n",
    "Nucleotide \"U\" is replaced with \"T\".\n"
   ]
  },
  {
   "cell_type": "code",
   "execution_count": 1,
   "metadata": {},
   "outputs": [],
   "source": [
    "import pandas as pd\n",
    "import numpy as np\n",
    "import seaborn as sns\n",
    "import matplotlib.pyplot as plt\n",
    "\n",
    "# set seed for reproducibility\n",
    "np.random.seed(1789)\n",
    "# retrive only microRNA of len\n",
    "min_microrna_len = 20\n",
    "# targetscan species id field\n",
    "human_id = 9606\n",
    "# save info\n",
    "save_to = './'\n",
    "save_as = 'tarbased.sanified'"
   ]
  },
  {
   "cell_type": "markdown",
   "metadata": {},
   "source": [
    "### Download microRNA families dataset\n",
    "We used microRNA families dataset from [targetscan](www.targetscan.org)."
   ]
  },
  {
   "cell_type": "code",
   "execution_count": 35,
   "metadata": {},
   "outputs": [
    {
     "output_type": "stream",
     "name": "stdout",
     "text": "original targetscan dataframe shape is: (9994, 7)\nonly human entries dataset shape is: (2606, 7)\n"
    }
   ],
   "source": [
    "mirna_families_db_url = 'http://www.targetscan.org/vert_72/vert_72_data_download/miR_Family_Info.txt.zip'\n",
    "# load df from url\n",
    "families_db = pd.read_csv(mirna_families_db_url, sep='\\t')\n",
    "# retrive only human (9606) microRNA\n",
    "families_humans_db = families_db[families_db['Species ID'] == human_id].copy().reset_index(drop=True)\n",
    "\n",
    "print('original targetscan dataframe shape is:', families_db.shape)\n",
    "print('only human entries dataset shape is:', families_humans_db.shape)\n"
   ]
  },
  {
   "cell_type": "markdown",
   "metadata": {},
   "source": [
    "### pre-processing\n",
    "1. Remove microRNA with `NA` values in field `MiRBase Accession`."
   ]
  },
  {
   "cell_type": "code",
   "execution_count": 40,
   "metadata": {},
   "outputs": [
    {
     "output_type": "stream",
     "name": "stdout",
     "text": "miR family              0\nSeed+m8                 0\nSpecies ID              0\nMiRBase ID              0\nMature sequence         0\nFamily Conservation?    0\nMiRBase Accession       0\ndtype: int64\noriginal dataset shape is: (2580, 7)\noriginal dataset shape without \"NA\" values is: (2580, 7)\n"
    }
   ],
   "source": [
    "print(families_humans_db.isna().sum())\n",
    "\n",
    "print('original dataset shape is:', families_humans_db.shape)\n",
    "families_humans_db = families_humans_db.dropna()\n",
    "print('original dataset shape without \"NA\" values is:', families_humans_db.shape)\n",
    "\n",
    "\n"
   ]
  },
  {
   "cell_type": "markdown",
   "metadata": {},
   "source": [
    "2. Filters miRNA sequences < 20 nt length, and replace nucleotide \"U\" to \"T\".\n"
   ]
  },
  {
   "cell_type": "code",
   "execution_count": 41,
   "metadata": {},
   "outputs": [
    {
     "output_type": "stream",
     "name": "stdout",
     "text": "original dataset shape is: (2580, 8)\nprocessed dataset shape is: (2339, 8)\n"
    }
   ],
   "source": [
    "families_humans_db['sequence_len'] = families_humans_db.apply(lambda x: len(x['Mature sequence']), axis=1)\n",
    "families_humans_db_filtered = families_humans_db[families_humans_db['sequence_len'] >= min_microrna_len].copy()\n",
    "families_humans_db_filtered['Mature sequence'] = families_humans_db_filtered['Mature sequence'].str.replace('U', 'T')\n",
    "\n",
    "print('original dataset shape is:', families_humans_db.shape)\n",
    "print('processed dataset shape is:', families_humans_db_filtered.shape)"
   ]
  },
  {
   "cell_type": "markdown",
   "metadata": {},
   "source": [
    "### Retrive a random RNA for each family\n",
    "This cell loop over the `families_humans_db` and randomly select a microRNA, which will represent the family.\n",
    "\n",
    "MicroRNAs of each family are listed under the new column field `members`."
   ]
  },
  {
   "cell_type": "code",
   "execution_count": 43,
   "metadata": {
    "tags": [
     "outputPrepend",
     "outputPrepend",
     "outputPrepend",
     "outputPrepend",
     "outputPrepend",
     "outputPrepend",
     "outputPrepend",
     "outputPrepend",
     "outputPrepend",
     "outputPrepend",
     "outputPrepend",
     "outputPrepend",
     "outputPrepend",
     "outputPrepend",
     "outputPrepend",
     "outputPrepend",
     "outputPrepend",
     "outputPrepend",
     "outputPrepend",
     "outputPrepend",
     "outputPrepend",
     "outputPrepend",
     "outputPrepend",
     "outputPrepend",
     "outputPrepend",
     "outputPrepend",
     "outputPrepend",
     "outputPrepend",
     "outputPrepend",
     "outputPrepend",
     "outputPrepend",
     "outputPrepend",
     "outputPrepend",
     "outputPrepend",
     "outputPrepend",
     "outputPrepend",
     "outputPrepend",
     "outputPrepend",
     "outputPrepend",
     "outputPrepend",
     "outputPrepend",
     "outputPrepend",
     "outputPrepend",
     "outputPrepend",
     "outputPrepend",
     "outputPrepend",
     "outputPrepend",
     "outputPrepend",
     "outputPrepend",
     "outputPrepend",
     "outputPrepend"
    ]
   },
   "outputs": [
    {
     "output_type": "stream",
     "name": "stdout",
     "text": "family size min,max,std values::1:22:1.2441489361702127\nfamily size original db shape is:(2339, 8)\nfamily size unique db shape is:(1880, 9)\n"
    }
   ],
   "source": [
    "# generate array of family size distribution.\n",
    "family_size = list()\n",
    "family_repres = list()\n",
    "for index, (family_id, group) in enumerate(families_humans_db_filtered.groupby('miR family')):\n",
    "    family_size.append(group.shape[0])\n",
    "    group['members'] = np.unique(group['MiRBase ID']).tolist()\n",
    "    family_repres.append(group.sample(n=1))\n",
    "\n",
    "array = np.array(family_size, dtype='int')\n",
    "families_humans_unique = pd.concat(family_repres)\n",
    "\n",
    "print('family size min,max,std values:', array.min(), array.max(), array.mean(), sep=':')\n",
    "print('family size original db shape is', families_humans_db_filtered.shape, sep=':')\n",
    "print('family size unique db shape is', families_humans_unique.shape, sep=':')"
   ]
  },
  {
   "cell_type": "markdown",
   "metadata": {},
   "source": [
    "### save filtered microRNA dataset as FASTA file"
   ]
  },
  {
   "cell_type": "code",
   "execution_count": 44,
   "metadata": {},
   "outputs": [],
   "source": [
    "with open(save_to + save_as + '.fasta', 'w') as outfasta:\n",
    "    for index, row in families_humans_unique.iterrows():\n",
    "        outfasta.write(f'>{row[\"miR family\"]}\\n{row[\"Mature sequence\"]}\\n')\n"
   ]
  },
  {
   "cell_type": "markdown",
   "metadata": {},
   "source": [
    "### save filtered microRNA dataset as tsv table"
   ]
  },
  {
   "cell_type": "code",
   "execution_count": 45,
   "metadata": {},
   "outputs": [],
   "source": [
    "families_humans_unique.to_csv(save_to + save_as + '.tsv', sep='\\t', index=False)"
   ]
  }
 ],
 "metadata": {
  "language_info": {
   "codemirror_mode": {
    "name": "ipython",
    "version": 3
   },
   "file_extension": ".py",
   "mimetype": "text/x-python",
   "name": "python",
   "nbconvert_exporter": "python",
   "pygments_lexer": "ipython3",
   "version": "3.7.6-final"
  },
  "orig_nbformat": 2,
  "kernelspec": {
   "name": "python3",
   "display_name": "Python 3"
  }
 },
 "nbformat": 4,
 "nbformat_minor": 2
}
