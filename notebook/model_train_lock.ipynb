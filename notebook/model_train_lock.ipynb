{
  "nbformat": 4,
  "nbformat_minor": 0,
  "metadata": {
    "accelerator": "GPU",
    "colab": {
      "name": "model_train_lock_v2.ipynb",
      "provenance": [],
      "collapsed_sections": [],
      "toc_visible": true
    },
    "kernelspec": {
      "display_name": "Python 3",
      "name": "python3"
    }
  },
  "cells": [
    {
      "cell_type": "markdown",
      "metadata": {
        "id": "0Kqp-C2JVQzx"
      },
      "source": [
        "# General Python Modules"
      ]
    },
    {
      "cell_type": "code",
      "metadata": {
        "id": "Y8RXNyFkVQzy"
      },
      "source": [
        "import os\n",
        "import pandas as pd\n",
        "import numpy as np\n",
        "import joblib\n",
        "from multiprocessing import Pool\n",
        "from functools import partial\n",
        "from sklearn.metrics import f1_score\n",
        "from sklearn.model_selection import train_test_split\n",
        "from tqdm.notebook import tqdm\n",
        "from matplotlib import pyplot as plt\n",
        "import seaborn as sns"
      ],
      "execution_count": null,
      "outputs": []
    },
    {
      "cell_type": "markdown",
      "metadata": {
        "id": "kM-j2Qb9VQz3"
      },
      "source": [
        "## Data Preprocessing"
      ]
    },
    {
      "cell_type": "markdown",
      "metadata": {
        "id": "Q5WEKUYdREFR"
      },
      "source": [
        "### Download the pre-processed ENCORI dataset.\n",
        "\n",
        "The Encori Dataset was obtained by downloading the whole dataset through the\n",
        "Encori API at [URL](http://www.sysu.edu.cn/403.html).\n",
        "\n",
        "The dataset is divided into train and test set:\n",
        "\n",
        "- test set is represented by samples mapping on chromosome 1  \n",
        "- train set can be represented by any of the samples except those mapping on chromosome 1  \n",
        "\n",
        "The train set should be made of a total number of 179148 samples.\n",
        "\n",
        "The cell below downloads the train set from the project folder on Github.\n",
        "\n",
        "The train set corresponds to ENCORI samples not mapping on chromosome 1."
      ]
    },
    {
      "cell_type": "code",
      "metadata": {
        "colab": {
          "base_uri": "https://localhost:8080/"
        },
        "id": "DFKLSi6YkKxG",
        "outputId": "806ab29f-c84d-4a42-c5f7-af0a72bac6ef"
      },
      "source": [
        "!wget https://github.com/ML-Bioinfo-CEITEC/mirna_binding/raw/master/data/datasets/train_set_positives.tar.xz\n",
        "!tar -xvf train_set_positives.tar.xz"
      ],
      "execution_count": null,
      "outputs": [
        {
          "output_type": "stream",
          "text": [
            "--2020-12-06 12:25:13--  https://github.com/ML-Bioinfo-CEITEC/mirna_binding/raw/master/data/datasets/train_set_positives.tar.xz\n",
            "Resolving github.com (github.com)... 192.30.255.112\n",
            "Connecting to github.com (github.com)|192.30.255.112|:443... connected.\n",
            "HTTP request sent, awaiting response... 302 Found\n",
            "Location: https://raw.githubusercontent.com/ML-Bioinfo-CEITEC/mirna_binding/master/data/datasets/train_set_positives.tar.xz [following]\n",
            "--2020-12-06 12:25:13--  https://raw.githubusercontent.com/ML-Bioinfo-CEITEC/mirna_binding/master/data/datasets/train_set_positives.tar.xz\n",
            "Resolving raw.githubusercontent.com (raw.githubusercontent.com)... 151.101.0.133, 151.101.64.133, 151.101.128.133, ...\n",
            "Connecting to raw.githubusercontent.com (raw.githubusercontent.com)|151.101.0.133|:443... connected.\n",
            "HTTP request sent, awaiting response... 200 OK\n",
            "Length: 6693928 (6.4M) [application/octet-stream]\n",
            "Saving to: ‘train_set_positives.tar.xz’\n",
            "\n",
            "train_set_positives 100%[===================>]   6.38M  --.-KB/s    in 0.1s    \n",
            "\n",
            "2020-12-06 12:25:14 (47.3 MB/s) - ‘train_set_positives.tar.xz’ saved [6693928/6693928]\n",
            "\n",
            "train_set_positives.tsv\n"
          ],
          "name": "stdout"
        }
      ]
    },
    {
      "cell_type": "markdown",
      "metadata": {
        "id": "6dxgZfJkVQz4"
      },
      "source": [
        "## General notebook functions\n",
        "\n",
        "A set of functions used to generate a one hot encoding version of the sequences and dot matrix."
      ]
    },
    {
      "cell_type": "markdown",
      "metadata": {
        "id": "f8ki8MBIVQz5"
      },
      "source": [
        "### Convert the input nucleotide sequences to arrays.\n",
        "\n",
        "The code below takes as an input a table of three columns:\n",
        "\n",
        "- genomic binding site ( 50nt length);\n",
        "- microRNA sequence (20nt length);\n",
        "- label: class [ positive or negative ];\n",
        "\n",
        "It outputs a list of arrays as:\n",
        "\n",
        "1. 2d matrix of binding vs microRNA with 2 channels. The first channel is watson-crick score, the second channel is relative position of microRNA (or zero if not required).\n",
        "2.  Binding site sequence as tensor of shape 50 x 4, where each channel is a nucleotide.\n",
        "3.  MicroRNA sequence as tensor of shape 20 x 4, where each channel is a nucleotide.\n",
        "4.  Labels: numpy array [ 0 or 1, as negatie or positive].\n"
      ]
    },
    {
      "cell_type": "code",
      "metadata": {
        "id": "xSyNc2e_VQz6"
      },
      "source": [
        "def one_hot_encoding(df, tensor_dim=(50,20,1), categories=False):\n",
        "    \"\"\"\n",
        "    fun transform input database to one hot encoding numpy array.\n",
        "    \n",
        "    parameters:\n",
        "    df = Pandas df with col names \"binding_sequence\", \"label\", \"mirna_binding_sequence\"\n",
        "    tensor_dim= 2d matrix shape\n",
        "    \n",
        "    output:\n",
        "    2d dot matrix, labels as np array\n",
        "    \"\"\"\n",
        "\n",
        "    # reset df indexes (needed for multithreading)\n",
        "    df.reset_index(inplace=True, drop=True)\n",
        "\n",
        "    # alphabet for watson-crick interactions.\n",
        "    alphabet = {\"AT\": 1., \"TA\": 1., \"GC\": 1., \"CG\": 1.} \n",
        "\n",
        "    # labels to one hot encoding\n",
        "    if \"label\" in df.columns:\n",
        "        if categories:\n",
        "            labels = pd.get_dummies(df[\"label\"])\n",
        "        else:\n",
        "            labels = np.where(df[\"label\"] == 'positive', 1, 0)\n",
        "    else:\n",
        "        labels = None\n",
        "    # create empty main 2d matrix array\n",
        "    N = df.shape[0] # number of samples in df\n",
        "    shape_matrix_2d = (N, *tensor_dim) # 2d matrix shape \n",
        "    # initialize dot matrix with zeros\n",
        "    ohe_matrix_2d = np.zeros(shape_matrix_2d, dtype=\"float32\")\n",
        "\n",
        "    # compile matrix with watson-crick interactions.\n",
        "    for index, row in df.iterrows():        \n",
        "        for bind_index, bind_nt in enumerate(row.binding_sequence.upper()):\n",
        "        \n",
        "            for mirna_index, mirna_nt in enumerate(\n",
        "                row.mirna_binding_sequence.upper()\n",
        "                ):\n",
        "\n",
        "                base_pairs = bind_nt + mirna_nt\n",
        "                # \n",
        "                ohe_matrix_2d[index, bind_index, mirna_index, 0] = alphabet.get(base_pairs, 0)\n",
        "    \n",
        "\n",
        "    return ohe_matrix_2d, labels"
      ],
      "execution_count": null,
      "outputs": []
    },
    {
      "cell_type": "markdown",
      "metadata": {
        "id": "ZLzDFlwDVQ0G"
      },
      "source": [
        "### Parallelized conversion of an array/dataframe to 2D matrix\n",
        "\n",
        "The function bellow takes as an input a Pandas df or numpy array and splits it into batches for parallelization.\n",
        "\n",
        "Usage:\n",
        "\n",
        "`output = multithread(df, one_hot_encoding, aux=False, log=False, n_cores=24)`  \n",
        "`data = join_cores_results(output, aux=True)`"
      ]
    },
    {
      "cell_type": "code",
      "metadata": {
        "id": "0Uyte4-QVQ0G"
      },
      "source": [
        "def join_cores_results(multithread_output):\n",
        "    \"\"\"\n",
        "    join the output of different core processes \n",
        "    \n",
        "    paramenters:\n",
        "    multithread_out=\n",
        "\n",
        "    returns:\n",
        "    concateneted array_2d_matrix and labels of all jobs\n",
        "    \"\"\"\n",
        "    array_2d_matrix = np.concatenate(\n",
        "        [ process[0] for process in multithread_output ]\n",
        "    )\n",
        "    array_labels = np.concatenate(\n",
        "    [ process[1] for process in multithread_output ]\n",
        "    )\n",
        "    return array_2d_matrix, array_labels"
      ],
      "execution_count": null,
      "outputs": []
    },
    {
      "cell_type": "code",
      "metadata": {
        "id": "-e3k_bTIVQ0K"
      },
      "source": [
        "def multithread(df, func, n_cores=4):\n",
        "    \"\"\"\n",
        "    split input dataset into equal parts and parallelize function\n",
        "\n",
        "    paramenters:\n",
        "    df=input Pandas dataframe\n",
        "    fun=applied function\n",
        "    n_cores=number of cores (def.4)\n",
        "    \"\"\"\n",
        "    iterable = np.array_split(df, n_cores)\n",
        "    pool = Pool(n_cores)\n",
        "    lock_func = partial(func)\n",
        "    df_update = pool.map(lock_func, iterable)\n",
        "    pool.close()\n",
        "    pool.join()\n",
        "    data = join_cores_results(df_update)\n",
        "    return data"
      ],
      "execution_count": null,
      "outputs": []
    },
    {
      "cell_type": "markdown",
      "metadata": {
        "id": "yyTAuqYUFdom"
      },
      "source": [
        "### Subsample the positive class from the main training set."
      ]
    },
    {
      "cell_type": "code",
      "metadata": {
        "id": "fxfgAPoJFhCW"
      },
      "source": [
        "def positive_sample_generator(df, size, random_state=None, reduce=True):\n",
        "    \"\"\"\n",
        "    random sampling of N samples from main dataframe.\n",
        "\n",
        "    paramenters:\n",
        "    df=Pandas dataframe\n",
        "    size=number of samples to extract (int.)\n",
        "    random_state=fix seed (int., def. None)\n",
        "    reduce=remove subsamples from main df (bool, def. True)\n",
        "\n",
        "    returns:\n",
        "    positive samples as Pandas dataframe and original dataframe\n",
        "    \"\"\"\n",
        "\n",
        "    #copy input df\n",
        "    X = df.copy()\n",
        "    positive_samples = X.sample(\n",
        "        n=size, random_state=random_state\n",
        "        ).copy()\n",
        "\n",
        "    to_drop = [ name for name in X.columns\n",
        "               if name not in [\n",
        "                    'mirna_binding_sequence', 'binding_sequence', 'label']\n",
        "               ]\n",
        "    positive_samples.drop(\n",
        "            to_drop, axis=1, inplace=True\n",
        "            )\n",
        "    if reduce:\n",
        "        df = X.drop(positive_samples.index, axis=0, inplace=False\n",
        "            ).reset_index(drop=True)\n",
        "    return positive_samples, df"
      ],
      "execution_count": null,
      "outputs": []
    },
    {
      "cell_type": "markdown",
      "metadata": {
        "id": "Qib6pgFAVQ0N"
      },
      "source": [
        "### Shuffle the positive class to create the negative one.\n",
        "\n",
        "The function generates the negative class by creating a connection between each\n",
        "\n",
        "binding site and all mirna (expect the real one). If argument mirna_dict is\n",
        "\n",
        "provided as dictionary of mirna sequences, this dictionary will be used to\n",
        "\n",
        "create the negative class. Otherwise, all unique mirna sequences of the input\n",
        "\n",
        "df will be used to generate samples for the negative class."
      ]
    },
    {
      "cell_type": "code",
      "metadata": {
        "id": "yvf3BayqVQ0O"
      },
      "source": [
        "def negative_class_generator(df, mirna_list=None, neg_ratio=None,\n",
        "                             random_state=None):\n",
        "    \"\"\"\n",
        "    random generation of negative samples.\n",
        "\n",
        "    paramenters:\n",
        "    df=Pandas dataframe\n",
        "    mirna_list=list of unique mirna sequences (list)\n",
        "    neg_ratio=sampling N samples from each negative connections (int.)\n",
        "    random_state=fix seed (int.)\n",
        "\n",
        "    returns:\n",
        "    negative samples as Pandas dataframe\n",
        "    \"\"\"\n",
        "    if not mirna_list:\n",
        "        # generate mirna db of unique sequences\n",
        "        mirnadb = pd.DataFrame(\n",
        "            df.mirna_binding_sequence.unique(), columns=['mirnaid']\n",
        "        )\n",
        "    else:\n",
        "        mirnadb = pd.DataFrame(mirna_list)\n",
        "        mirnadb.columns = ['mirnaid']\n",
        "    # add mirna db to each row of df\n",
        "    connections = mirnadb.assign(key=1).merge(\n",
        "          df.assign(key=1), on='key'\n",
        "          ).drop(['key', 'label'],axis=1)\n",
        "\n",
        "    # # find index of positive connection\n",
        "    positive_samples_mask = (connections.mirnaid == \n",
        "                             connections.mirna_binding_sequence)\n",
        "    # # drop positive connection to create negative samples\n",
        "    negative_df = connections[~positive_samples_mask].copy().drop(\n",
        "      ['mirna_binding_sequence'], axis=1\n",
        "      ).reset_index(drop=True)\n",
        "    # # rename cols\n",
        "    negative_df.columns = ['mirna_binding_sequence', 'binding_sequence']\n",
        "    # # add negative labels\n",
        "    negative_df['label'] = 'negative'\n",
        "    if neg_ratio == None:\n",
        "        return negative_df\n",
        "    else:\n",
        "        return(negative_df.groupby(\n",
        "    \"binding_sequence\").sample(n=neg_ratio).reset_index(drop=True))"
      ],
      "execution_count": null,
      "outputs": []
    },
    {
      "cell_type": "markdown",
      "metadata": {
        "id": "UCULz4UihFyY"
      },
      "source": [
        "### Generate dataset for training."
      ]
    },
    {
      "cell_type": "code",
      "metadata": {
        "id": "4x8Pozw0LJ8y"
      },
      "source": [
        "def generate_subsets(\n",
        "    df=None, size=None, neg_ratio=None, pos_df=None,\n",
        "    update=False, random_state=None, mirna_list=None\n",
        "    ):\n",
        "    \"\"\"\n",
        "    complete or partial replacement of training dataset;\n",
        "\n",
        "    paramenters:\n",
        "    df=Pandas df with all positive samples (def.None)\n",
        "    size=number of samples to subset from df (int., def.None)\n",
        "    neg_ratio=retio of negatives to be generated (int., def.None)\n",
        "    pos_df=subset of positive samples (Pandas df, def.None)\n",
        "    update=complete (True) or partial (False) replacement (bool, def.False)\n",
        "    \n",
        "    returns:\n",
        "    pos_df, neg_df, df\n",
        "    \"\"\"\n",
        "    if update:\n",
        "        pos_df, df = positive_sample_generator(\n",
        "            df, size, random_state=random_state\n",
        "            )\n",
        "    neg_df = negative_class_generator(\n",
        "        pos_df, neg_ratio=neg_ratio,\n",
        "        random_state=random_state, mirna_list=mirna_list\n",
        "        )\n",
        "    return pos_df, neg_df, df\n"
      ],
      "execution_count": null,
      "outputs": []
    },
    {
      "cell_type": "markdown",
      "metadata": {
        "id": "kOHWPfk6VQ0W"
      },
      "source": [
        "### Create Hand-Picked Mini-Batches.\n",
        "\n",
        "The function creates minibatches keeping the original positive-negative ratio \n",
        "\n",
        "and returns a list of minibatches (pos + neg together)."
      ]
    },
    {
      "cell_type": "markdown",
      "metadata": {
        "id": "ZfrlZ4jAt3wf"
      },
      "source": [
        "# Data viz"
      ]
    },
    {
      "cell_type": "markdown",
      "metadata": {
        "id": "HLVVvVJWu2MU"
      },
      "source": [
        "## Heatmaps"
      ]
    },
    {
      "cell_type": "code",
      "metadata": {
        "id": "9kjJngyvt-T1"
      },
      "source": [
        "import pprint\n",
        "from collections import defaultdict\n",
        "\n",
        "def make_heatmaps(\n",
        "    df_one,\n",
        "    labels_cat=None,\n",
        "    labels_cat_names=None,\n",
        "    pred_score=None,\n",
        "    size=None,\n",
        "    index=None):\n",
        "    if size:\n",
        "        random_sampling = np.random.choice(labels_cat.shape[0], size=size)\n",
        "    elif isinstance(index, np.ndarray):\n",
        "        random_sampling = index\n",
        "    elif index:\n",
        "        random_sampling = np.array(index)\n",
        "    else:\n",
        "        random_sampling = np.random.choice(labels_cat.shape[0], size=4)\n",
        "    if isinstance(pred_score, np.ndarray):\n",
        "        score_val = defaultdict(str)\n",
        "    if len(random_sampling) != 1:\n",
        "        fig, ax = plt.subplots(1, random_sampling.shape[0])\n",
        "        for i, index in enumerate(random_sampling):\n",
        "            cat_index = labels_cat[index]\n",
        "            cat_name = labels_cat_names[cat_index]\n",
        "            if isinstance(pred_score, np.ndarray):\n",
        "                score = np.take(pred_score, indices=[index], axis=0)\n",
        "                score_val[index] = score\n",
        "            else:\n",
        "                score = None\n",
        "            ax[i].title.set_text(f'cat:{cat_name[:3]}|{cat_index}|{index}')\n",
        "            ax[i].imshow(df_one[index].squeeze(), cmap='Blues')\n",
        "    else:\n",
        "        fig, ax = plt.subplots(1, 1, figsize=(100,100))\n",
        "        cat_index = labels_cat[index]\n",
        "        cat_name = labels_cat_names[cat_index]\n",
        "        if isinstance(pred_score, np.ndarray):\n",
        "            score = np.take(pred_score, indices=[index], axis=0)\n",
        "            score_val[index] = score\n",
        "        else:\n",
        "            score = None\n",
        "        ax.title.set_text(f'cat:{cat_name[:3]}|cat_i{cat_index}|i:{index}')\n",
        "        ax.imshow(df_one[index].squeeze(), cmap='Blues')\n",
        "    if isinstance(pred_score, np.ndarray):\n",
        "        pprint.pprint(score_val, width=1)\n",
        "    return(None)"
      ],
      "execution_count": null,
      "outputs": []
    },
    {
      "cell_type": "code",
      "metadata": {
        "id": "I7MDkyP4VQ0W"
      },
      "source": [
        "def make_minibatches(pos_samples, neg_samples, split_batch, log=None):\n",
        "    \"\"\"\n",
        "    split positive and negative samples dataframes into minibatches. This\n",
        "    function keeps the positive vs negative ratio within each batch.\n",
        "\n",
        "    paramenters:\n",
        "    pos_samples=Pandas df with all positive samples (def.None)\n",
        "    neg_samples=Pandas df with all negative samples (def.None)\n",
        "    split_batch=split dataset into N parts (int.)\n",
        "    \n",
        "    returns:\n",
        "    A list where each element is a minibatch\n",
        "    \"\"\"\n",
        "    \n",
        "    batches_list = []\n",
        "    ## split subset_pos.class into minibatches\n",
        "    ### see numpy doc for more details:\n",
        "    # https://docs.scipy.org/doc/numpy/reference/generated/numpy.split.html\n",
        "    batch_pos = np.array_split(pos_samples, split_batch)\n",
        "    ## split subset_neg into minibatches\n",
        "    ## of size == SPLIT_BATCH\n",
        "    batch_neg = np.array_split(neg_samples, split_batch)\n",
        "    ## zip together pos and neg subsets to create minibatches\n",
        "    for mini_index, minibatch_pairs in enumerate(zip(batch_pos, batch_neg)):\n",
        "        if log:\n",
        "            print(\n",
        "                    '### minibatch pair id is:',\n",
        "                    mini_index,\n",
        "                    'pos-neg shapes are:',\n",
        "                    minibatch_pairs[0].shape[0],\n",
        "                    minibatch_pairs[1].shape[0],\n",
        "                    sep='\\t'\n",
        "                    )\n",
        "        batch_train = pd.concat(minibatch_pairs)\n",
        "        # append each minibatch to minibatch list\n",
        "        batches_list.append(batch_train)\n",
        "    return batches_list"
      ],
      "execution_count": null,
      "outputs": []
    },
    {
      "cell_type": "markdown",
      "metadata": {
        "id": "TiIebzWcVQ0Z"
      },
      "source": [
        "# Build the Model."
      ]
    },
    {
      "cell_type": "markdown",
      "metadata": {
        "id": "LruikfMULOvo"
      },
      "source": [
        "### Load TensorFlow and modules."
      ]
    },
    {
      "cell_type": "code",
      "metadata": {
        "id": "kYP4EyTqVQ0b"
      },
      "source": [
        "from tensorflow import keras as keras \n",
        "from tensorflow.keras.layers import (\n",
        "                                BatchNormalization, LeakyReLU,\n",
        "                                Input, Dense, Conv2D,\n",
        "                                MaxPooling2D, Flatten, Dropout)\n",
        "\n",
        "from tensorflow.keras import Model\n",
        "from tensorflow.keras.models import load_model\n",
        "from tensorflow.keras import backend as K\n",
        "from tensorflow.keras.callbacks import EarlyStopping, LearningRateScheduler\n",
        "from tensorflow.keras.optimizers import Adam"
      ],
      "execution_count": null,
      "outputs": []
    },
    {
      "cell_type": "markdown",
      "metadata": {
        "id": "IOxyo5KMVQ0a"
      },
      "source": [
        "### Model architecture:"
      ]
    },
    {
      "cell_type": "code",
      "metadata": {
        "id": "I2UyJlgiVQ0e"
      },
      "source": [
        "def make_arch_00b():\n",
        "    \"\"\"\n",
        "    build model archietecture as described in the manuscript.\n",
        "\n",
        "    return a model object\n",
        "    \"\"\"\n",
        "    main_input = Input(shape=(50,20,1),\n",
        "                       dtype='float32', name='main_input'\n",
        "                       )\n",
        "\n",
        "    x = Conv2D(\n",
        "        filters=32,\n",
        "        kernel_size=(3, 3),\n",
        "        padding=\"same\",\n",
        "        data_format=\"channels_last\",\n",
        "        name=\"conv_1\")(main_input)    \n",
        "    x = LeakyReLU()(x)\n",
        "    x = BatchNormalization()(x)\n",
        "    x = MaxPooling2D(pool_size=(2, 2), name='Max_1')(x)\n",
        "    x = Dropout(rate = 0.25)(x)\n",
        "\n",
        "    x = Conv2D(\n",
        "        filters=64,\n",
        "        kernel_size=(3, 3),\n",
        "        padding=\"same\",\n",
        "        data_format=\"channels_last\",\n",
        "        name=\"conv_2\")(x)\n",
        "    x = LeakyReLU()(x)\n",
        "    x = BatchNormalization()(x)\n",
        "    x = MaxPooling2D(pool_size=(2, 2), name='Max_2')(x)\n",
        "    x = Dropout(rate = 0.25)(x)\n",
        "\n",
        "    x = Conv2D(\n",
        "        filters=128,\n",
        "        kernel_size=(3, 3),\n",
        "        padding=\"same\",\n",
        "        data_format=\"channels_last\",\n",
        "        name=\"conv_3\")(x)\n",
        "    x = LeakyReLU()(x)\n",
        "    x = BatchNormalization()(x)\n",
        "    x = MaxPooling2D(pool_size=(2, 2), name='Max_3')(x)\n",
        "    x = Dropout(rate = 0.25)(x)\n",
        "\n",
        "    conv_flat = Flatten(name='2d_matrix')(x)\n",
        "\n",
        "    x = Dense(128)(conv_flat)\n",
        "    x = LeakyReLU()(x)\n",
        "    x = BatchNormalization()(x)\n",
        "    x = Dropout(rate = 0.25)(x)\n",
        "\n",
        "    x = Dense(64)(x)\n",
        "    x = LeakyReLU()(x)\n",
        "    x = BatchNormalization()(x)\n",
        "    x = Dropout(rate = 0.25)(x)\n",
        "\n",
        "    x = Dense(32)(x)\n",
        "    x = LeakyReLU()(x)\n",
        "    x = BatchNormalization()(x)\n",
        "    x = Dropout(rate = 0.25)(x)\n",
        "\n",
        "    #main_output = Dense(1, activation='sigmoid', name='main_output')(x)\n",
        "    main_output = Dense(2, activation='softmax', name='main_output')(x)\n",
        "\n",
        "    model = Model(inputs=[main_input], outputs=[main_output], name='arch_00b')\n",
        "    \n",
        "    return model"
      ],
      "execution_count": null,
      "outputs": []
    },
    {
      "cell_type": "code",
      "metadata": {
        "id": "PtAFDR5cRPje"
      },
      "source": [
        "def compile_model():\n",
        "    K.clear_session()\n",
        "\n",
        "    model = make_arch_00b()\n",
        "    opt = Adam(\n",
        "        learning_rate=1e-3,\n",
        "        beta_1=0.9,\n",
        "        beta_2=0.999,\n",
        "        epsilon=1e-07,\n",
        "        amsgrad=False,\n",
        "        name=\"Adam\")\n",
        "\n",
        "    model.compile(\n",
        "        optimizer=opt,\n",
        "        loss='categorical_crossentropy',\n",
        "        )\n",
        "    return model"
      ],
      "execution_count": null,
      "outputs": []
    },
    {
      "cell_type": "markdown",
      "metadata": {
        "id": "NPhdv5GeVQ0h"
      },
      "source": [
        "### Training and evaluation functions:"
      ]
    },
    {
      "cell_type": "code",
      "metadata": {
        "id": "zDjQXXaiVQ0i"
      },
      "source": [
        "def train(\n",
        "    model, minibatch,\n",
        "    reset_metrics=True,\n",
        "    save=False,\n",
        "    fname=None\n",
        "    ):\n",
        "    \"\"\"\n",
        "    train model on selected minibatch.\n",
        "    Doc. at https://keras.io/api/models/model_training_apis/.\n",
        "\n",
        "    paramenters:\n",
        "    model=compiled Keras model\n",
        "    minibatch=set of X_train and labels\n",
        "    reset_metrics=If True, the metrics returned will be only for this batch.\n",
        "    If False, the metrics will be statefully accumulated across batches.\n",
        "    save=save model (bool, Def.False)\n",
        "    fname=model file name\n",
        "\n",
        "    returns:\n",
        "    trained model, batch loss\n",
        "    \"\"\"\n",
        "\n",
        "    X_ohe, y_ohe = minibatch  \n",
        "    model_loss = model.train_on_batch(\n",
        "        { \"main_input\" : X_ohe},\n",
        "        { \"main_output\" : y_ohe},\n",
        "        reset_metrics=reset_metrics\n",
        "        )\n",
        "\n",
        "    if save:\n",
        "        model.save(fname)\n",
        "    return model, model_loss"
      ],
      "execution_count": null,
      "outputs": []
    },
    {
      "cell_type": "code",
      "metadata": {
        "id": "SeeSUlHF5XwB"
      },
      "source": [
        "def eval_f1(\n",
        "    model, minibatch, pos_thr=0.5, save=False, fname=None, test=False\n",
        "    ):\n",
        "    \"\"\"\n",
        "    generate F1 score for the current minibatch\n",
        "    \n",
        "    paramenters:\n",
        "    model=trained model\n",
        "    minibatch=tuple of X and labels\n",
        "    pos_thr=threshold for positive class\n",
        "    save=save model if above f1 threshold (bool, Def.False)\n",
        "    fname=model file name\n",
        "\n",
        "    returns:\n",
        "    f1 score\n",
        "    \"\"\"\n",
        "    X, y_true = minibatch\n",
        "    if test:\n",
        "        y_pred = model.predict({'main_input' : X}, batch_size=32)\n",
        "    else:\n",
        "        y_pred = model.predict_on_batch({ \"main_input\" : X})\n",
        "    \n",
        "    y_pred_class = np.where(y_pred > pos_thr, 1, 0)\n",
        "    f1 = f1_score(y_true, y_pred_class)\n",
        "    return f1"
      ],
      "execution_count": null,
      "outputs": []
    },
    {
      "cell_type": "markdown",
      "metadata": {
        "id": "JuZ_x7AV7-cE"
      },
      "source": [
        "# In-Silico Modelling\n",
        "This section generates an in-silico miRNA to model known miRNA binding rules."
      ]
    },
    {
      "cell_type": "markdown",
      "metadata": {
        "id": "qYstNG0HjtNb"
      },
      "source": [
        "## Load the ENCORI DB."
      ]
    },
    {
      "cell_type": "code",
      "metadata": {
        "colab": {
          "base_uri": "https://localhost:8080/"
        },
        "id": "H3znYlIajv78",
        "outputId": "2dfc5323-1346-4e80-a661-e1c470c79a28"
      },
      "source": [
        "ENCORI_PATH = './train_set_positives.tsv'\n",
        "\n",
        "np.random.seed(1789)\n",
        "\n",
        "train_df = pd.read_csv(\n",
        "    ENCORI_PATH, sep='\\t',\n",
        "    usecols=['familyseqRepresentative', 'pos_sequence'])\n",
        "train_df.columns = [\n",
        "                    'binding_sequence',\n",
        "                    'mirna_binding_sequence'\n",
        "                    ]\n",
        "mirna_db_encori = train_df.mirna_binding_sequence.unique().tolist()\n",
        "mirna_db_encori_train, mirna_db_encori_test = train_test_split(\n",
        "    mirna_db_encori, train_size=0.8)\n",
        "\n",
        "\n",
        "print(f'extracted {len(mirna_db_encori)} unique mirna sequences')"
      ],
      "execution_count": null,
      "outputs": [
        {
          "output_type": "stream",
          "text": [
            "extracted 407 unique mirna sequences\n"
          ],
          "name": "stdout"
        }
      ]
    },
    {
      "cell_type": "markdown",
      "metadata": {
        "id": "ghHHrvcLG61x"
      },
      "source": [
        "## Define random mutation function.\n",
        "This function randomly mutates specific nucleotides upon probability threshold."
      ]
    },
    {
      "cell_type": "code",
      "metadata": {
        "colab": {
          "base_uri": "https://localhost:8080/"
        },
        "id": "VEI4Q7Zm94ID",
        "outputId": "1e29845b-4106-4052-a60f-9952f9d07376"
      },
      "source": [
        "import random\n",
        "import itertools\n",
        "\n",
        "def random_mutation(input_seq,\n",
        "                    end_mut, \n",
        "                    start_mut, \n",
        "                    p=0.5, \n",
        "                    nt_mut_prob=\"\", \n",
        "                    alphabet=np.array(list(\"ACGT\"))):\n",
        "    ''''\n",
        "    function takes as input a random sequence, \n",
        "    and mutate the user defined area.\n",
        "\n",
        "    paramenters:\n",
        "    input_seq=a nucleotide sequence (str)\n",
        "    mut_area=num index (int)\n",
        "    p=probability of mutation [0,1] (float)\n",
        "    nt_mut_prob=np array of mutation probability of each base\n",
        "    alphabet = nt alphabet from which pick mutation\n",
        "\n",
        "    returns:\n",
        "    mutated sequence (str)\n",
        "    '''\n",
        "    assert (end_mut <= len(input_seq)), \"end_mut > len(sequence)\"\n",
        "    assert (p <= 1.), \"prob mutation > 1\"\n",
        "    assert (start_mut != 0), \"index starts from 1, then it is corrected to python index\"\n",
        "    start_mut = start_mut - 1\n",
        "    # set nt mut prob if not provided\n",
        "    if nt_mut_prob == \"\":\n",
        "        std_value = 1/alphabet.shape[0]\n",
        "        nt_mut_prob = np.full(alphabet.shape, fill_value=std_value)\n",
        "\n",
        "    # convert input_set to list\n",
        "    out_seq = list(input_seq)\n",
        "    # mutate and replace\n",
        "    mutated_string = \"\"\n",
        "    mut_prob_array = np.random.random(size=end_mut - start_mut)\n",
        "    for index, i in enumerate(out_seq[start_mut : end_mut]):\n",
        "        if mut_prob_array[index] >= 1. - p:\n",
        "            mutated_nt = np.random.choice(alphabet, p=nt_mut_prob)\n",
        "            while mutated_nt == i:\n",
        "                mutated_nt = np.random.choice(alphabet, p=nt_mut_prob)\n",
        "            else:\n",
        "                mutated_string += mutated_nt\n",
        "        else:\n",
        "            mutated_string += i\n",
        "    out_seq[start_mut : end_mut] = mutated_string\n",
        "    # list to string\n",
        "    out_seq = ''.join(out_seq)\n",
        "    assert (len(input_seq) == len(out_seq)), \"input and output sequences have different length\"\n",
        "    return(out_seq)\n",
        "\n",
        "## run example\n",
        "seq_input_ = [\"AAAAAGGGGGGCCCCCC\", \"AAACGATCGAAAGGGGG\"]\n",
        "mirna_db_mut_ = [random_mutation(\n",
        "    i, start_mut=7, end_mut=10, p=1.) \n",
        "                        for i in seq_input_]\n",
        "# show some mutated sequences\n",
        "for i in range(len(seq_input_)):\n",
        "    mut_pos = ''.join([ \"|\" if mirna_db_mut_[i][ii] ==  seq_input_[i][ii] else \".\" \n",
        "                       for ii in range(len(seq_input_[i]))]) \n",
        "    print(f'{mirna_db_mut_[i]} mut\\n{mut_pos}\\n{seq_input_[i]} wt\\n')\n"
      ],
      "execution_count": null,
      "outputs": [
        {
          "output_type": "stream",
          "text": [
            "AAAAAGAACCGCCCCCC mut\n",
            "||||||....|||||||\n",
            "AAAAAGGGGGGCCCCCC wt\n",
            "\n",
            "AAACGAGGAGAAGGGGG mut\n",
            "||||||....|||||||\n",
            "AAACGATCGAAAGGGGG wt\n",
            "\n"
          ],
          "name": "stdout"
        }
      ]
    },
    {
      "cell_type": "markdown",
      "metadata": {
        "id": "yZhyLQQpW52r"
      },
      "source": [
        "This function generates a random set of in-silico miRNA-binding site connections."
      ]
    },
    {
      "cell_type": "code",
      "metadata": {
        "id": "p-s9k4cEXN_X",
        "colab": {
          "base_uri": "https://localhost:8080/"
        },
        "outputId": "af507dbf-a018-4057-f17f-5f6660fbfe3c"
      },
      "source": [
        "from collections import defaultdict\n",
        "\n",
        "def in_silico_connection(\n",
        "    mirna_wt=None,\n",
        "    mirna_len=None,\n",
        "    seq_wt=None, \n",
        "    seq_len=None, \n",
        "    nest=None, # can be wt or mut (str);\n",
        "    alphabet=np.array(list(\"ACGT\")),\n",
        "    nt_mut_prob=\"\",\n",
        "    nest_at=None,\n",
        "    nest_to=None,\n",
        "    end_mut = None, \n",
        "    start_mut = None, \n",
        "    p_mut=None\n",
        "    ):\n",
        "    def comp_rev(sequence):\n",
        "        alphabet = {\"A\" : \"T\", \"C\" : \"G\", \"T\" : \"A\", \"G\" : \"C\", \"N\" : \"N\"}\n",
        "        comprev = [alphabet[i] for i in list(sequence)][::-1]\n",
        "        return(comprev)\n",
        "    seq_info = defaultdict()\n",
        "    # set nt mut prob if not provided\n",
        "    if nt_mut_prob == \"\":\n",
        "        std_value = 1/alphabet.shape[0]\n",
        "        nt_mut_prob = np.full(alphabet.shape, fill_value=std_value)\n",
        "\n",
        "    if seq_len and not seq_wt:\n",
        "        assert seq_len, \"need seq_wt != None\"\n",
        "        seq_wt = [\n",
        "                  np.random.choice(alphabet, p=nt_mut_prob) \n",
        "                  for i in range(seq_len)]\n",
        "        seq_wt = ''.join(seq_wt)\n",
        "        assert (len(seq_wt) == seq_len), \"create seq: seq_wt len != input seq_len\"\n",
        "\n",
        "    if mirna_len and not mirna_wt:\n",
        "        assert mirna_len, \"need mirna_len != None\"\n",
        "        mirna_wt = [\n",
        "                     np.random.choice(alphabet, p=nt_mut_prob) \n",
        "                    for i in range(mirna_len)]\n",
        "        mirna_wt = ''.join(mirna_wt)        \n",
        "        assert (len(mirna_wt) == mirna_len), \"mirna_seq len != input mirna_len\"\n",
        "    mirna_mut = None\n",
        "    if nest != None:\n",
        "        if nest == 'wt':\n",
        "            nest_mirna = mirna_wt\n",
        "            assert mirna_wt, \"need mirna_seq\"\n",
        "        elif nest == 'mut':\n",
        "            assert start_mut, 'provide start_mut position'\n",
        "            #assert end_mut, 'provide end_mut position'\n",
        "            mirna_mut = random_mutation(\n",
        "                mirna_wt,\n",
        "                end_mut = end_mut, \n",
        "                start_mut = start_mut, \n",
        "                p=p_mut)\n",
        "            assert mirna_mut, \"need mirna_mut\"\n",
        "            nest_mirna = mirna_mut\n",
        "\n",
        "        assert seq_wt, \"need seq_wt\"\n",
        "        mirna_len, seq_len, seq_tmp = len(nest_mirna), len(seq_wt), list(seq_wt)\n",
        "        if not nest_at:\n",
        "            nest_at = random.randint(0, seq_len - mirna_len)\n",
        "        if not nest_to:\n",
        "            nest_to = nest_at + mirna_len  \n",
        "        mirna_revcomp = comp_rev(nest_mirna)\n",
        "        seq_mut = seq_tmp[:nest_at] + mirna_revcomp + seq_tmp[ nest_to : ]\n",
        "        seq_mut[nest_at : nest_to] = mirna_revcomp\n",
        "        seq_mut = ''.join(seq_mut)\n",
        "        assert len(seq_wt) == seq_len, f'nest mirna: seq_wt len != input seq_len | {seq_wt} and {seq_len} {nest_at} {nest_to}'\n",
        "    seq_info['mirna_mut'] = mirna_mut\n",
        "    seq_info['seq_wt'] = seq_wt\n",
        "    seq_info['mirna_wt'] = mirna_wt\n",
        "    seq_info['nest_at'] = nest_at\n",
        "    seq_info['nest_to'] = nest_to\n",
        "    seq_info['seq_mut'] = seq_mut\n",
        "    seq_info['mirna_revcomp'] = ''.join(mirna_revcomp)\n",
        "\n",
        "    return(seq_info)\n",
        "\n",
        "mirna_in = \"TAAAAAAAAG\"\n",
        "seq_in = \"TACAGAAGAGACTGGCAGGGCACTAATGATAGTCGAGTCCCCACTGTTCG\"\n",
        "\n",
        "seq_info = in_silico_connection(\n",
        "    mirna_wt=mirna_in,\n",
        "    mirna_len=20,\n",
        "    seq_len=50, \n",
        "    seq_wt=seq_in, \n",
        "    nest='mut',\n",
        "    start_mut=5,\n",
        "    end_mut=8,\n",
        "    alphabet=np.array(list(\"ACGT\")),\n",
        "    nt_mut_prob=\"\",\n",
        "    p_mut=1.,\n",
        "    nest_at=2\n",
        "    )\n",
        "\n",
        "print(seq_info['mirna_wt'] == mirna_in)\n",
        "print(seq_info['mirna_mut'] == mirna_in)\n",
        "\n",
        "print(seq_info['seq_wt'] == seq_in)\n",
        "print(seq_info['mirna_revcomp'] in seq_info['seq_mut'])\n",
        "print(seq_info['seq_mut'][seq_info['nest_at']:seq_info['nest_to']] == seq_info['mirna_revcomp'])"
      ],
      "execution_count": null,
      "outputs": [
        {
          "output_type": "stream",
          "text": [
            "True\n",
            "False\n",
            "True\n",
            "True\n",
            "True\n"
          ],
          "name": "stdout"
        }
      ]
    },
    {
      "cell_type": "markdown",
      "metadata": {
        "id": "HjvN1t2F2eG-"
      },
      "source": [
        "## Generate the datasets.\n",
        "Run scripts to create wt and mutated connections."
      ]
    },
    {
      "cell_type": "code",
      "metadata": {
        "id": "0TpvMXl_zMKu"
      },
      "source": [
        "# expand \n",
        "n_ = 1000 # connections per microrna\n",
        "seq_len = 50 # length of output sequence\n",
        "mirna_n = 50 # sample/generate n in-silico mirna\n",
        "neg_ratio = 1 # warn: neg_ratio != 1 >> class imbalance\n",
        "# generate n in-silico mirna\n",
        "# mirna_silico_wt = [in_silico_connection(mirna_len=20)[0] \n",
        "#                    for i in range(mirna_n)]\n",
        "df_list = list()\n",
        "# use read mirna\n",
        "random.seed(1789)\n",
        "mirna_db_wt = random.sample(mirna_db_encori_train, k=mirna_n)\n",
        "\n",
        "# generate n random connections, WITH nest option set to TRUE:\n",
        "# the microrna sequence will be nested within the in-silico binding sequence\n",
        "train_db_samples = [ in_silico_connection(\n",
        "                            mirna_wt=i,\n",
        "                            seq_len=50,\n",
        "                            nest='mut',\n",
        "                            end_mut = 20, \n",
        "                            start_mut = 7, \n",
        "                            p_mut=1.)\n",
        "                        for i in mirna_db_wt for n in range(n_) \n",
        "                        ]\n",
        "\n",
        "connection_silico_wt = pd.DataFrame([ [i['mirna_wt'], i['seq_mut']] \n",
        "                                     for i in train_db_samples ], \n",
        "                                    columns=[\n",
        "        'mirna_binding_sequence','binding_sequence']\n",
        "        ) \n",
        "# add labels\n",
        "connection_silico_wt[\"label\"] = \"positive\"\n",
        "#connection_silico_negative_shuffle[\"label\"] = \"negative\"\n",
        "\n",
        "connection_silico_negative_shuffle = negative_class_generator(\n",
        "     connection_silico_wt, \n",
        "     mirna_list=mirna_db_encori,\n",
        "     neg_ratio=neg_ratio\n",
        "     )\n",
        "\n",
        "assert (\n",
        "    connection_silico_negative_shuffle.shape[0] == connection_silico_wt.shape[0] * neg_ratio\n",
        "    ), \"negative class generator error\"\n",
        "\n"
      ],
      "execution_count": null,
      "outputs": []
    },
    {
      "cell_type": "markdown",
      "metadata": {
        "id": "tHFVB3BgDcBh"
      },
      "source": [
        "## Convert to one hot encoding."
      ]
    },
    {
      "cell_type": "markdown",
      "metadata": {
        "id": "ylLX4-xx4gjn"
      },
      "source": [
        "Convert both wt and mut connections to one hot encoding\n",
        "\n",
        "to generate a 2d matrix."
      ]
    },
    {
      "cell_type": "code",
      "metadata": {
        "id": "0PjhRKY4S32O"
      },
      "source": [
        "comb_df = pd.concat([\n",
        "                     connection_silico_wt,\n",
        "                     connection_silico_negative_shuffle]\n",
        "                    )\n",
        "\n",
        "df_one, labels_ohe = one_hot_encoding(\n",
        "    comb_df, tensor_dim=(50,20,1), categories=True)\n",
        "\n",
        "labels_cat = np.argmax(labels_ohe.to_numpy(), axis=1)\n",
        "labels_cat_names = labels_ohe.columns"
      ],
      "execution_count": null,
      "outputs": []
    },
    {
      "cell_type": "markdown",
      "metadata": {
        "id": "KDaZheEAbOba"
      },
      "source": [
        "Display the examples of mirna-binding site rendering."
      ]
    },
    {
      "cell_type": "code",
      "metadata": {
        "colab": {
          "base_uri": "https://localhost:8080/",
          "height": 281
        },
        "id": "wCXQhIelbVYy",
        "outputId": "fb9f7a58-98f9-4832-bd69-3399172258d5"
      },
      "source": [
        "make_heatmaps(\n",
        "    df_one=df_one,\n",
        "    labels_cat=labels_cat,\n",
        "    labels_cat_names=labels_cat_names,\n",
        "    size=2)"
      ],
      "execution_count": null,
      "outputs": [
        {
          "output_type": "display_data",
          "data": {
            "image/png": "[encoded data removed]",
            "text/plain": [
              "<Figure size 432x288 with 2 Axes>"
            ]
          },
          "metadata": {
            "tags": [],
            "needs_background": "light"
          }
        }
      ]
    },
    {
      "cell_type": "markdown",
      "metadata": {
        "id": "fK5BQiOw8LN2"
      },
      "source": [
        "## Train on the in-silico data."
      ]
    },
    {
      "cell_type": "code",
      "metadata": {
        "colab": {
          "base_uri": "https://localhost:8080/"
        },
        "id": "2JTtC07K8OY7",
        "outputId": "93d0938d-abad-4cd7-9194-d72ae9fdf186"
      },
      "source": [
        "model_id = '01'\n",
        "model = compile_model()\n",
        "model.summary()"
      ],
      "execution_count": null,
      "outputs": [
        {
          "output_type": "stream",
          "text": [
            "Model: \"arch_00b\"\n",
            "_________________________________________________________________\n",
            "Layer (type)                 Output Shape              Param #   \n",
            "=================================================================\n",
            "main_input (InputLayer)      [(None, 50, 20, 1)]       0         \n",
            "_________________________________________________________________\n",
            "conv_1 (Conv2D)              (None, 50, 20, 32)        320       \n",
            "_________________________________________________________________\n",
            "leaky_re_lu (LeakyReLU)      (None, 50, 20, 32)        0         \n",
            "_________________________________________________________________\n",
            "batch_normalization (BatchNo (None, 50, 20, 32)        128       \n",
            "_________________________________________________________________\n",
            "Max_1 (MaxPooling2D)         (None, 25, 10, 32)        0         \n",
            "_________________________________________________________________\n",
            "dropout (Dropout)            (None, 25, 10, 32)        0         \n",
            "_________________________________________________________________\n",
            "conv_2 (Conv2D)              (None, 25, 10, 64)        18496     \n",
            "_________________________________________________________________\n",
            "leaky_re_lu_1 (LeakyReLU)    (None, 25, 10, 64)        0         \n",
            "_________________________________________________________________\n",
            "batch_normalization_1 (Batch (None, 25, 10, 64)        256       \n",
            "_________________________________________________________________\n",
            "Max_2 (MaxPooling2D)         (None, 12, 5, 64)         0         \n",
            "_________________________________________________________________\n",
            "dropout_1 (Dropout)          (None, 12, 5, 64)         0         \n",
            "_________________________________________________________________\n",
            "conv_3 (Conv2D)              (None, 12, 5, 128)        73856     \n",
            "_________________________________________________________________\n",
            "leaky_re_lu_2 (LeakyReLU)    (None, 12, 5, 128)        0         \n",
            "_________________________________________________________________\n",
            "batch_normalization_2 (Batch (None, 12, 5, 128)        512       \n",
            "_________________________________________________________________\n",
            "Max_3 (MaxPooling2D)         (None, 6, 2, 128)         0         \n",
            "_________________________________________________________________\n",
            "dropout_2 (Dropout)          (None, 6, 2, 128)         0         \n",
            "_________________________________________________________________\n",
            "2d_matrix (Flatten)          (None, 1536)              0         \n",
            "_________________________________________________________________\n",
            "dense (Dense)                (None, 128)               196736    \n",
            "_________________________________________________________________\n",
            "leaky_re_lu_3 (LeakyReLU)    (None, 128)               0         \n",
            "_________________________________________________________________\n",
            "batch_normalization_3 (Batch (None, 128)               512       \n",
            "_________________________________________________________________\n",
            "dropout_3 (Dropout)          (None, 128)               0         \n",
            "_________________________________________________________________\n",
            "dense_1 (Dense)              (None, 64)                8256      \n",
            "_________________________________________________________________\n",
            "leaky_re_lu_4 (LeakyReLU)    (None, 64)                0         \n",
            "_________________________________________________________________\n",
            "batch_normalization_4 (Batch (None, 64)                256       \n",
            "_________________________________________________________________\n",
            "dropout_4 (Dropout)          (None, 64)                0         \n",
            "_________________________________________________________________\n",
            "dense_2 (Dense)              (None, 32)                2080      \n",
            "_________________________________________________________________\n",
            "leaky_re_lu_5 (LeakyReLU)    (None, 32)                0         \n",
            "_________________________________________________________________\n",
            "batch_normalization_5 (Batch (None, 32)                128       \n",
            "_________________________________________________________________\n",
            "dropout_5 (Dropout)          (None, 32)                0         \n",
            "_________________________________________________________________\n",
            "main_output (Dense)          (None, 2)                 66        \n",
            "=================================================================\n",
            "Total params: 301,602\n",
            "Trainable params: 300,706\n",
            "Non-trainable params: 896\n",
            "_________________________________________________________________\n"
          ],
          "name": "stdout"
        }
      ]
    },
    {
      "cell_type": "markdown",
      "metadata": {
        "id": "o2lkDAf8y-5w"
      },
      "source": [
        "## Train test split."
      ]
    },
    {
      "cell_type": "code",
      "metadata": {
        "id": "eGzxrQxtzAM7"
      },
      "source": [
        "from sklearn.model_selection import train_test_split\n",
        "\n",
        "X_train, X_test, y_train, y_test = train_test_split(\n",
        "    df_one, labels_ohe,\n",
        "    test_size = 0.1,\n",
        "    random_state=1789)"
      ],
      "execution_count": null,
      "outputs": []
    },
    {
      "cell_type": "markdown",
      "metadata": {
        "id": "pIWPjQfdzArW"
      },
      "source": [
        "## Train the model."
      ]
    },
    {
      "cell_type": "code",
      "metadata": {
        "colab": {
          "base_uri": "https://localhost:8080/"
        },
        "id": "GzNdaLqgpDSn",
        "outputId": "8b3aaa4a-4e9f-40a3-8b42-d8dc1b8f173c"
      },
      "source": [
        "my_callbacks = [\n",
        "    keras.callbacks.EarlyStopping(patience=5, restore_best_weights=True)]\n",
        "\n",
        "model_loss = model.fit(\n",
        "    X_train, y_train,\n",
        "    epochs=50,\n",
        "    batch_size=32,\n",
        "    validation_split=0.15,\n",
        "    callbacks=my_callbacks\n",
        ")    "
      ],
      "execution_count": null,
      "outputs": [
        {
          "output_type": "stream",
          "text": [
            "Epoch 1/50\n",
            "2391/2391 [==============================] - 15s 6ms/step - loss: 0.2686 - val_loss: 0.0235\n",
            "Epoch 2/50\n",
            "2391/2391 [==============================] - 14s 6ms/step - loss: 0.0639 - val_loss: 0.0194\n",
            "Epoch 3/50\n",
            "2391/2391 [==============================] - 16s 7ms/step - loss: 0.0477 - val_loss: 0.0263\n",
            "Epoch 4/50\n",
            "2391/2391 [==============================] - 15s 6ms/step - loss: 0.0385 - val_loss: 0.0213\n",
            "Epoch 5/50\n",
            "2391/2391 [==============================] - 15s 6ms/step - loss: 0.0325 - val_loss: 0.0236\n",
            "Epoch 6/50\n",
            "2391/2391 [==============================] - 14s 6ms/step - loss: 0.0288 - val_loss: 0.0238\n",
            "Epoch 7/50\n",
            "2391/2391 [==============================] - 14s 6ms/step - loss: 0.0244 - val_loss: 0.0194\n",
            "Epoch 8/50\n",
            "2391/2391 [==============================] - 14s 6ms/step - loss: 0.0228 - val_loss: 0.0116\n",
            "Epoch 9/50\n",
            "2391/2391 [==============================] - 14s 6ms/step - loss: 0.0208 - val_loss: 0.0226\n",
            "Epoch 10/50\n",
            "2391/2391 [==============================] - 15s 6ms/step - loss: 0.0197 - val_loss: 0.0188\n",
            "Epoch 11/50\n",
            "2391/2391 [==============================] - 14s 6ms/step - loss: 0.0165 - val_loss: 0.0177\n",
            "Epoch 12/50\n",
            "2391/2391 [==============================] - 14s 6ms/step - loss: 0.0170 - val_loss: 0.0216\n",
            "Epoch 13/50\n",
            "2391/2391 [==============================] - 14s 6ms/step - loss: 0.0143 - val_loss: 0.0111\n",
            "Epoch 14/50\n",
            "2391/2391 [==============================] - 14s 6ms/step - loss: 0.0145 - val_loss: 0.0227\n",
            "Epoch 15/50\n",
            "2391/2391 [==============================] - 14s 6ms/step - loss: 0.0132 - val_loss: 0.0159\n",
            "Epoch 16/50\n",
            "2391/2391 [==============================] - 14s 6ms/step - loss: 0.0131 - val_loss: 0.0160\n",
            "Epoch 17/50\n",
            "2391/2391 [==============================] - 14s 6ms/step - loss: 0.0119 - val_loss: 0.0182\n",
            "Epoch 18/50\n",
            "2391/2391 [==============================] - 14s 6ms/step - loss: 0.0117 - val_loss: 0.0116\n"
          ],
          "name": "stdout"
        }
      ]
    },
    {
      "cell_type": "markdown",
      "metadata": {
        "id": "AsTUjsq3pjd_"
      },
      "source": [
        "## Evaluate the model on the in-silico data."
      ]
    },
    {
      "cell_type": "code",
      "metadata": {
        "colab": {
          "base_uri": "https://localhost:8080/"
        },
        "id": "_vUF9FNUvtsT",
        "outputId": "04bb7611-9372-447c-f75a-f165cacb8549"
      },
      "source": [
        "from sklearn import metrics\n",
        "predict = model.predict(X_test)\n",
        "if predict.shape[1] != 2:\n",
        "    predict_cat = np.where(predict > 0.5, 1, 0)\n",
        "    y = y_test\n",
        "else:\n",
        "    predict_cat = np.argmax(predict, axis=1)\n",
        "    y = np.argmax(y_test.to_numpy(), axis=1)\n",
        "fpr, tpr, thresholds = metrics.roc_curve(y, predict_cat)\n",
        "print(f'AUC is:\\t{metrics.auc(fpr, tpr)}')\n",
        "print(metrics.classification_report(y, predict_cat))"
      ],
      "execution_count": null,
      "outputs": [
        {
          "output_type": "stream",
          "text": [
            "AUC is:\t0.9972831555645\n",
            "              precision    recall  f1-score   support\n",
            "\n",
            "           0       1.00      0.99      1.00      4969\n",
            "           1       0.99      1.00      1.00      5031\n",
            "\n",
            "    accuracy                           1.00     10000\n",
            "   macro avg       1.00      1.00      1.00     10000\n",
            "weighted avg       1.00      1.00      1.00     10000\n",
            "\n"
          ],
          "name": "stdout"
        }
      ]
    },
    {
      "cell_type": "code",
      "metadata": {
        "id": "Kk4z_5tX7pT5"
      },
      "source": [
        "keras.models.save_model(\n",
        "    model,f'./model_in_silico_moving_seed_db_{model_id}.h5', \n",
        "    overwrite=True, include_optimizer=True, save_format=None,\n",
        "    signatures=None, options=None)"
      ],
      "execution_count": null,
      "outputs": []
    },
    {
      "cell_type": "markdown",
      "metadata": {
        "id": "CMk2nnEKCKt-"
      },
      "source": [
        "## Model interpretation of the in-silico data.\n",
        "\n"
      ]
    },
    {
      "cell_type": "markdown",
      "metadata": {
        "id": "65TqrDK7Qrvn"
      },
      "source": [
        "### Create wild type dataset.\n",
        "\n",
        "A wild-type in-silico dataset is generated and the score is predicted by the model \"./model_in_silico.h5\"."
      ]
    },
    {
      "cell_type": "code",
      "metadata": {
        "id": "jnzaJVNrQrNg"
      },
      "source": [
        "# set seed\n",
        "np.random.seed(1789)\n",
        "# set N of microRNA to test\n",
        "mirna_n = 1\n",
        "#mirna_len = 20\n",
        "# set binding seq length\n",
        "seq_len = 50\n",
        "# sample a mirna\n",
        "mirna_db_wt = np.random.choice(mirna_db_encori_test, size=mirna_n)\n",
        "# number of samples (connections)\n",
        "n_ = 500\n",
        "neg_ratio = 1\n",
        "\n",
        "#print('selected mirna are:\\n', '\\n'.join(mirna_db_wt))\n",
        "test_db_samples = [ in_silico_connection(\n",
        "                            mirna_wt=i,\n",
        "                            seq_len=50,\n",
        "                            nest='mut',\n",
        "                            end_mut = 20, \n",
        "                            start_mut = 7, \n",
        "                            p_mut=1.)\n",
        "                        for i in mirna_db_wt for n in range(n_) \n",
        "                        ]\n",
        "\n",
        "\n",
        "connection_silico_wt = pd.DataFrame([ [i['mirna_wt'], i['seq_mut']] \n",
        "                                     for i in test_db_samples ], \n",
        "                                    columns=[\n",
        "        'mirna_binding_sequence','binding_sequence']\n",
        "        )\n",
        "# add labels\n",
        "connection_silico_wt[\"label\"] = \"positive\"\n",
        "\n",
        "# replace mutated mirna with wt if testing for seed\n",
        "#connection_silico_wt.mirna_binding_sequence = mirna_db_wt[0] # if mirna wt number == 1\n",
        "# generate negative class\n",
        "connection_silico_negative_shuffle = negative_class_generator(\n",
        "     connection_silico_wt, \n",
        "     mirna_list=mirna_db_encori_test,\n",
        "     neg_ratio=neg_ratio)\n",
        "\n",
        "test_set = pd.concat([connection_silico_wt, connection_silico_negative_shuffle])\n",
        "#convert to one hot encoding\n",
        "X_wt, y_cat = one_hot_encoding(\n",
        "        test_set, tensor_dim=(50,20,1), categories=True)\n",
        "\n",
        "# convert to 1d if categories\n",
        "labels_cat = np.argmax(\n",
        "    y_cat.to_numpy(),\n",
        "    axis=1)"
      ],
      "execution_count": null,
      "outputs": []
    },
    {
      "cell_type": "code",
      "metadata": {
        "colab": {
          "base_uri": "https://localhost:8080/"
        },
        "id": "fxCIlRURKUZw",
        "outputId": "1debc4ec-16e4-49af-ff1b-1de944858494"
      },
      "source": [
        "from sklearn import metrics\n",
        "predict = model.predict(X_wt)\n",
        "predict_cat = np.argmax(predict, axis=1)\n",
        "fpr, tpr, thresholds = metrics.roc_curve(labels_cat, predict_cat)\n",
        "print(f'AUC is:\\t{metrics.auc(fpr, tpr)}')\n",
        "target_names = [\"negative\", \"positive\"]\n",
        "print(metrics.classification_report(labels_cat, predict_cat, target_names=target_names))"
      ],
      "execution_count": null,
      "outputs": [
        {
          "output_type": "stream",
          "text": [
            "AUC is:\t0.997\n",
            "              precision    recall  f1-score   support\n",
            "\n",
            "    negative       0.99      1.00      1.00       500\n",
            "    positive       1.00      0.99      1.00       500\n",
            "\n",
            "    accuracy                           1.00      1000\n",
            "   macro avg       1.00      1.00      1.00      1000\n",
            "weighted avg       1.00      1.00      1.00      1000\n",
            "\n"
          ],
          "name": "stdout"
        }
      ]
    },
    {
      "cell_type": "markdown",
      "metadata": {
        "id": "cUfE0KR-YfwI"
      },
      "source": [
        "## find miss labeled samples"
      ]
    },
    {
      "cell_type": "code",
      "metadata": {
        "colab": {
          "base_uri": "https://localhost:8080/"
        },
        "id": "ENW3gBY1MfNN",
        "outputId": "fcb92d97-a64f-40c3-9c16-d8c37196a87f"
      },
      "source": [
        "failed_pred = np.where(predict_cat!=labels_cat)[0]\n",
        "\n",
        "labels_cat[failed_pred]"
      ],
      "execution_count": null,
      "outputs": [
        {
          "output_type": "execute_result",
          "data": {
            "text/plain": [
              "array([0, 0, 0, 0, 0])"
            ]
          },
          "metadata": {
            "tags": []
          },
          "execution_count": 41
        }
      ]
    },
    {
      "cell_type": "markdown",
      "metadata": {
        "id": "bVx_-z0VYipE"
      },
      "source": [
        "## print out miss labeled samples"
      ]
    },
    {
      "cell_type": "code",
      "metadata": {
        "colab": {
          "base_uri": "https://localhost:8080/",
          "height": 314
        },
        "id": "R4EF0hVX29un",
        "outputId": "d1a4aee6-4e85-4b96-8dd9-7e4f74025688"
      },
      "source": [
        "if failed_pred.shape[0] > 4:\n",
        "    show_n = np.random.choice(failed_pred, size=4)\n",
        "else:\n",
        "    show_n = failed_pred\n",
        "make_heatmaps(\n",
        "    df_one=X_wt,\n",
        "    pred_score=predict,\n",
        "    labels_cat=labels_cat,\n",
        "    labels_cat_names=y_cat.columns,\n",
        "    index=show_n)\n",
        "\n",
        "# defaultdict stores model predictions - 1st col is neg class."
      ],
      "execution_count": null,
      "outputs": [
        {
          "output_type": "stream",
          "text": [
            "defaultdict(<class 'str'>,\n",
            "            {1135: array([[0.01127421, 0.98872584]], dtype=float32),\n",
            "             1451: array([[0.00487841, 0.99512154]], dtype=float32),\n",
            "             1474: array([[0.01045681, 0.9895432 ]], dtype=float32)})\n"
          ],
          "name": "stdout"
        },
        {
          "output_type": "display_data",
          "data": {
            "image/png": "[encoded data removed]",
            "text/plain": [
              "<Figure size 432x288 with 4 Axes>"
            ]
          },
          "metadata": {
            "tags": [],
            "needs_background": "light"
          }
        }
      ]
    },
    {
      "cell_type": "markdown",
      "metadata": {
        "id": "xckuTfIIEGsf"
      },
      "source": [
        "### Testing code for seed model\n",
        "generates random mutation nt by nt along the binding site, taking and nesting the mirna within the in-silico random sequence. The model was trained on seed-only binding site."
      ]
    },
    {
      "cell_type": "code",
      "metadata": {
        "colab": {
          "base_uri": "https://localhost:8080/",
          "height": 621
        },
        "id": "7VjCt-cRD44O",
        "outputId": "e70542e9-51fe-404f-d249-2e44f1c3e5c5"
      },
      "source": [
        "from matplotlib import pyplot\n",
        "np.seterr(divide = 'ignore') \n",
        "# check class\n",
        "class_index = 1 # if 1 for + and 0 for -\n",
        "predict_wt = predict[ : , class_index][np.where(labels_cat == class_index)]\n",
        "pred_scores = list()\n",
        "mutate_all = True\n",
        "for save_nt in range(1, 2 ):\n",
        "    predictions = list()\n",
        "\n",
        "    for nucleotide in range(1, 21):\n",
        "        if mutate_all:\n",
        "            mut_prob = 1.\n",
        "        elif nucleotide <= 7:\n",
        "            mut_prob = 0.8\n",
        "        elif 13 <= nucleotide < 21:\n",
        "            mut_prob = 0.2\n",
        "        else:\n",
        "            mut_prob = 0.\n",
        "        #print(nucleotide, mut_prob)\n",
        "        test_mut_db_samples = [ in_silico_connection(\n",
        "                                    mirna_wt=i['mirna_wt'],\n",
        "                                    seq_wt=i['seq_wt'],\n",
        "                                    nest='mut',\n",
        "                                    end_mut = nucleotide, \n",
        "                                    start_mut = nucleotide,\n",
        "                                    p_mut=mut_prob)\n",
        "                                for i in test_db_samples \n",
        "                                ]\n",
        "\n",
        "\n",
        "        connection_silico_mut = pd.DataFrame([ [i['mirna_wt'], i['seq_mut']] \n",
        "                                            for i in test_mut_db_samples ], \n",
        "                                            columns=[\n",
        "                'mirna_binding_sequence','binding_sequence'])\n",
        "\n",
        "        # add labels\n",
        "        connection_silico_mut[\"label\"] = \"negative\"\n",
        "        \n",
        "        #print(connection_silico_mut.iloc[0, 0])\n",
        "        #print(connection_silico_mut.iloc[0, 1])\n",
        "        \n",
        "        X_mut, y_mut = one_hot_encoding(\n",
        "            connection_silico_mut, tensor_dim=(50,20,1))\n",
        "        predict_mut = model.predict(X_mut)\n",
        "        pred_scores.append(predict_mut)\n",
        "        predict_mut = predict_mut[ : , class_index]\n",
        "\n",
        "        #delta_score = np.log2(np.absolute( predict_wt - predict_mut ))\n",
        "        #delta_score = np.log2(predict_wt - predict_mut )\n",
        "        delta_score = predict_mut - predict_wt\n",
        "\n",
        "        t = pd.DataFrame(delta_score, columns=[\"delta_score\"])\n",
        "        t[\"mut_pos\"] = f'{nucleotide}' #|{delta_score.mean():.5f}'\n",
        "        predictions.append(t)\n",
        "\n",
        "    df = pd.concat(predictions)\n",
        "    df.to_csv(\"./loop_mutation.csv\", index=False)\n",
        "    fig, ax = pyplot.subplots(figsize=(25, 10))\n",
        "    ax = sns.boxplot(data=df, x=\"mut_pos\", y=\"delta_score\")\n",
        "    ax.set(xlabel='microrna: nucleotide mutated', \n",
        "        ylabel='Delta Score: pred_mut - pred_wt )')\n",
        "    ax.title.set_text(f'loop mutations')\n",
        "    #plt.xticks(rotation=45)\n",
        "    plt.savefig(f'loop_mutation.svg')\n",
        "    plt.show()\n"
      ],
      "execution_count": null,
      "outputs": [
        {
          "output_type": "display_data",
          "data": {
            "image/png": "[encoded data removed]",
            "text/plain": [
              "<Figure size 1800x720 with 1 Axes>"
            ]
          },
          "metadata": {
            "tags": [],
            "needs_background": "light"
          }
        }
      ]
    },
    {
      "cell_type": "code",
      "metadata": {
        "colab": {
          "base_uri": "https://localhost:8080/",
          "height": 315
        },
        "id": "cXjOO4NDmXSV",
        "outputId": "1336634a-e28b-4334-eb20-7b17d7f5b914"
      },
      "source": [
        "make_heatmaps(\n",
        "df_one=X_mut,\n",
        "pred_score=predict_mut,\n",
        "labels_cat=y_mut,\n",
        "labels_cat_names=y_cat.columns,\n",
        "size=2)\n"
      ],
      "execution_count": null,
      "outputs": [
        {
          "output_type": "stream",
          "text": [
            "defaultdict(<class 'str'>,\n",
            "            {0: array([8.834865e-05], dtype=float32)})\n"
          ],
          "name": "stdout"
        },
        {
          "output_type": "display_data",
          "data": {
            "image/png": "[encoded data removed]",
            "text/plain": [
              "<Figure size 432x288 with 2 Axes>"
            ]
          },
          "metadata": {
            "tags": [],
            "needs_background": "light"
          }
        }
      ]
    },
    {
      "cell_type": "markdown",
      "metadata": {
        "id": "QRkEgJ3xD581"
      },
      "source": [
        "### Testing code for baseline\n",
        "generates random mutation nt by nt along the binding site, taking and nesting the mirna within the in-silico random sequence."
      ]
    },
    {
      "cell_type": "code",
      "metadata": {
        "colab": {
          "base_uri": "https://localhost:8080/",
          "height": 320
        },
        "id": "sXa_riN04k-Q",
        "outputId": "184b77fc-636f-49ee-f885-ebd1ea594255"
      },
      "source": [
        "# testing code for baseline\n",
        "\n",
        "np.seterr(divide = 'ignore') \n",
        "predictions = list()\n",
        "for i in range(1,21,1):\n",
        "    # generate n random connections, WITH nest option set to TRUE:\n",
        "    # the microrna sequence will be nested within the in-silico binding sequence\n",
        "    if i <= 21:\n",
        "        mirna_silico_mut = [ [\n",
        "            random_mutation(mirna, start_mut=i, end_mut=i, p=1.)] * n_\n",
        "                                for mirna in mirna_db_wt ]\n",
        "    else:\n",
        "        mirna_silico_mut = [ [\n",
        "            random_mutation(mirna, start_mut=i, end_mut=i, p=0.)] * n_\n",
        "                                for mirna in mirna_db_wt ]\n",
        "    # mutate wt dataset to create the altereted dataset\n",
        "    mirna_silico_mut = list(itertools.chain.from_iterable(mirna_silico_mut))\n",
        "    connection_silico_mut = connection_silico_wt.copy()\n",
        "    connection_silico_mut.mirna_binding_sequence = mirna_silico_mut.copy()\n",
        "    X_mut, _ = one_hot_encoding(\n",
        "        connection_silico_mut, tensor_dim=(50,20,1))\n",
        "    predict_mut = model.predict(X_mut)\n",
        "    predict_mut = predict_mut[ : , 1] # take only pred from pos class\n",
        "    delta_score = np.log2(np.absolute( predict_wt - predict_mut )) # score diff for pos class only\n",
        "\n",
        "    t = pd.DataFrame(delta_score, columns=[\"delta_score\"])\n",
        "    t[\"mut_pos\"] = f'{i}|{delta_score.mean():.5f}'\n",
        "    predictions.append(t)\n",
        "\n",
        "df = pd.concat(predictions)\n",
        "ax = sns.boxplot(data=df, x=\"mut_pos\", y=\"delta_score\")\n",
        "ax.set(xlabel='microrna: mutated nt position', \n",
        "       ylabel='Delta Score: log2(pred_wt - pred_mut)')\n",
        "plt.xticks(rotation=45)\n",
        "plt.show()"
      ],
      "execution_count": null,
      "outputs": [
        {
          "output_type": "display_data",
          "data": {
            "image/png": "[encoded data removed]",
            "text/plain": [
              "<Figure size 432x288 with 1 Axes>"
            ]
          },
          "metadata": {
            "tags": [],
            "needs_background": "light"
          }
        }
      ]
    },
    {
      "cell_type": "markdown",
      "metadata": {
        "id": "rdB0_53PVQ0l"
      },
      "source": [
        "# Run Pipeline"
      ]
    },
    {
      "cell_type": "markdown",
      "metadata": {
        "id": "bBG2w3qNVQ0l"
      },
      "source": [
        "### Load Encori Dataset.\n",
        "\n",
        "Load the train set derived from ENCORI database."
      ]
    },
    {
      "cell_type": "code",
      "metadata": {
        "id": "t1Qh2AnHn02E",
        "colab": {
          "base_uri": "https://localhost:8080/",
          "height": 376
        },
        "outputId": "5eb59ed1-9451-4c34-85e4-558f9ba4c332"
      },
      "source": [
        "ENCORI_PATH = './train_set_positives.tsv'\n",
        "\n",
        "train_df = pd.read_csv(\n",
        "    ENCORI_PATH, sep='\\t',\n",
        "    usecols=['familyseqRepresentative', 'pos_sequence'])\n",
        "train_df['label'] = 'positive'\n",
        "train_df.columns = [\n",
        "                    'binding_sequence',\n",
        "                    'mirna_binding_sequence',\n",
        "                    'label'\n",
        "                    ]\n",
        "\n",
        "print(f'trainable encori samples are {train_df.shape}')\n",
        "train_df.head(10)"
      ],
      "execution_count": null,
      "outputs": [
        {
          "output_type": "stream",
          "text": [
            "trainable encori samples are (179148, 3)\n"
          ],
          "name": "stdout"
        },
        {
          "output_type": "execute_result",
          "data": {
            "text/html": [
              "<div>\n",
              "<style scoped>\n",
              "    .dataframe tbody tr th:only-of-type {\n",
              "        vertical-align: middle;\n",
              "    }\n",
              "\n",
              "    .dataframe tbody tr th {\n",
              "        vertical-align: top;\n",
              "    }\n",
              "\n",
              "    .dataframe thead th {\n",
              "        text-align: right;\n",
              "    }\n",
              "</style>\n",
              "<table border=\"1\" class=\"dataframe\">\n",
              "  <thead>\n",
              "    <tr style=\"text-align: right;\">\n",
              "      <th></th>\n",
              "      <th>binding_sequence</th>\n",
              "      <th>mirna_binding_sequence</th>\n",
              "      <th>label</th>\n",
              "    </tr>\n",
              "  </thead>\n",
              "  <tbody>\n",
              "    <tr>\n",
              "      <th>0</th>\n",
              "      <td>GCTTGGTCCTCAGGTATCTACCTCCCACCTTCTCCTCATCTGTGGA...</td>\n",
              "      <td>TGAGGTAGTAGGTTGTGTGG</td>\n",
              "      <td>positive</td>\n",
              "    </tr>\n",
              "    <tr>\n",
              "      <th>1</th>\n",
              "      <td>TGCTACCGCCACTAGCGCTGCTTCCACTGCTTCTACCTCCCCTCCC...</td>\n",
              "      <td>TGAGGTAGTAGGTTGTGTGG</td>\n",
              "      <td>positive</td>\n",
              "    </tr>\n",
              "    <tr>\n",
              "      <th>2</th>\n",
              "      <td>AGCGGGGCTTCTCCTGCCTCCATCACATCACAGAAGTACCTCCTGC...</td>\n",
              "      <td>TGAGGTAGTAGGTTGTGTGG</td>\n",
              "      <td>positive</td>\n",
              "    </tr>\n",
              "    <tr>\n",
              "      <th>3</th>\n",
              "      <td>AAAGAGAGGCATTGCCTGTCCTGTTACTACCTCGCAGCCTTACTAT...</td>\n",
              "      <td>TGAGGTAGTAGGTTGTGTGG</td>\n",
              "      <td>positive</td>\n",
              "    </tr>\n",
              "    <tr>\n",
              "      <th>4</th>\n",
              "      <td>GTAAAACAGGTGGATACCAACTACCTCGAAGCAAATTGGTGAAAGA...</td>\n",
              "      <td>TGAGGTAGTAGGTTGTGTGG</td>\n",
              "      <td>positive</td>\n",
              "    </tr>\n",
              "    <tr>\n",
              "      <th>5</th>\n",
              "      <td>CTACTGAAACAGATTTCATACCTCAGAATGTAAAAGAACTTACTGA...</td>\n",
              "      <td>TGAGGTAGTAGGTTGTGTGG</td>\n",
              "      <td>positive</td>\n",
              "    </tr>\n",
              "    <tr>\n",
              "      <th>6</th>\n",
              "      <td>GTATAGTTGTCTGCAAAGCTACCTCCAAAACATCCAGTGATTTCTT...</td>\n",
              "      <td>TGAGGTAGTAGGTTGTGTGG</td>\n",
              "      <td>positive</td>\n",
              "    </tr>\n",
              "    <tr>\n",
              "      <th>7</th>\n",
              "      <td>ATTAAAAAGAATCCAATTATGTTTACCTCAAAAGAACCTGTTTTTG...</td>\n",
              "      <td>TGAGGTAGTAGGTTGTGTGG</td>\n",
              "      <td>positive</td>\n",
              "    </tr>\n",
              "    <tr>\n",
              "      <th>8</th>\n",
              "      <td>AACTCTCTTTACCCTTTATGCCTGCCTACCTCTGTTGTTAGAGATG...</td>\n",
              "      <td>TGAGGTAGTAGGTTGTGTGG</td>\n",
              "      <td>positive</td>\n",
              "    </tr>\n",
              "    <tr>\n",
              "      <th>9</th>\n",
              "      <td>ATTTATGTTGTAGAGAAATAGAATTACCTCTATTCTTTGTTTTGCC...</td>\n",
              "      <td>TGAGGTAGTAGGTTGTGTGG</td>\n",
              "      <td>positive</td>\n",
              "    </tr>\n",
              "  </tbody>\n",
              "</table>\n",
              "</div>"
            ],
            "text/plain": [
              "                                    binding_sequence  ...     label\n",
              "0  GCTTGGTCCTCAGGTATCTACCTCCCACCTTCTCCTCATCTGTGGA...  ...  positive\n",
              "1  TGCTACCGCCACTAGCGCTGCTTCCACTGCTTCTACCTCCCCTCCC...  ...  positive\n",
              "2  AGCGGGGCTTCTCCTGCCTCCATCACATCACAGAAGTACCTCCTGC...  ...  positive\n",
              "3  AAAGAGAGGCATTGCCTGTCCTGTTACTACCTCGCAGCCTTACTAT...  ...  positive\n",
              "4  GTAAAACAGGTGGATACCAACTACCTCGAAGCAAATTGGTGAAAGA...  ...  positive\n",
              "5  CTACTGAAACAGATTTCATACCTCAGAATGTAAAAGAACTTACTGA...  ...  positive\n",
              "6  GTATAGTTGTCTGCAAAGCTACCTCCAAAACATCCAGTGATTTCTT...  ...  positive\n",
              "7  ATTAAAAAGAATCCAATTATGTTTACCTCAAAAGAACCTGTTTTTG...  ...  positive\n",
              "8  AACTCTCTTTACCCTTTATGCCTGCCTACCTCTGTTGTTAGAGATG...  ...  positive\n",
              "9  ATTTATGTTGTAGAGAAATAGAATTACCTCTATTCTTTGTTTTGCC...  ...  positive\n",
              "\n",
              "[10 rows x 3 columns]"
            ]
          },
          "metadata": {
            "tags": []
          },
          "execution_count": 34
        }
      ]
    },
    {
      "cell_type": "markdown",
      "metadata": {
        "id": "ypOJmDFjeToS"
      },
      "source": [
        "### Create an unique miRNA sequence database.\n",
        "\n",
        "The miRNA sequence database is subsequently used to create samples of the negative class."
      ]
    },
    {
      "cell_type": "code",
      "metadata": {
        "id": "tycyaFVEeVRC",
        "colab": {
          "base_uri": "https://localhost:8080/"
        },
        "outputId": "d5aaa580-d7c8-4b62-c768-2b2dd7df9cba"
      },
      "source": [
        "mirna_db = train_df.mirna_binding_sequence.unique().tolist()\n",
        "str_exam = \"\\t\".join(mirna_db[:5])\n",
        "print(f'mirna sequences examples:\\t{str_exam}')"
      ],
      "execution_count": null,
      "outputs": [
        {
          "output_type": "stream",
          "text": [
            "mirna sequences examples:\tTGAGGTAGTAGGTTGTGTGG\tTGGAATGTAAAGAAGTATGT\tTACCCTGTAGATCCGAATTT\tTACAGTACTGTGATAACTGA\tAGCAGCATTGTACAGGGCTA\n"
          ],
          "name": "stdout"
        }
      ]
    },
    {
      "cell_type": "markdown",
      "metadata": {
        "id": "PPo0__gOeAmr"
      },
      "source": [
        "### Standard training pipeline."
      ]
    },
    {
      "cell_type": "code",
      "metadata": {
        "id": "jDXgpEbSenqe"
      },
      "source": [
        "# define number of positive samples to use for the model training\n",
        "POSITIVE_SAMPLES = 1000\n",
        "# define number of negative samples to generate for each positive sample\n",
        "NEG_RATIO = 10\n",
        "# set random state for reproducibility\n",
        "RANDOM_STATE = 1789\n",
        "np.random.seed(RANDOM_STATE)\n",
        "# set working directory (models stored here)\n",
        "WORK_DIR = \"./models/train/standard/20K_10neg/\"\n",
        "# custom model name prefix\n",
        "STRATEGY = \"standard\"\n",
        "MODEL_ID = f'model_{STRATEGY}'\n",
        "# create WORK_DIR if not exists\n",
        "if not os.path.exists(WORK_DIR):\n",
        "    os.makedirs(WORK_DIR)"
      ],
      "execution_count": null,
      "outputs": []
    },
    {
      "cell_type": "markdown",
      "metadata": {
        "id": "SpvJ-M8Nedm3"
      },
      "source": [
        "#### Prepare the train dataset."
      ]
    },
    {
      "cell_type": "code",
      "metadata": {
        "id": "Zjw2jSRneFaC",
        "colab": {
          "base_uri": "https://localhost:8080/"
        },
        "outputId": "304caaa7-7712-44b5-e1e0-03e76c8feff2"
      },
      "source": [
        "# generate positive and negative samples\n",
        "pos_df, neg_df, _ = generate_subsets(\n",
        "    df=train_df, size=POSITIVE_SAMPLES, neg_ratio=NEG_RATIO, pos_df=None,\n",
        "    update=True, random_state=RANDOM_STATE, mirna_list=mirna_db)\n",
        "print(f'positive df size is: {pos_df.shape}\\nnegative df size is:{neg_df.shape}')\n",
        "# concateneta positive and negative samples into a unique dataframe\n",
        "main_df = pd.concat([pos_df, neg_df])\n",
        "# convert the unique dataframe to one hot encoding\n",
        "ohe_data = multithread(\n",
        "            main_df, one_hot_encoding, n_cores=2\n",
        "            )\n",
        "\n",
        "main_df_ohe, label_ohe = ohe_data"
      ],
      "execution_count": null,
      "outputs": [
        {
          "output_type": "stream",
          "text": [
            "positive df size is: (1000, 3)\n",
            "negative df size is:(10000, 3)\n"
          ],
          "name": "stdout"
        }
      ]
    },
    {
      "cell_type": "markdown",
      "metadata": {
        "id": "aq7aDYXrlx59"
      },
      "source": [
        "#### Compile the model."
      ]
    },
    {
      "cell_type": "code",
      "metadata": {
        "id": "rCAIFC6ymA9u",
        "colab": {
          "base_uri": "https://localhost:8080/"
        },
        "outputId": "7a34920a-fc0b-4cf8-b7ac-822841762e88"
      },
      "source": [
        "model = compile_model()\n",
        "model.summary()"
      ],
      "execution_count": null,
      "outputs": [
        {
          "output_type": "stream",
          "text": [
            "Model: \"arch_00b\"\n",
            "_________________________________________________________________\n",
            "Layer (type)                 Output Shape              Param #   \n",
            "=================================================================\n",
            "main_input (InputLayer)      [(None, 50, 20, 1)]       0         \n",
            "_________________________________________________________________\n",
            "conv_1 (Conv2D)              (None, 50, 20, 32)        320       \n",
            "_________________________________________________________________\n",
            "leaky_re_lu (LeakyReLU)      (None, 50, 20, 32)        0         \n",
            "_________________________________________________________________\n",
            "batch_normalization (BatchNo (None, 50, 20, 32)        128       \n",
            "_________________________________________________________________\n",
            "Max_1 (MaxPooling2D)         (None, 25, 10, 32)        0         \n",
            "_________________________________________________________________\n",
            "dropout (Dropout)            (None, 25, 10, 32)        0         \n",
            "_________________________________________________________________\n",
            "conv_2 (Conv2D)              (None, 25, 10, 64)        18496     \n",
            "_________________________________________________________________\n",
            "leaky_re_lu_1 (LeakyReLU)    (None, 25, 10, 64)        0         \n",
            "_________________________________________________________________\n",
            "batch_normalization_1 (Batch (None, 25, 10, 64)        256       \n",
            "_________________________________________________________________\n",
            "Max_2 (MaxPooling2D)         (None, 12, 5, 64)         0         \n",
            "_________________________________________________________________\n",
            "dropout_1 (Dropout)          (None, 12, 5, 64)         0         \n",
            "_________________________________________________________________\n",
            "conv_3 (Conv2D)              (None, 12, 5, 128)        73856     \n",
            "_________________________________________________________________\n",
            "leaky_re_lu_2 (LeakyReLU)    (None, 12, 5, 128)        0         \n",
            "_________________________________________________________________\n",
            "batch_normalization_2 (Batch (None, 12, 5, 128)        512       \n",
            "_________________________________________________________________\n",
            "Max_3 (MaxPooling2D)         (None, 6, 2, 128)         0         \n",
            "_________________________________________________________________\n",
            "dropout_2 (Dropout)          (None, 6, 2, 128)         0         \n",
            "_________________________________________________________________\n",
            "2d_matrix (Flatten)          (None, 1536)              0         \n",
            "_________________________________________________________________\n",
            "dense (Dense)                (None, 128)               196736    \n",
            "_________________________________________________________________\n",
            "leaky_re_lu_3 (LeakyReLU)    (None, 128)               0         \n",
            "_________________________________________________________________\n",
            "batch_normalization_3 (Batch (None, 128)               512       \n",
            "_________________________________________________________________\n",
            "dropout_3 (Dropout)          (None, 128)               0         \n",
            "_________________________________________________________________\n",
            "dense_1 (Dense)              (None, 64)                8256      \n",
            "_________________________________________________________________\n",
            "leaky_re_lu_4 (LeakyReLU)    (None, 64)                0         \n",
            "_________________________________________________________________\n",
            "batch_normalization_4 (Batch (None, 64)                256       \n",
            "_________________________________________________________________\n",
            "dropout_4 (Dropout)          (None, 64)                0         \n",
            "_________________________________________________________________\n",
            "dense_2 (Dense)              (None, 32)                2080      \n",
            "_________________________________________________________________\n",
            "leaky_re_lu_5 (LeakyReLU)    (None, 32)                0         \n",
            "_________________________________________________________________\n",
            "batch_normalization_5 (Batch (None, 32)                128       \n",
            "_________________________________________________________________\n",
            "dropout_5 (Dropout)          (None, 32)                0         \n",
            "_________________________________________________________________\n",
            "main_output (Dense)          (None, 2)                 66        \n",
            "=================================================================\n",
            "Total params: 301,602\n",
            "Trainable params: 300,706\n",
            "Non-trainable params: 896\n",
            "_________________________________________________________________\n"
          ],
          "name": "stdout"
        }
      ]
    },
    {
      "cell_type": "markdown",
      "metadata": {
        "id": "E-_GSXqgigvS"
      },
      "source": [
        "#### Train the model."
      ]
    },
    {
      "cell_type": "code",
      "metadata": {
        "id": "3FKN17owiiO1",
        "colab": {
          "base_uri": "https://localhost:8080/",
          "height": 935
        },
        "outputId": "dc7b2066-e3f4-4c3a-f972-6c5214da9a2d"
      },
      "source": [
        "model_loss = model.fit(\n",
        "    main_df_ohe, label_ohe,\n",
        "    validation_split=0.05, epochs=10,\n",
        "    batch_size=512\n",
        "    )\n"
      ],
      "execution_count": null,
      "outputs": [
        {
          "output_type": "stream",
          "text": [
            "Epoch 1/10\n"
          ],
          "name": "stdout"
        },
        {
          "output_type": "error",
          "ename": "ValueError",
          "evalue": "ignored",
          "traceback": [
            "\u001b[0;31m---------------------------------------------------------------------------\u001b[0m",
            "\u001b[0;31mValueError\u001b[0m                                Traceback (most recent call last)",
            "\u001b[0;32m<ipython-input-40-41649c6aa09d>\u001b[0m in \u001b[0;36m<module>\u001b[0;34m()\u001b[0m\n\u001b[1;32m      2\u001b[0m     \u001b[0mmain_df_ohe\u001b[0m\u001b[0;34m,\u001b[0m \u001b[0mlabel_ohe\u001b[0m\u001b[0;34m,\u001b[0m\u001b[0;34m\u001b[0m\u001b[0;34m\u001b[0m\u001b[0m\n\u001b[1;32m      3\u001b[0m     \u001b[0mvalidation_split\u001b[0m\u001b[0;34m=\u001b[0m\u001b[0;36m0.05\u001b[0m\u001b[0;34m,\u001b[0m \u001b[0mepochs\u001b[0m\u001b[0;34m=\u001b[0m\u001b[0;36m10\u001b[0m\u001b[0;34m,\u001b[0m\u001b[0;34m\u001b[0m\u001b[0;34m\u001b[0m\u001b[0m\n\u001b[0;32m----> 4\u001b[0;31m     \u001b[0mbatch_size\u001b[0m\u001b[0;34m=\u001b[0m\u001b[0;36m512\u001b[0m\u001b[0;34m\u001b[0m\u001b[0;34m\u001b[0m\u001b[0m\n\u001b[0m\u001b[1;32m      5\u001b[0m     )\n",
            "\u001b[0;32m/usr/local/lib/python3.6/dist-packages/tensorflow/python/keras/engine/training.py\u001b[0m in \u001b[0;36m_method_wrapper\u001b[0;34m(self, *args, **kwargs)\u001b[0m\n\u001b[1;32m    106\u001b[0m   \u001b[0;32mdef\u001b[0m \u001b[0m_method_wrapper\u001b[0m\u001b[0;34m(\u001b[0m\u001b[0mself\u001b[0m\u001b[0;34m,\u001b[0m \u001b[0;34m*\u001b[0m\u001b[0margs\u001b[0m\u001b[0;34m,\u001b[0m \u001b[0;34m**\u001b[0m\u001b[0mkwargs\u001b[0m\u001b[0;34m)\u001b[0m\u001b[0;34m:\u001b[0m\u001b[0;34m\u001b[0m\u001b[0;34m\u001b[0m\u001b[0m\n\u001b[1;32m    107\u001b[0m     \u001b[0;32mif\u001b[0m \u001b[0;32mnot\u001b[0m \u001b[0mself\u001b[0m\u001b[0;34m.\u001b[0m\u001b[0m_in_multi_worker_mode\u001b[0m\u001b[0;34m(\u001b[0m\u001b[0;34m)\u001b[0m\u001b[0;34m:\u001b[0m  \u001b[0;31m# pylint: disable=protected-access\u001b[0m\u001b[0;34m\u001b[0m\u001b[0;34m\u001b[0m\u001b[0m\n\u001b[0;32m--> 108\u001b[0;31m       \u001b[0;32mreturn\u001b[0m \u001b[0mmethod\u001b[0m\u001b[0;34m(\u001b[0m\u001b[0mself\u001b[0m\u001b[0;34m,\u001b[0m \u001b[0;34m*\u001b[0m\u001b[0margs\u001b[0m\u001b[0;34m,\u001b[0m \u001b[0;34m**\u001b[0m\u001b[0mkwargs\u001b[0m\u001b[0;34m)\u001b[0m\u001b[0;34m\u001b[0m\u001b[0;34m\u001b[0m\u001b[0m\n\u001b[0m\u001b[1;32m    109\u001b[0m \u001b[0;34m\u001b[0m\u001b[0m\n\u001b[1;32m    110\u001b[0m     \u001b[0;31m# Running inside `run_distribute_coordinator` already.\u001b[0m\u001b[0;34m\u001b[0m\u001b[0;34m\u001b[0m\u001b[0;34m\u001b[0m\u001b[0m\n",
            "\u001b[0;32m/usr/local/lib/python3.6/dist-packages/tensorflow/python/keras/engine/training.py\u001b[0m in \u001b[0;36mfit\u001b[0;34m(self, x, y, batch_size, epochs, verbose, callbacks, validation_split, validation_data, shuffle, class_weight, sample_weight, initial_epoch, steps_per_epoch, validation_steps, validation_batch_size, validation_freq, max_queue_size, workers, use_multiprocessing)\u001b[0m\n\u001b[1;32m   1096\u001b[0m                 batch_size=batch_size):\n\u001b[1;32m   1097\u001b[0m               \u001b[0mcallbacks\u001b[0m\u001b[0;34m.\u001b[0m\u001b[0mon_train_batch_begin\u001b[0m\u001b[0;34m(\u001b[0m\u001b[0mstep\u001b[0m\u001b[0;34m)\u001b[0m\u001b[0;34m\u001b[0m\u001b[0;34m\u001b[0m\u001b[0m\n\u001b[0;32m-> 1098\u001b[0;31m               \u001b[0mtmp_logs\u001b[0m \u001b[0;34m=\u001b[0m \u001b[0mtrain_function\u001b[0m\u001b[0;34m(\u001b[0m\u001b[0miterator\u001b[0m\u001b[0;34m)\u001b[0m\u001b[0;34m\u001b[0m\u001b[0;34m\u001b[0m\u001b[0m\n\u001b[0m\u001b[1;32m   1099\u001b[0m               \u001b[0;32mif\u001b[0m \u001b[0mdata_handler\u001b[0m\u001b[0;34m.\u001b[0m\u001b[0mshould_sync\u001b[0m\u001b[0;34m:\u001b[0m\u001b[0;34m\u001b[0m\u001b[0;34m\u001b[0m\u001b[0m\n\u001b[1;32m   1100\u001b[0m                 \u001b[0mcontext\u001b[0m\u001b[0;34m.\u001b[0m\u001b[0masync_wait\u001b[0m\u001b[0;34m(\u001b[0m\u001b[0;34m)\u001b[0m\u001b[0;34m\u001b[0m\u001b[0;34m\u001b[0m\u001b[0m\n",
            "\u001b[0;32m/usr/local/lib/python3.6/dist-packages/tensorflow/python/eager/def_function.py\u001b[0m in \u001b[0;36m__call__\u001b[0;34m(self, *args, **kwds)\u001b[0m\n\u001b[1;32m    778\u001b[0m       \u001b[0;32melse\u001b[0m\u001b[0;34m:\u001b[0m\u001b[0;34m\u001b[0m\u001b[0;34m\u001b[0m\u001b[0m\n\u001b[1;32m    779\u001b[0m         \u001b[0mcompiler\u001b[0m \u001b[0;34m=\u001b[0m \u001b[0;34m\"nonXla\"\u001b[0m\u001b[0;34m\u001b[0m\u001b[0;34m\u001b[0m\u001b[0m\n\u001b[0;32m--> 780\u001b[0;31m         \u001b[0mresult\u001b[0m \u001b[0;34m=\u001b[0m \u001b[0mself\u001b[0m\u001b[0;34m.\u001b[0m\u001b[0m_call\u001b[0m\u001b[0;34m(\u001b[0m\u001b[0;34m*\u001b[0m\u001b[0margs\u001b[0m\u001b[0;34m,\u001b[0m \u001b[0;34m**\u001b[0m\u001b[0mkwds\u001b[0m\u001b[0;34m)\u001b[0m\u001b[0;34m\u001b[0m\u001b[0;34m\u001b[0m\u001b[0m\n\u001b[0m\u001b[1;32m    781\u001b[0m \u001b[0;34m\u001b[0m\u001b[0m\n\u001b[1;32m    782\u001b[0m       \u001b[0mnew_tracing_count\u001b[0m \u001b[0;34m=\u001b[0m \u001b[0mself\u001b[0m\u001b[0;34m.\u001b[0m\u001b[0m_get_tracing_count\u001b[0m\u001b[0;34m(\u001b[0m\u001b[0;34m)\u001b[0m\u001b[0;34m\u001b[0m\u001b[0;34m\u001b[0m\u001b[0m\n",
            "\u001b[0;32m/usr/local/lib/python3.6/dist-packages/tensorflow/python/eager/def_function.py\u001b[0m in \u001b[0;36m_call\u001b[0;34m(self, *args, **kwds)\u001b[0m\n\u001b[1;32m    812\u001b[0m       \u001b[0;31m# In this case we have not created variables on the first call. So we can\u001b[0m\u001b[0;34m\u001b[0m\u001b[0;34m\u001b[0m\u001b[0;34m\u001b[0m\u001b[0m\n\u001b[1;32m    813\u001b[0m       \u001b[0;31m# run the first trace but we should fail if variables are created.\u001b[0m\u001b[0;34m\u001b[0m\u001b[0;34m\u001b[0m\u001b[0;34m\u001b[0m\u001b[0m\n\u001b[0;32m--> 814\u001b[0;31m       \u001b[0mresults\u001b[0m \u001b[0;34m=\u001b[0m \u001b[0mself\u001b[0m\u001b[0;34m.\u001b[0m\u001b[0m_stateful_fn\u001b[0m\u001b[0;34m(\u001b[0m\u001b[0;34m*\u001b[0m\u001b[0margs\u001b[0m\u001b[0;34m,\u001b[0m \u001b[0;34m**\u001b[0m\u001b[0mkwds\u001b[0m\u001b[0;34m)\u001b[0m\u001b[0;34m\u001b[0m\u001b[0;34m\u001b[0m\u001b[0m\n\u001b[0m\u001b[1;32m    815\u001b[0m       \u001b[0;32mif\u001b[0m \u001b[0mself\u001b[0m\u001b[0;34m.\u001b[0m\u001b[0m_created_variables\u001b[0m\u001b[0;34m:\u001b[0m\u001b[0;34m\u001b[0m\u001b[0;34m\u001b[0m\u001b[0m\n\u001b[1;32m    816\u001b[0m         raise ValueError(\"Creating variables on a non-first call to a function\"\n",
            "\u001b[0;32m/usr/local/lib/python3.6/dist-packages/tensorflow/python/eager/function.py\u001b[0m in \u001b[0;36m__call__\u001b[0;34m(self, *args, **kwargs)\u001b[0m\n\u001b[1;32m   2826\u001b[0m     \u001b[0;34m\"\"\"Calls a graph function specialized to the inputs.\"\"\"\u001b[0m\u001b[0;34m\u001b[0m\u001b[0;34m\u001b[0m\u001b[0m\n\u001b[1;32m   2827\u001b[0m     \u001b[0;32mwith\u001b[0m \u001b[0mself\u001b[0m\u001b[0;34m.\u001b[0m\u001b[0m_lock\u001b[0m\u001b[0;34m:\u001b[0m\u001b[0;34m\u001b[0m\u001b[0;34m\u001b[0m\u001b[0m\n\u001b[0;32m-> 2828\u001b[0;31m       \u001b[0mgraph_function\u001b[0m\u001b[0;34m,\u001b[0m \u001b[0margs\u001b[0m\u001b[0;34m,\u001b[0m \u001b[0mkwargs\u001b[0m \u001b[0;34m=\u001b[0m \u001b[0mself\u001b[0m\u001b[0;34m.\u001b[0m\u001b[0m_maybe_define_function\u001b[0m\u001b[0;34m(\u001b[0m\u001b[0margs\u001b[0m\u001b[0;34m,\u001b[0m \u001b[0mkwargs\u001b[0m\u001b[0;34m)\u001b[0m\u001b[0;34m\u001b[0m\u001b[0;34m\u001b[0m\u001b[0m\n\u001b[0m\u001b[1;32m   2829\u001b[0m     \u001b[0;32mreturn\u001b[0m \u001b[0mgraph_function\u001b[0m\u001b[0;34m.\u001b[0m\u001b[0m_filtered_call\u001b[0m\u001b[0;34m(\u001b[0m\u001b[0margs\u001b[0m\u001b[0;34m,\u001b[0m \u001b[0mkwargs\u001b[0m\u001b[0;34m)\u001b[0m  \u001b[0;31m# pylint: disable=protected-access\u001b[0m\u001b[0;34m\u001b[0m\u001b[0;34m\u001b[0m\u001b[0m\n\u001b[1;32m   2830\u001b[0m \u001b[0;34m\u001b[0m\u001b[0m\n",
            "\u001b[0;32m/usr/local/lib/python3.6/dist-packages/tensorflow/python/eager/function.py\u001b[0m in \u001b[0;36m_maybe_define_function\u001b[0;34m(self, args, kwargs)\u001b[0m\n\u001b[1;32m   3208\u001b[0m           \u001b[0;32mand\u001b[0m \u001b[0mself\u001b[0m\u001b[0;34m.\u001b[0m\u001b[0minput_signature\u001b[0m \u001b[0;32mis\u001b[0m \u001b[0;32mNone\u001b[0m\u001b[0;34m\u001b[0m\u001b[0;34m\u001b[0m\u001b[0m\n\u001b[1;32m   3209\u001b[0m           and call_context_key in self._function_cache.missed):\n\u001b[0;32m-> 3210\u001b[0;31m         \u001b[0;32mreturn\u001b[0m \u001b[0mself\u001b[0m\u001b[0;34m.\u001b[0m\u001b[0m_define_function_with_shape_relaxation\u001b[0m\u001b[0;34m(\u001b[0m\u001b[0margs\u001b[0m\u001b[0;34m,\u001b[0m \u001b[0mkwargs\u001b[0m\u001b[0;34m)\u001b[0m\u001b[0;34m\u001b[0m\u001b[0;34m\u001b[0m\u001b[0m\n\u001b[0m\u001b[1;32m   3211\u001b[0m \u001b[0;34m\u001b[0m\u001b[0m\n\u001b[1;32m   3212\u001b[0m       \u001b[0mself\u001b[0m\u001b[0;34m.\u001b[0m\u001b[0m_function_cache\u001b[0m\u001b[0;34m.\u001b[0m\u001b[0mmissed\u001b[0m\u001b[0;34m.\u001b[0m\u001b[0madd\u001b[0m\u001b[0;34m(\u001b[0m\u001b[0mcall_context_key\u001b[0m\u001b[0;34m)\u001b[0m\u001b[0;34m\u001b[0m\u001b[0;34m\u001b[0m\u001b[0m\n",
            "\u001b[0;32m/usr/local/lib/python3.6/dist-packages/tensorflow/python/eager/function.py\u001b[0m in \u001b[0;36m_define_function_with_shape_relaxation\u001b[0;34m(self, args, kwargs)\u001b[0m\n\u001b[1;32m   3140\u001b[0m \u001b[0;34m\u001b[0m\u001b[0m\n\u001b[1;32m   3141\u001b[0m     graph_function = self._create_graph_function(\n\u001b[0;32m-> 3142\u001b[0;31m         args, kwargs, override_flat_arg_shapes=relaxed_arg_shapes)\n\u001b[0m\u001b[1;32m   3143\u001b[0m     \u001b[0mself\u001b[0m\u001b[0;34m.\u001b[0m\u001b[0m_function_cache\u001b[0m\u001b[0;34m.\u001b[0m\u001b[0marg_relaxed\u001b[0m\u001b[0;34m[\u001b[0m\u001b[0mrank_only_cache_key\u001b[0m\u001b[0;34m]\u001b[0m \u001b[0;34m=\u001b[0m \u001b[0mgraph_function\u001b[0m\u001b[0;34m\u001b[0m\u001b[0;34m\u001b[0m\u001b[0m\n\u001b[1;32m   3144\u001b[0m \u001b[0;34m\u001b[0m\u001b[0m\n",
            "\u001b[0;32m/usr/local/lib/python3.6/dist-packages/tensorflow/python/eager/function.py\u001b[0m in \u001b[0;36m_create_graph_function\u001b[0;34m(self, args, kwargs, override_flat_arg_shapes)\u001b[0m\n\u001b[1;32m   3073\u001b[0m             \u001b[0marg_names\u001b[0m\u001b[0;34m=\u001b[0m\u001b[0marg_names\u001b[0m\u001b[0;34m,\u001b[0m\u001b[0;34m\u001b[0m\u001b[0;34m\u001b[0m\u001b[0m\n\u001b[1;32m   3074\u001b[0m             \u001b[0moverride_flat_arg_shapes\u001b[0m\u001b[0;34m=\u001b[0m\u001b[0moverride_flat_arg_shapes\u001b[0m\u001b[0;34m,\u001b[0m\u001b[0;34m\u001b[0m\u001b[0;34m\u001b[0m\u001b[0m\n\u001b[0;32m-> 3075\u001b[0;31m             capture_by_value=self._capture_by_value),\n\u001b[0m\u001b[1;32m   3076\u001b[0m         \u001b[0mself\u001b[0m\u001b[0;34m.\u001b[0m\u001b[0m_function_attributes\u001b[0m\u001b[0;34m,\u001b[0m\u001b[0;34m\u001b[0m\u001b[0;34m\u001b[0m\u001b[0m\n\u001b[1;32m   3077\u001b[0m         \u001b[0mfunction_spec\u001b[0m\u001b[0;34m=\u001b[0m\u001b[0mself\u001b[0m\u001b[0;34m.\u001b[0m\u001b[0mfunction_spec\u001b[0m\u001b[0;34m,\u001b[0m\u001b[0;34m\u001b[0m\u001b[0;34m\u001b[0m\u001b[0m\n",
            "\u001b[0;32m/usr/local/lib/python3.6/dist-packages/tensorflow/python/framework/func_graph.py\u001b[0m in \u001b[0;36mfunc_graph_from_py_func\u001b[0;34m(name, python_func, args, kwargs, signature, func_graph, autograph, autograph_options, add_control_dependencies, arg_names, op_return_value, collections, capture_by_value, override_flat_arg_shapes)\u001b[0m\n\u001b[1;32m    984\u001b[0m         \u001b[0m_\u001b[0m\u001b[0;34m,\u001b[0m \u001b[0moriginal_func\u001b[0m \u001b[0;34m=\u001b[0m \u001b[0mtf_decorator\u001b[0m\u001b[0;34m.\u001b[0m\u001b[0munwrap\u001b[0m\u001b[0;34m(\u001b[0m\u001b[0mpython_func\u001b[0m\u001b[0;34m)\u001b[0m\u001b[0;34m\u001b[0m\u001b[0;34m\u001b[0m\u001b[0m\n\u001b[1;32m    985\u001b[0m \u001b[0;34m\u001b[0m\u001b[0m\n\u001b[0;32m--> 986\u001b[0;31m       \u001b[0mfunc_outputs\u001b[0m \u001b[0;34m=\u001b[0m \u001b[0mpython_func\u001b[0m\u001b[0;34m(\u001b[0m\u001b[0;34m*\u001b[0m\u001b[0mfunc_args\u001b[0m\u001b[0;34m,\u001b[0m \u001b[0;34m**\u001b[0m\u001b[0mfunc_kwargs\u001b[0m\u001b[0;34m)\u001b[0m\u001b[0;34m\u001b[0m\u001b[0;34m\u001b[0m\u001b[0m\n\u001b[0m\u001b[1;32m    987\u001b[0m \u001b[0;34m\u001b[0m\u001b[0m\n\u001b[1;32m    988\u001b[0m       \u001b[0;31m# invariant: `func_outputs` contains only Tensors, CompositeTensors,\u001b[0m\u001b[0;34m\u001b[0m\u001b[0;34m\u001b[0m\u001b[0;34m\u001b[0m\u001b[0m\n",
            "\u001b[0;32m/usr/local/lib/python3.6/dist-packages/tensorflow/python/eager/def_function.py\u001b[0m in \u001b[0;36mwrapped_fn\u001b[0;34m(*args, **kwds)\u001b[0m\n\u001b[1;32m    598\u001b[0m         \u001b[0;31m# __wrapped__ allows AutoGraph to swap in a converted function. We give\u001b[0m\u001b[0;34m\u001b[0m\u001b[0;34m\u001b[0m\u001b[0;34m\u001b[0m\u001b[0m\n\u001b[1;32m    599\u001b[0m         \u001b[0;31m# the function a weak reference to itself to avoid a reference cycle.\u001b[0m\u001b[0;34m\u001b[0m\u001b[0;34m\u001b[0m\u001b[0;34m\u001b[0m\u001b[0m\n\u001b[0;32m--> 600\u001b[0;31m         \u001b[0;32mreturn\u001b[0m \u001b[0mweak_wrapped_fn\u001b[0m\u001b[0;34m(\u001b[0m\u001b[0;34m)\u001b[0m\u001b[0;34m.\u001b[0m\u001b[0m__wrapped__\u001b[0m\u001b[0;34m(\u001b[0m\u001b[0;34m*\u001b[0m\u001b[0margs\u001b[0m\u001b[0;34m,\u001b[0m \u001b[0;34m**\u001b[0m\u001b[0mkwds\u001b[0m\u001b[0;34m)\u001b[0m\u001b[0;34m\u001b[0m\u001b[0;34m\u001b[0m\u001b[0m\n\u001b[0m\u001b[1;32m    601\u001b[0m     \u001b[0mweak_wrapped_fn\u001b[0m \u001b[0;34m=\u001b[0m \u001b[0mweakref\u001b[0m\u001b[0;34m.\u001b[0m\u001b[0mref\u001b[0m\u001b[0;34m(\u001b[0m\u001b[0mwrapped_fn\u001b[0m\u001b[0;34m)\u001b[0m\u001b[0;34m\u001b[0m\u001b[0;34m\u001b[0m\u001b[0m\n\u001b[1;32m    602\u001b[0m \u001b[0;34m\u001b[0m\u001b[0m\n",
            "\u001b[0;32m/usr/local/lib/python3.6/dist-packages/tensorflow/python/framework/func_graph.py\u001b[0m in \u001b[0;36mwrapper\u001b[0;34m(*args, **kwargs)\u001b[0m\n\u001b[1;32m    971\u001b[0m           \u001b[0;32mexcept\u001b[0m \u001b[0mException\u001b[0m \u001b[0;32mas\u001b[0m \u001b[0me\u001b[0m\u001b[0;34m:\u001b[0m  \u001b[0;31m# pylint:disable=broad-except\u001b[0m\u001b[0;34m\u001b[0m\u001b[0;34m\u001b[0m\u001b[0m\n\u001b[1;32m    972\u001b[0m             \u001b[0;32mif\u001b[0m \u001b[0mhasattr\u001b[0m\u001b[0;34m(\u001b[0m\u001b[0me\u001b[0m\u001b[0;34m,\u001b[0m \u001b[0;34m\"ag_error_metadata\"\u001b[0m\u001b[0;34m)\u001b[0m\u001b[0;34m:\u001b[0m\u001b[0;34m\u001b[0m\u001b[0;34m\u001b[0m\u001b[0m\n\u001b[0;32m--> 973\u001b[0;31m               \u001b[0;32mraise\u001b[0m \u001b[0me\u001b[0m\u001b[0;34m.\u001b[0m\u001b[0mag_error_metadata\u001b[0m\u001b[0;34m.\u001b[0m\u001b[0mto_exception\u001b[0m\u001b[0;34m(\u001b[0m\u001b[0me\u001b[0m\u001b[0;34m)\u001b[0m\u001b[0;34m\u001b[0m\u001b[0;34m\u001b[0m\u001b[0m\n\u001b[0m\u001b[1;32m    974\u001b[0m             \u001b[0;32melse\u001b[0m\u001b[0;34m:\u001b[0m\u001b[0;34m\u001b[0m\u001b[0;34m\u001b[0m\u001b[0m\n\u001b[1;32m    975\u001b[0m               \u001b[0;32mraise\u001b[0m\u001b[0;34m\u001b[0m\u001b[0;34m\u001b[0m\u001b[0m\n",
            "\u001b[0;31mValueError\u001b[0m: in user code:\n\n    /usr/local/lib/python3.6/dist-packages/tensorflow/python/keras/engine/training.py:806 train_function  *\n        return step_function(self, iterator)\n    /usr/local/lib/python3.6/dist-packages/tensorflow/python/keras/engine/training.py:796 step_function  **\n        outputs = model.distribute_strategy.run(run_step, args=(data,))\n    /usr/local/lib/python3.6/dist-packages/tensorflow/python/distribute/distribute_lib.py:1211 run\n        return self._extended.call_for_each_replica(fn, args=args, kwargs=kwargs)\n    /usr/local/lib/python3.6/dist-packages/tensorflow/python/distribute/distribute_lib.py:2585 call_for_each_replica\n        return self._call_for_each_replica(fn, args, kwargs)\n    /usr/local/lib/python3.6/dist-packages/tensorflow/python/distribute/distribute_lib.py:2945 _call_for_each_replica\n        return fn(*args, **kwargs)\n    /usr/local/lib/python3.6/dist-packages/tensorflow/python/keras/engine/training.py:789 run_step  **\n        outputs = model.train_step(data)\n    /usr/local/lib/python3.6/dist-packages/tensorflow/python/keras/engine/training.py:749 train_step\n        y, y_pred, sample_weight, regularization_losses=self.losses)\n    /usr/local/lib/python3.6/dist-packages/tensorflow/python/keras/engine/compile_utils.py:204 __call__\n        loss_value = loss_obj(y_t, y_p, sample_weight=sw)\n    /usr/local/lib/python3.6/dist-packages/tensorflow/python/keras/losses.py:149 __call__\n        losses = ag_call(y_true, y_pred)\n    /usr/local/lib/python3.6/dist-packages/tensorflow/python/keras/losses.py:253 call  **\n        return ag_fn(y_true, y_pred, **self._fn_kwargs)\n    /usr/local/lib/python3.6/dist-packages/tensorflow/python/util/dispatch.py:201 wrapper\n        return target(*args, **kwargs)\n    /usr/local/lib/python3.6/dist-packages/tensorflow/python/keras/losses.py:1535 categorical_crossentropy\n        return K.categorical_crossentropy(y_true, y_pred, from_logits=from_logits)\n    /usr/local/lib/python3.6/dist-packages/tensorflow/python/util/dispatch.py:201 wrapper\n        return target(*args, **kwargs)\n    /usr/local/lib/python3.6/dist-packages/tensorflow/python/keras/backend.py:4687 categorical_crossentropy\n        target.shape.assert_is_compatible_with(output.shape)\n    /usr/local/lib/python3.6/dist-packages/tensorflow/python/framework/tensor_shape.py:1134 assert_is_compatible_with\n        raise ValueError(\"Shapes %s and %s are incompatible\" % (self, other))\n\n    ValueError: Shapes (None, 1) and (None, 2) are incompatible\n"
          ]
        }
      ]
    },
    {
      "cell_type": "markdown",
      "metadata": {
        "id": "LhsKDx_Av9IQ"
      },
      "source": [
        "## Iterative Dynamic Training."
      ]
    },
    {
      "cell_type": "markdown",
      "metadata": {
        "id": "xLTCvm-fsG4i"
      },
      "source": [
        "### Define Iterative Train Paramenters\n",
        "This section allows the user to define train paramenters:  \n",
        "- POSITIVE_SAMPLES_SIZE: positive sample size for each iteration (int., def. 1000);\n",
        "- NEG_RATIO: starting ratio for samples of the negative class (int., def. 1);\n",
        "- RANDOM_STATE: set random state for reproducibility (int., def. 1789);\n",
        "- CORES: available cores for train dataset pre-processing to ohe (int., def. 4);\n",
        "- MINIBATCH_SPLIT: number of bins to divide the train dataset (int. def. 500);\n",
        "- WORK_DIR: save data to PATH (str., def. cwd);\n",
        "- STRATEGY: training strategy (str: iter or normal);\n",
        "- MODEL_ID: arbitrary model name (str, def. model);\n",
        "- MAX_ITER: set max number of iterations (int., def. 10);\n",
        "- POS_THR: define threshold to claim a prediction as positive (float, def. 0.5)\n",
        "- F1_TRIGGER: set threshold above that the negative ratio is increased (float, def. 0.75)\n",
        "\n",
        "\n"
      ]
    },
    {
      "cell_type": "code",
      "metadata": {
        "id": "S_dgDQHWVQ0m"
      },
      "source": [
        "POSITIVE_SAMPLES_SIZE = 1000\n",
        "NEG_RATIO = 1\n",
        "RANDOM_STATE = 1789\n",
        "np.random.seed(RANDOM_STATE)\n",
        "MINIBATCH_SPLIT = 10\n",
        "CORES = 2\n",
        "START_FROM_ITER = 0\n",
        "MAX_ITER = 10\n",
        "POS_THR = 0.7\n",
        "F1_TRIGGER = 0.7\n",
        "\n",
        "# set working directory (models stored here)\n",
        "WORK_DIR = \"./models/train/iterative/\"\n",
        "# custom model name prefix\n",
        "STRATEGY = \"iter\"\n",
        "MODEL_ID = f'model_{STRATEGY}'\n",
        "# create WORK_DIR if not exists\n",
        "if not os.path.exists(WORK_DIR):\n",
        "    os.makedirs(WORK_DIR)"
      ],
      "execution_count": null,
      "outputs": []
    },
    {
      "cell_type": "markdown",
      "metadata": {
        "id": "XA40Fm2yVQ1F"
      },
      "source": [
        "### Create Model"
      ]
    },
    {
      "cell_type": "code",
      "metadata": {
        "id": "2K_ry3AsVQ1F"
      },
      "source": [
        "K.clear_session()\n",
        "\n",
        "model = make_arch_00b()\n",
        "\n",
        "opt = Adam(\n",
        "    learning_rate=1e-3,\n",
        "    beta_1=0.9,\n",
        "    beta_2=0.999,\n",
        "    epsilon=1e-07,\n",
        "    amsgrad=False,\n",
        "    name=\"Adam\")\n",
        "\n",
        "model.compile(\n",
        "    optimizer=opt,\n",
        "    loss='binary_crossentropy',\n",
        "    )\n"
      ],
      "execution_count": null,
      "outputs": []
    },
    {
      "cell_type": "markdown",
      "metadata": {
        "id": "KSSTU62AVQ1I"
      },
      "source": [
        "### Iterative Training\n",
        "\n",
        "This cell defines the iterative training with incresing negative ratio scheme."
      ]
    },
    {
      "cell_type": "code",
      "metadata": {
        "id": "EdmpMlh4VQ1J"
      },
      "source": [
        "from collections import defaultdict\n",
        "\n",
        "# copy original data frame\n",
        "main_df = train_df.copy()\n",
        "# generate mirna database\n",
        "mirna_db = main_df.mirna_binding_sequence.unique().tolist()\n",
        "# initialize array for f1 and val loss metrics\n",
        "iter_f1_score = np.zeros( (MAX_ITER, 1) )\n",
        "iter_val_losses = np.zeros( (MAX_ITER, 1) )\n",
        "# initialize negative ratio\n",
        "iter_neg_ratio = 0 + NEG_RATIO\n",
        "# tot pos samples counter\n",
        "pos_counter = 0\n",
        "# tot neg samples counter\n",
        "neg_counter = 0\n",
        "\n",
        "for iteration in tqdm(range(START_FROM_ITER, MAX_ITER), desc='iteration'):\n",
        "    # define iteration's model name\n",
        "    model_name = f'{WORK_DIR}/{iteration}.iterative.h5'\n",
        "    # evaluate f1 score\n",
        "    if (iter_f1_score[iteration - 1 ]) > F1_TRIGGER:\n",
        "        # create train dataset by complete replacement\n",
        "        pos_df, neg_df, main_df = generate_subsets(\n",
        "            df=main_df, size=POSITIVE_SAMPLES_SIZE,\n",
        "            neg_ratio=iter_neg_ratio, pos_df=None,\n",
        "            update=True, random_state=RANDOM_STATE,\n",
        "            mirna_list=mirna_db)\n",
        "        pos_counter += pos_df.shape[0]\n",
        "\n",
        "    else:\n",
        "        # create train dataset by partial replacement\n",
        "        pos_df, neg_df, main_df = generate_subsets(\n",
        "            df=main_df, size=POSITIVE_SAMPLES_SIZE,\n",
        "            neg_ratio=iter_neg_ratio, pos_df=pos_df,\n",
        "            update=False, random_state=RANDOM_STATE,\n",
        "            mirna_list=mirna_db\n",
        "            )\n",
        "    # update counter of used negative samples\n",
        "    neg_counter += neg_df.shape[0]\n",
        "    print(\n",
        "        f'#\\tstart training of iteration:\\t{iteration}\\t' +\n",
        "        f'negative ratio is:\\t{iter_neg_ratio}\\t' +\n",
        "        f'total used pos-neg:\\t{pos_counter}\\t{neg_counter}\\t'\n",
        "        )\n",
        "    # prepare minibatches\n",
        "    minibatches = make_minibatches(\n",
        "        pos_df, neg_df, MINIBATCH_SPLIT\n",
        "        )\n",
        "\n",
        "    # create array where minibatch's losses are stored.\n",
        "    batch_losses = np.zeros( (MINIBATCH_SPLIT, 1), dtype='float')\n",
        "    for mini_index in tqdm(range(MINIBATCH_SPLIT), desc='minibatches'):\n",
        "        minibatch = minibatches[mini_index]\n",
        "        # minibatches to ohe generator\n",
        "        ohe_data = multithread(\n",
        "            minibatch, one_hot_encoding, n_cores=CORES\n",
        "            )\n",
        "        if mini_index == MINIBATCH_SPLIT - 1:\n",
        "            # get val loss\n",
        "            val_loss = model.test_on_batch(\n",
        "                { \"main_input\" : ohe_data[0]},\n",
        "                { \"main_output\" : ohe_data[1]}\n",
        "                )\n",
        "            iter_val_losses[iteration] = val_loss\n",
        "            # get val f1 score\n",
        "            f1 = eval_f1(\n",
        "                        model, ohe_data,\n",
        "                        pos_thr=POS_THR,\n",
        "                        save=True,\n",
        "                        fname=model_name\n",
        "                        )\n",
        "            # add val f1 score\n",
        "            iter_f1_score[iteration] = f1\n",
        "            # get minibatches average train loss\n",
        "            avg_loss = np.average(batch_losses)\n",
        "            \n",
        "            print(\n",
        "                f'train loss:\\t{round(avg_loss, 8)}\\t' +\n",
        "                f'val loss:\\t{round(val_loss, 8)}\\t' + \n",
        "                f'val f1:{round(f1, 8)}'\n",
        "                )\n",
        "\n",
        "        else:\n",
        "            # train model\n",
        "            model, batch_loss = train( model, ohe_data, reset_metrics=True )\n",
        "            # add loss\n",
        "            batch_losses[mini_index] = batch_loss"
      ],
      "execution_count": null,
      "outputs": []
    }
  ]
}