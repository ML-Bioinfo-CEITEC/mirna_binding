{
  "nbformat": 4,
  "nbformat_minor": 0,
  "metadata": {
    "kernelspec": {
      "name": "python3",
      "display_name": "Python 3"
    },
    "colab": {
      "name": "generate_test_datasets_lock.ipynb",
      "provenance": [],
      "collapsed_sections": []
    }
  },
  "cells": [
      {
      "cell_type": "markdown",
      "metadata": {
        "id": "view-in-github",
        "colab_type": "text"
      },
      "source": [
        "<a href=\"https://colab.research.google.com/github/ML-Bioinfo-CEITEC/mirna_binding/blob/master/notebook/generate_test_datasets_lock.ipynb\" target=\"_parent\"><img src=\"https://colab.research.google.com/assets/colab-badge.svg\" alt=\"Open In Colab\"/></a>"
      ]
    },
    {
      "cell_type": "markdown",
      "metadata": {
        "id": "R4blzH2PPYYE",
        "colab_type": "text"
      },
      "source": [
        "# Machine Setup\n",
        "\n",
        "The cell runs commands to install the required Python package `pybedtools` as  \n",
        "\n",
        "well as to download the human reference genome used by ENCORI database."
      ]
    },
    {
      "cell_type": "code",
      "metadata": {
        "id": "MJ8ngJAaBpWp",
        "colab_type": "code",
        "colab": {}
      },
      "source": [
        "# install pybedtools\n",
        "!apt-get install bedtools\n",
        "!pip install pybedtools\n",
        "\n",
        "# download encori ago2 dataset\n",
        "!wget https://github.com/ML-Bioinfo-CEITEC/mirna_binding/raw/master/data/encori/encori_ago2.tsv.gz\n",
        "\n",
        "# download reference genome, annotation, targetscan families\n",
        "!wget ftp://ftp.ebi.ac.uk/pub/databases/gencode/Gencode_human/release_34/GRCh37_mapping/GRCh37.primary_assembly.genome.fa.gz\n",
        "!wget ftp://ftp.ebi.ac.uk/pub/databases/gencode/Gencode_human/release_34/GRCh37_mapping/gencode.v34lift37.basic.annotation.gtf.gz\n",
        "!wget http://www.targetscan.org/vert_72/vert_72_data_download/miR_Family_Info.txt.zip\n",
        "\n",
        "# decompress files\n",
        "!gunzip GRCh37.primary_assembly.genome.fa.gz\n",
        "!gunzip gencode.v34lift37.basic.annotation.gtf.gz\n",
        "!unzip miR_Family_Info.txt.zip\n",
        "!gunzip encori_ago2.tsv.gz\n"
      ],
      "execution_count": null,
      "outputs": []
    },
    {
      "cell_type": "markdown",
      "metadata": {
        "id": "0Kqp-C2JVQzx",
        "colab_type": "text"
      },
      "source": [
        "# General Python Modules"
      ]
    },
    {
      "cell_type": "code",
      "metadata": {
        "id": "Y8RXNyFkVQzy",
        "colab_type": "code",
        "colab": {}
      },
      "source": [
        "import pandas as pd\n",
        "import numpy as np\n",
        "import pybedtools"
      ],
      "execution_count": 2,
      "outputs": []
    },
    {
      "cell_type": "markdown",
      "metadata": {
        "id": "xLTCvm-fsG4i",
        "colab_type": "text"
      },
      "source": [
        "# Paramenters\n",
        "This section allows the user to define train paramenters:  \n",
        "- NEG_RATIO: starting ratio for samples of the negative class (int., def. 1);\n",
        "- RANDOM_STATE: set random state for reproducibility (int., def. 1789);\n",
        "- WINDOW_SIZE: size of windows overlapping real binding site\n",
        "- TIMES: number of windows expanding from real binding site\n",
        "\n",
        "\n"
      ]
    },
    {
      "cell_type": "code",
      "metadata": {
        "id": "S_dgDQHWVQ0m",
        "colab_type": "code",
        "colab": {}
      },
      "source": [
        "NEG_RATIO = 20\n",
        "RANDOM_STATE = 1789\n",
        "WINDOW_SIZE = 50\n",
        "TIMES = 10\n",
        "np.random.seed(RANDOM_STATE)\n"
      ],
      "execution_count": 17,
      "outputs": []
    },
    {
      "cell_type": "markdown",
      "metadata": {
        "id": "Qib6pgFAVQ0N",
        "colab_type": "text"
      },
      "source": [
        "## negative class generator\n",
        "\n",
        "The function generates the negative class by creating a connection between each\n",
        "\n",
        "binding site and all mirna (expect the real one). If argument mirna_dict is\n",
        "\n",
        "provided as dictionary of mirna sequences, this dictionary will be used to\n",
        "\n",
        "create the negative class. Otherwise, all unique mirna sequences of the input\n",
        "\n",
        "df will be used to generate samples for the negative class."
      ]
    },
    {
      "cell_type": "code",
      "metadata": {
        "id": "yvf3BayqVQ0O",
        "colab_type": "code",
        "colab": {}
      },
      "source": [
        "def negative_class_generator(df, mirna_dict=None,\n",
        "                            neg_ratio=None, random_state=None):\n",
        "    \"\"\"\n",
        "    create miRNA negative by shuffling the input dataset\n",
        "\n",
        "    parameters:\n",
        "    df=original pandas dataframe\n",
        "    mirna_dict=optional miRNA dataframe\n",
        "    neg_ratio=generate N number of miRNA negatives\n",
        "    random_state=set seed for reproducibility\n",
        "\n",
        "    outputs:\n",
        "    miRNA negative set\n",
        "    \"\"\"\n",
        "    if not mirna_dict:\n",
        "        # generate mirna db of unique sequences\n",
        "        mirnadb = pd.DataFrame(\n",
        "            df.mirna_binding_sequence.unique(), columns=['mirnaid']\n",
        "        )\n",
        "    else:\n",
        "        mirnadb = pd.DataFrame(mirna_dict)\n",
        "        mirnadb.columns = ['mirnaid']\n",
        "    # add mirna db to each row of df\n",
        "    connections = mirnadb.assign(key=1).merge(\n",
        "          df.assign(key=1), on='key'\n",
        "          ).drop(['key', 'label'],axis=1)\n",
        "    # find index of positive connection\n",
        "    positive_samples_mask = (connections.mirnaid == \n",
        "                             connections.mirna_binding_sequence)\n",
        "    # drop positive connection to create negative samples\n",
        "    negative_df = connections[~positive_samples_mask].copy().drop(\n",
        "      ['mirna_binding_sequence'], axis=1\n",
        "      ).reset_index(drop=True)\n",
        "    # rename cols\n",
        "    negative_df.columns = ['mirna_binding_sequence', 'binding_sequence']\n",
        "    # add negative labels\n",
        "    negative_df['label'] = 'negative'\n",
        "    if neg_ratio == None:\n",
        "        return negative_df\n",
        "    else:\n",
        "        neg_samples = int(df.shape[0] * neg_ratio)\n",
        "        return negative_df.sample(\n",
        "            n = neg_samples,\n",
        "            random_state=random_state)"
      ],
      "execution_count": 34,
      "outputs": []
    },
    {
      "cell_type": "markdown",
      "metadata": {
        "id": "kM-j2Qb9VQz3",
        "colab_type": "text"
      },
      "source": [
        "# ENCORI Preprocessing"
      ]
    },
    {
      "cell_type": "markdown",
      "metadata": {
        "id": "bBG2w3qNVQ0l",
        "colab_type": "text"
      },
      "source": [
        "## Load Encori Dataset and Create Test Set\n",
        "The Encori Dataset was obtained by downloading the whole dataset through the Encori API at [URL](http://www.sysu.edu.cn/403.html).\n",
        "\n",
        "The cell loads the original ENCORI dataset, which is filtered for only binding regions mapping on chromosome 1 and obtained by immunoprecipitation of AGO2.\n",
        "\n",
        "Encori original database should contain 2055403 samples, and after filtering the new dataset should contain 47906 samples.\n",
        "\n"
      ]
    },
    {
      "cell_type": "code",
      "metadata": {
        "id": "8WlqAkKVlMZJ",
        "colab_type": "code",
        "colab": {
          "base_uri": "https://localhost:8080/",
          "height": 51
        },
        "outputId": "e4d35657-6007-43a5-f048-e5235d409650"
      },
      "source": [
        "#load encori\n",
        "encori_original = pd.read_csv('encori_ago2.tsv', sep='\\t', comment='#')\n",
        "# filter encori\n",
        "encori_original_chr1 = encori_original[(\n",
        "    encori_original.chromosome == 'chr1') &\n",
        "    (encori_original.RBP == 'AGO2')].reset_index(drop=True)\n",
        "# assign unique id to each sample\n",
        "encori_original_chr1['name'] = encori_original_chr1.index.to_list()\n",
        "\n",
        "print('Encori original AGO2 samples are:',\n",
        "      encori_original.shape)\n",
        "print('Encori original AGO2 samples mapping to chrom1 are:',\n",
        "      encori_original_chr1.shape)"
      ],
      "execution_count": 35,
      "outputs": [
        {
          "output_type": "stream",
          "text": [
            "Encori original AGO2 samples are: (460120, 22)\n",
            "Encori original AGO2 samples mapping to chrom1 are: (47906, 23)\n"
          ],
          "name": "stdout"
        }
      ]
    },
    {
      "cell_type": "markdown",
      "metadata": {
        "id": "9U5Ci80HwBCW",
        "colab_type": "text"
      },
      "source": [
        "## Filter ENCORI\n",
        "\n",
        "This cell removes ENCORI samples not mapping on UTR.\n",
        "\n",
        "1. load annotation;\n",
        "2. filter `encori_original_chr1` for UTR regions only.\n",
        "\n",
        "expected output:\n",
        "\n",
        "samples mapping on UTR are: (44972, 22)"
      ]
    },
    {
      "cell_type": "code",
      "metadata": {
        "id": "O7D-8Yd7oflb",
        "colab_type": "code",
        "colab": {
          "base_uri": "https://localhost:8080/",
          "height": 34
        },
        "outputId": "18ce94f3-1b99-4525-eac7-3f246c3cfd57"
      },
      "source": [
        "# 1. load annotation and retrive chrom1 only features.\n",
        "\n",
        "\n",
        "gtf_annotation = pd.read_csv('gencode.v34lift37.basic.annotation.gtf',\n",
        "                             sep='\\t', comment='#',\n",
        "                             names=['chromosome', 'source', 'feature', 'start',\n",
        "                                    'end', 'score', 'strand', 'frame',\n",
        "                                    'attribute'])\n",
        "chrom_1_UTR_only_gtf = gtf_annotation[\n",
        "                                      (gtf_annotation.chromosome == 'chr1') &\n",
        "                                      (gtf_annotation.feature == 'UTR')].copy()\n",
        "\n",
        "# filter encori_original_chr1 with pybedtools.\n",
        "encori_original_chr1[['chromosome',\n",
        "       'narrowStart', 'narrowEnd', 'name']].to_csv(\n",
        "           'a.bed', sep='\\t',\n",
        "           header=False, index=False)\n",
        "\n",
        "chrom_1_UTR_only_gtf[['chromosome',\n",
        "       'start', 'end']].to_csv('b.bed', sep='\\t', header=False, index=False)\n",
        "\n",
        "a = pybedtools.BedTool('a.bed')\n",
        "b = pybedtools.BedTool('b.bed')\n",
        "\n",
        "overlaps = pybedtools.BedTool.intersect(a, b, wa=True, u=True).to_dataframe()\n",
        "\n",
        "encori_chr1_utr = pd.merge(\n",
        "    encori_original_chr1, overlaps, on='name').drop(\n",
        "    ['chrom', 'start', 'end', 'name'], axis=1)\n",
        "\n",
        "print('samples mapping on UTR are:', encori_chr1_utr.shape)"
      ],
      "execution_count": 36,
      "outputs": [
        {
          "output_type": "stream",
          "text": [
            "samples mapping on UTR are: (44972, 22)\n"
          ],
          "name": "stdout"
        }
      ]
    },
    {
      "cell_type": "markdown",
      "metadata": {
        "id": "OXhdz3vl9nFo",
        "colab_type": "text"
      },
      "source": [
        "## Filter for unique binding site\n",
        "\n",
        "This cell removes binding sites that are targeted by multiple miRNAs.\n",
        "\n",
        "expected output:\n",
        "\n",
        "ambiguous binding sites are: 23344\n",
        "\n",
        "certain binding sites are: 21628\n",
        "\n",
        "certain Encori database samples are: (21628, 22)"
      ]
    },
    {
      "cell_type": "code",
      "metadata": {
        "id": "rwA19rW0patR",
        "colab_type": "code",
        "colab": {
          "base_uri": "https://localhost:8080/",
          "height": 68
        },
        "outputId": "e168c409-9fa0-4138-f73b-7182fd0d8af1"
      },
      "source": [
        "ambiguous_bs = list()\n",
        "unique = 0\n",
        "for name, group in encori_chr1_utr.groupby(['narrowStart', 'narrowEnd']):\n",
        "    if group.shape[0] != 1: # more than one miRNA targeted this region\n",
        "        ambiguous_bs += group.index.to_list()\n",
        "    else:\n",
        "        unique += 1\n",
        "print('ambiguous binding sites are:', len(ambiguous_bs))\n",
        "print('certain binding sites are:', unique)\n",
        "\n",
        "encori_chr1_utr_certain = encori_chr1_utr.drop(\n",
        "    ambiguous_bs).reset_index(drop=True)\n",
        "print('certain Encori database samples are:', encori_chr1_utr_certain.shape)"
      ],
      "execution_count": 37,
      "outputs": [
        {
          "output_type": "stream",
          "text": [
            "ambiguous binding sites are: 23344\n",
            "certain binding sites are: 21628\n",
            "certain Encori database samples are: (21628, 22)\n"
          ],
          "name": "stdout"
        }
      ]
    },
    {
      "cell_type": "markdown",
      "metadata": {
        "id": "J92Pe_X9VM64",
        "colab_type": "text"
      },
      "source": [
        "## Assign unique name to each sample\n",
        "\n"
      ]
    },
    {
      "cell_type": "code",
      "metadata": {
        "id": "ul96TLd0VQl0",
        "colab_type": "code",
        "colab": {}
      },
      "source": [
        "encori_chr1_utr_certain['name'] = [ mirna + \"_\" + str(index) \n",
        "    for mirna, index in zip(encori_chr1_utr_certain['miRNAid'].to_list(),\n",
        "                            encori_chr1_utr_certain.index.to_list())]"
      ],
      "execution_count": 38,
      "outputs": []
    },
    {
      "cell_type": "markdown",
      "metadata": {
        "id": "uHjqpKhbAclj",
        "colab_type": "text"
      },
      "source": [
        "## Generate binding site coordinates and sequences for miRNA Neg. test set\n",
        "\n",
        "The cell expands the original narrowStart and narrowEnd binding site coordinates\n",
        "\n",
        "to a random window of 50nt.\n",
        "\n",
        "expected output:\n",
        "\n",
        "average Encori database binding site length is: 50.0\n",
        "\n",
        "min. Encori database binding site length is: 50\n",
        "\n",
        "max Encori database binding site length is: 50\n",
        "\n",
        "Encori with positive binding sites sequence shape is: (21628, 30)\n"
      ]
    },
    {
      "cell_type": "code",
      "metadata": {
        "id": "nm2UgekSAjFm",
        "colab_type": "code",
        "colab": {}
      },
      "source": [
        "def midpoint(row):\n",
        "    \"\"\"\n",
        "    function extract the genomic coordiantes of binding site's midpoint.\n",
        "\n",
        "    paramenters:\n",
        "    row=dataframe row\n",
        "\n",
        "    returns:\n",
        "    midpoint (int.)\n",
        "    \"\"\"\n",
        "    start = row.narrowStart\n",
        "    end = row.narrowEnd\n",
        "    mid = int(round((end - start) / 2, 0))\n",
        "    midpoint = start + mid\n",
        "    return midpoint"
      ],
      "execution_count": 39,
      "outputs": []
    },
    {
      "cell_type": "code",
      "metadata": {
        "id": "apdxfX4mB3Yi",
        "colab_type": "code",
        "colab": {
          "base_uri": "https://localhost:8080/",
          "height": 68
        },
        "outputId": "6c1a2bef-8617-4425-9688-9536347abc93"
      },
      "source": [
        "encori_chr1_utr_certain['midpoint'] = encori_chr1_utr_certain.apply(\n",
        "    midpoint, axis=1)\n",
        "encori_chr1_utr_certain['random_int'] = np.random.randint(\n",
        "    15, 30, encori_chr1_utr_certain.shape[0])\n",
        "encori_chr1_utr_certain['random_start'] = (\n",
        "    encori_chr1_utr_certain['narrowStart'] - \n",
        "    encori_chr1_utr_certain['random_int'])\n",
        "encori_chr1_utr_certain['random_end'] = (\n",
        "    encori_chr1_utr_certain['random_start'] + WINDOW_SIZE)\n",
        "\n",
        "print('average Encori database binding site length is:', (\n",
        "    encori_chr1_utr_certain['random_end'] -\n",
        "    encori_chr1_utr_certain['random_start']).mean() )\n",
        "print('min. Encori database binding site length is:', (\n",
        "    encori_chr1_utr_certain['random_end'] -\n",
        "    encori_chr1_utr_certain['random_start']).min() )\n",
        "print('max Encori database binding site length is:', (\n",
        "    encori_chr1_utr_certain['random_end'] -\n",
        "    encori_chr1_utr_certain['random_start']).max() )"
      ],
      "execution_count": 40,
      "outputs": [
        {
          "output_type": "stream",
          "text": [
            "average Encori database binding site length is: 50.0\n",
            "min. Encori database binding site length is: 50\n",
            "max Encori database binding site length is: 50\n"
          ],
          "name": "stdout"
        }
      ]
    },
    {
      "cell_type": "code",
      "metadata": {
        "id": "06e-35UVTAqP",
        "colab_type": "code",
        "colab": {
          "base_uri": "https://localhost:8080/",
          "height": 34
        },
        "outputId": "40cfc8fe-9a1e-44c7-daf0-9ea5947e9496"
      },
      "source": [
        "mirna_neg_col = [\n",
        "                 'chromosome', 'random_start',\n",
        "                 'random_end', 'name',\n",
        "                 'pancancerNum', 'strand']\n",
        "mirna_neg_name = 'mirna_neg.bed'\n",
        "\n",
        "encori_chr1_utr_certain[mirna_neg_col].to_csv(\n",
        "    mirna_neg_name, sep='\\t', index=False, header=False)\n",
        "\n",
        "bedfile = pybedtools.BedTool(mirna_neg_name)\n",
        "seq_filename = bedfile.sequence(\n",
        "    fi='GRCh37.primary_assembly.genome.fa',\n",
        "    s=True, tab=True, name=True).seqfn\n",
        "\n",
        "seq_df = pd.read_csv(\n",
        "    seq_filename, sep='\\t', header=None, names=['name', 'pos_sequence'])\n",
        "\n",
        "encori_chr1_utr_certain = pd.concat(\n",
        "    [encori_chr1_utr_certain, seq_df['pos_sequence']], axis=1)\n",
        "\n",
        "print('Encori with positive binding sites sequence shape is:',\n",
        "      encori_chr1_utr_certain.shape)"
      ],
      "execution_count": 41,
      "outputs": [
        {
          "output_type": "stream",
          "text": [
            "Encori with positive binding sites sequence shape is: (21628, 28)\n"
          ],
          "name": "stdout"
        }
      ]
    },
    {
      "cell_type": "markdown",
      "metadata": {
        "id": "VAu7ar6RHMDB",
        "colab_type": "text"
      },
      "source": [
        "## Generate coordinates for Scan Test Set\n",
        "\n",
        "The cell extends the binding site coordinates of 10 windows of 50nt from the 5' \n",
        "\n",
        "and 3' ends."
      ]
    },
    {
      "cell_type": "code",
      "metadata": {
        "id": "LS7Vca1HH9QF",
        "colab_type": "code",
        "colab": {}
      },
      "source": [
        "encori_chr1_utr_certain['scan_start'] = (\n",
        "    encori_chr1_utr_certain['random_start'] - (WINDOW_SIZE * TIMES))\n",
        "encori_chr1_utr_certain['scan_end'] = (\n",
        "    encori_chr1_utr_certain['random_end'] + (WINDOW_SIZE * TIMES))"
      ],
      "execution_count": 42,
      "outputs": []
    },
    {
      "cell_type": "code",
      "metadata": {
        "id": "sjhiBzOUU9zJ",
        "colab_type": "code",
        "colab": {
          "base_uri": "https://localhost:8080/",
          "height": 34
        },
        "outputId": "85af834b-d6f9-41e8-c136-022ff4fd73ae"
      },
      "source": [
        "scan_col = [\n",
        "            'chromosome', 'scan_start', 'scan_end',\n",
        "            'name', 'pancancerNum', 'strand']\n",
        "\n",
        "scan_name = 'scan.bed'\n",
        "encori_chr1_utr_certain[scan_col].to_csv(\n",
        "    scan_name, sep='\\t', index=False, header=False)\n",
        "\n",
        "bedfile = pybedtools.BedTool(scan_name)\n",
        "seq_filename = bedfile.sequence(\n",
        "    fi='GRCh37.primary_assembly.genome.fa',\n",
        "    s=True, tab=True, name=True).seqfn\n",
        "\n",
        "seq_df = pd.read_csv(\n",
        "    seq_filename, sep='\\t', header=None, names=['name', 'scan_sequence'])\n",
        "\n",
        "encori_chr1_utr_certain = pd.concat(\n",
        "    [encori_chr1_utr_certain, seq_df['scan_sequence']], axis=1)\n",
        "\n",
        "print('Encori with scan binding sites sequence shape is:', \n",
        "      encori_chr1_utr_certain.shape)"
      ],
      "execution_count": 43,
      "outputs": [
        {
          "output_type": "stream",
          "text": [
            "Encori with scan binding sites sequence shape is: (21628, 31)\n"
          ],
          "name": "stdout"
        }
      ]
    },
    {
      "cell_type": "markdown",
      "metadata": {
        "id": "4V-KgBrvYSBs",
        "colab_type": "text"
      },
      "source": [
        "## Plug-in miRNA family sequence"
      ]
    },
    {
      "cell_type": "code",
      "metadata": {
        "id": "dofklt8jYwcU",
        "colab_type": "code",
        "colab": {}
      },
      "source": [
        "targetscan_family_df = pd.read_csv('miR_Family_Info.txt', sep='\\t')\n",
        "targetscan_family_df.columns = [ 'miRFamily', 'Seed+m8', 'SpeciesID',\n",
        "               'MiRBase ID', 'MatureSequence',\n",
        "               'Family Conservation?', 'miRNAid']\n",
        "\n",
        "# assign miRNA family to Encori df\n",
        "encori_with_family = pd.merge(\n",
        "    encori_chr1_utr_certain,\n",
        "    targetscan_family_df, on=['miRNAid'])"
      ],
      "execution_count": 44,
      "outputs": []
    },
    {
      "cell_type": "code",
      "metadata": {
        "id": "sYvy2g01o0pj",
        "colab_type": "code",
        "colab": {}
      },
      "source": [
        "updated_families = list()\n",
        "for family, group in encori_with_family.groupby('miRFamily'):\n",
        "    filter_seq = sorted(\n",
        "        group.MatureSequence.unique().tolist(),\n",
        "        key=lambda x: len(x), reverse=True)[0]\n",
        "    if len(filter_seq) < 20: # fill with N\n",
        "        filter_seq = filter_seq + ('N' * 20)\n",
        "    # trim seq at len 20\n",
        "    filter_seq = filter_seq[ : 20].replace('U', 'T')\n",
        "    x = group.copy()\n",
        "    x['familyseqRepresentative'] = filter_seq\n",
        "    updated_families.append(x)\n",
        "\n",
        "encori_test_sets = pd.concat(updated_families)"
      ],
      "execution_count": 45,
      "outputs": []
    },
    {
      "cell_type": "markdown",
      "metadata": {
        "id": "eRImDbhpx8rT",
        "colab_type": "text"
      },
      "source": [
        "## Create Scan and miRNA Neg Test set\n",
        "\n",
        "The function `break_seq` breaks the extracted scanning region into windows of \n",
        "\n",
        "50nt size. It returns the miRNA sequence, real binding site sequence, and \n",
        "\n",
        "the 20 segmented surrounding windows. "
      ]
    },
    {
      "cell_type": "code",
      "metadata": {
        "id": "92YcrB1fuPKy",
        "colab_type": "code",
        "colab": {}
      },
      "source": [
        "def break_seq(row):\n",
        "    \"\"\"\n",
        "    breaks scan sequence into windows of 50nt length.\n",
        "\n",
        "    parameters:\n",
        "\n",
        "    row=dataframe row\n",
        "\n",
        "    returns:\n",
        "    mirnaseq, pos_sequence, segments\n",
        "    \"\"\"\n",
        "    segments = list()\n",
        "    mirnaseq = row.familyseqRepresentative\n",
        "    region = row.scan_sequence\n",
        "    pos_sequence = row.pos_sequence\n",
        "    for window, index in enumerate(range(0, len(region), 50)):\n",
        "        if window == 10: # this is the real binding window\n",
        "            continue\n",
        "        segment = region[index : index + 50]\n",
        "        segments.append( (segment) )\n",
        "    return (mirnaseq, pos_sequence, segments)\n",
        "\n",
        "\n",
        "breaks = encori_test_sets.apply(break_seq, axis=1)"
      ],
      "execution_count": 46,
      "outputs": []
    },
    {
      "cell_type": "code",
      "metadata": {
        "id": "qgFQRuDR0JH7",
        "colab_type": "code",
        "colab": {
          "base_uri": "https://localhost:8080/",
          "height": 102
        },
        "outputId": "dd25ae5f-d7e2-4a7e-e553-3a527718c07d"
      },
      "source": [
        "positive_samples_list = list()\n",
        "scan_neg_list = list()\n",
        "\n",
        "# create positive sample list and negative segments for scan test set\n",
        "for sample in breaks:\n",
        "    mirnaseq, pos_sequence, segments = sample\n",
        "    positive_samples_list.append([mirnaseq, pos_sequence, 'positive'])\n",
        "    for neg_segment in segments:\n",
        "        scan_neg_list.append([mirnaseq, neg_segment, 'negative'])\n",
        "\n",
        "# generate dataframe of positive bindings\n",
        "positive_samples_df = pd.DataFrame(\n",
        "    positive_samples_list,\n",
        "    columns = ['mirna_binding_sequence', 'binding_sequence', 'label'])\n",
        "# generate dataframe of negative bindings\n",
        "scan_neg_df = pd.DataFrame(\n",
        "    scan_neg_list,\n",
        "    columns = ['mirna_binding_sequence', 'binding_sequence', 'label'])\n",
        "# generate dataframe of miRNA negative\n",
        "mirna_neg_set = negative_class_generator(\n",
        "        positive_samples_df, neg_ratio=NEG_RATIO,\n",
        "        random_state=RANDOM_STATE)\n",
        "# concatene dataframes to create scan test set and miRNA negative test set\n",
        "scan_test_df = pd.concat([positive_samples_df, scan_neg_df])\n",
        "mirna_neg_test_df = pd.concat( [positive_samples_df, mirna_neg_set])\n",
        "\n",
        "\n",
        "print('positive df samples are:', positive_samples_df.shape)\n",
        "print('scan negative df samples are:', scan_neg_df.shape)\n",
        "print('scan test df samples are:', scan_test_df.shape)\n",
        "print('miRNA neg samples are:', mirna_neg_set.shape)\n",
        "print('mirna neg test df samples are:', mirna_neg_test_df.shape)"
      ],
      "execution_count": 47,
      "outputs": [
        {
          "output_type": "stream",
          "text": [
            "positive df samples are: (21385, 3)\n",
            "scan negative df samples are: (427700, 3)\n",
            "scan test df samples are: (449085, 3)\n",
            "miRNA neg samples are: (427700, 3)\n",
            "mirna neg test df samples are: (449085, 3)\n"
          ],
          "name": "stdout"
        }
      ]
    },
    {
      "cell_type": "markdown",
      "metadata": {
        "id": "TtPlb2WYQPI_",
        "colab_type": "text"
      },
      "source": [
        "## Write output dataset"
      ]
    },
    {
      "cell_type": "code",
      "metadata": {
        "id": "Ww-IoHJsMh3w",
        "colab_type": "code",
        "colab": {}
      },
      "source": [
        "scan_test_df.to_csv('scan_test_set.tsv', header=True, index=False, sep='\\t')\n",
        "mirna_neg_set.to_csv('mirna_neg_set.tsv', header=True, index=False, sep='\\t')"
      ],
      "execution_count": 48,
      "outputs": []
    }
  ]
}
