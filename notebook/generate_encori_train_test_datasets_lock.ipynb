{
  "nbformat": 4,
  "nbformat_minor": 0,
  "metadata": {
    "kernelspec": {
      "name": "python3",
      "display_name": "Python 3"
    },
    "colab": {
      "name": "generate_encori_train_test_datasets_lock.ipynb",
      "provenance": [],
      "collapsed_sections": []
    }
  },
  "cells": [
      {
      "cell_type": "markdown",
      "metadata": {
        "id": "view-in-github",
        "colab_type": "text"
      },
      "source": [
        "<a href=\"https://colab.research.google.com/github/ML-Bioinfo-CEITEC/mirna_binding/blob/master/notebook/generate_encori_train_test_datasets_lock.ipynb\" target=\"_parent\"><img src=\"https://colab.research.google.com/assets/colab-badge.svg\" alt=\"Open In Colab\"/></a>"
      ]
    },
    {
      "cell_type": "markdown",
      "metadata": {
        "id": "R4blzH2PPYYE",
        "colab_type": "text"
      },
      "source": [
        "# Machine Setup\n",
        "\n",
        "The cell runs commands to install the required Python package `pybedtools` as  \n",
        "\n",
        "well as to download the human reference genome used by ENCORI database."
      ]
    },
    {
      "cell_type": "code",
      "metadata": {
        "id": "MJ8ngJAaBpWp",
        "colab_type": "code",
        "colab": {
          "base_uri": "https://localhost:8080/",
          "height": 1000
        },
        "outputId": "90c13062-4542-4bea-8fd6-a816d5de239a"
      },
      "source": [
        "# install pybedtools\n",
        "!apt-get install bedtools\n",
        "!pip install pybedtools\n",
        "\n",
        "# download encori ago2 dataset\n",
        "!wget https://github.com/ML-Bioinfo-CEITEC/mirna_binding/raw/master/data/encori/encori_ago2.tsv.gz\n",
        "\n",
        "# download reference genome, annotation, targetscan families\n",
        "!wget ftp://ftp.ebi.ac.uk/pub/databases/gencode/Gencode_human/release_34/GRCh37_mapping/GRCh37.primary_assembly.genome.fa.gz\n",
        "!wget ftp://ftp.ebi.ac.uk/pub/databases/gencode/Gencode_human/release_34/GRCh37_mapping/gencode.v34lift37.basic.annotation.gtf.gz\n",
        "!wget http://www.targetscan.org/vert_72/vert_72_data_download/miR_Family_Info.txt.zip\n",
        "\n",
        "# decompress files\n",
        "!gunzip GRCh37.primary_assembly.genome.fa.gz\n",
        "!gunzip gencode.v34lift37.basic.annotation.gtf.gz\n",
        "!unzip miR_Family_Info.txt.zip\n",
        "!gunzip encori_ago2.tsv.gz\n"
      ],
      "execution_count": 49,
      "outputs": [
        {
          "output_type": "stream",
          "text": [
            "Reading package lists... Done\n",
            "Building dependency tree       \n",
            "Reading state information... Done\n",
            "bedtools is already the newest version (2.26.0+dfsg-5).\n",
            "The following package was automatically installed and is no longer required:\n",
            "  libnvidia-common-440\n",
            "Use 'apt autoremove' to remove it.\n",
            "0 upgraded, 0 newly installed, 0 to remove and 59 not upgraded.\n",
            "Requirement already satisfied: pybedtools in /usr/local/lib/python3.6/dist-packages (0.8.1)\n",
            "Requirement already satisfied: six in /usr/local/lib/python3.6/dist-packages (from pybedtools) (1.12.0)\n",
            "Requirement already satisfied: pysam in /usr/local/lib/python3.6/dist-packages (from pybedtools) (0.16.0.1)\n",
            "--2020-06-20 11:02:11--  https://github.com/ML-Bioinfo-CEITEC/mirna_binding/raw/master/data/encori/encori_ago2.tsv.gz\n",
            "Resolving github.com (github.com)... 140.82.114.3\n",
            "Connecting to github.com (github.com)|140.82.114.3|:443... connected.\n",
            "HTTP request sent, awaiting response... 302 Found\n",
            "Location: https://raw.githubusercontent.com/ML-Bioinfo-CEITEC/mirna_binding/master/data/encori/encori_ago2.tsv.gz [following]\n",
            "--2020-06-20 11:02:11--  https://raw.githubusercontent.com/ML-Bioinfo-CEITEC/mirna_binding/master/data/encori/encori_ago2.tsv.gz\n",
            "Resolving raw.githubusercontent.com (raw.githubusercontent.com)... 151.101.0.133, 151.101.64.133, 151.101.128.133, ...\n",
            "Connecting to raw.githubusercontent.com (raw.githubusercontent.com)|151.101.0.133|:443... connected.\n",
            "HTTP request sent, awaiting response... 200 OK\n",
            "Length: 10792332 (10M) [application/octet-stream]\n",
            "Saving to: ‘encori_ago2.tsv.gz’\n",
            "\n",
            "encori_ago2.tsv.gz  100%[===================>]  10.29M  20.5MB/s    in 0.5s    \n",
            "\n",
            "2020-06-20 11:02:12 (20.5 MB/s) - ‘encori_ago2.tsv.gz’ saved [10792332/10792332]\n",
            "\n",
            "--2020-06-20 11:02:20--  ftp://ftp.ebi.ac.uk/pub/databases/gencode/Gencode_human/release_34/GRCh37_mapping/GRCh37.primary_assembly.genome.fa.gz\n",
            "           => ‘GRCh37.primary_assembly.genome.fa.gz’\n",
            "Resolving ftp.ebi.ac.uk (ftp.ebi.ac.uk)... 193.62.197.74\n",
            "Connecting to ftp.ebi.ac.uk (ftp.ebi.ac.uk)|193.62.197.74|:21... connected.\n",
            "Logging in as anonymous ... Logged in!\n",
            "==> SYST ... done.    ==> PWD ... done.\n",
            "==> TYPE I ... done.  ==> CWD (1) /pub/databases/gencode/Gencode_human/release_34/GRCh37_mapping ... done.\n",
            "==> SIZE GRCh37.primary_assembly.genome.fa.gz ... 869924494\n",
            "==> PASV ... done.    ==> RETR GRCh37.primary_assembly.genome.fa.gz ... done.\n",
            "Length: 869924494 (830M) (unauthoritative)\n",
            "\n",
            "GRCh37.primary_asse 100%[===================>] 829.62M  4.16MB/s    in 2m 53s  \n",
            "\n",
            "2020-06-20 11:05:14 (4.80 MB/s) - ‘GRCh37.primary_assembly.genome.fa.gz’ saved [869924494]\n",
            "\n",
            "--2020-06-20 11:05:17--  ftp://ftp.ebi.ac.uk/pub/databases/gencode/Gencode_human/release_34/GRCh37_mapping/gencode.v34lift37.basic.annotation.gtf.gz\n",
            "           => ‘gencode.v34lift37.basic.annotation.gtf.gz’\n",
            "Resolving ftp.ebi.ac.uk (ftp.ebi.ac.uk)... 193.62.193.138\n",
            "Connecting to ftp.ebi.ac.uk (ftp.ebi.ac.uk)|193.62.193.138|:21... connected.\n",
            "Logging in as anonymous ... Logged in!\n",
            "==> SYST ... done.    ==> PWD ... done.\n",
            "==> TYPE I ... done.  ==> CWD (1) /pub/databases/gencode/Gencode_human/release_34/GRCh37_mapping ... done.\n",
            "==> SIZE gencode.v34lift37.basic.annotation.gtf.gz ... 35269604\n",
            "==> PASV ... done.    ==> RETR gencode.v34lift37.basic.annotation.gtf.gz ... done.\n",
            "Length: 35269604 (34M) (unauthoritative)\n",
            "\n",
            "gencode.v34lift37.b 100%[===================>]  33.63M  20.2MB/s    in 1.7s    \n",
            "\n",
            "2020-06-20 11:05:20 (20.2 MB/s) - ‘gencode.v34lift37.basic.annotation.gtf.gz’ saved [35269604]\n",
            "\n",
            "--2020-06-20 11:05:21--  http://www.targetscan.org/vert_72/vert_72_data_download/miR_Family_Info.txt.zip\n",
            "Resolving www.targetscan.org (www.targetscan.org)... 18.4.1.128\n",
            "Connecting to www.targetscan.org (www.targetscan.org)|18.4.1.128|:80... connected.\n",
            "HTTP request sent, awaiting response... 200 OK\n",
            "Length: 162636 (159K) [application/zip]\n",
            "Saving to: ‘miR_Family_Info.txt.zip.1’\n",
            "\n",
            "miR_Family_Info.txt 100%[===================>] 158.82K   586KB/s    in 0.3s    \n",
            "\n",
            "2020-06-20 11:05:21 (586 KB/s) - ‘miR_Family_Info.txt.zip.1’ saved [162636/162636]\n",
            "\n",
            "gzip: GRCh37.primary_assembly.genome.fa already exists; do you wish to overwrite (y or n)? n\n",
            "\tnot overwritten\n",
            "gzip: gencode.v34lift37.basic.annotation.gtf already exists; do you wish to overwrite (y or n)? n\n",
            "\tnot overwritten\n",
            "Archive:  miR_Family_Info.txt.zip\n",
            "replace miR_Family_Info.txt? [y]es, [n]o, [A]ll, [N]one, [r]ename: n\n",
            "gzip: encori_ago2.tsv already exists; do you wish to overwrite (y or n)? n\n",
            "\tnot overwritten\n"
          ],
          "name": "stdout"
        }
      ]
    },
    {
      "cell_type": "markdown",
      "metadata": {
        "id": "0Kqp-C2JVQzx",
        "colab_type": "text"
      },
      "source": [
        "# General Python Modules"
      ]
    },
    {
      "cell_type": "code",
      "metadata": {
        "id": "Y8RXNyFkVQzy",
        "colab_type": "code",
        "colab": {}
      },
      "source": [
        "import pandas as pd\n",
        "import numpy as np\n",
        "import pybedtools"
      ],
      "execution_count": 1,
      "outputs": []
    },
    {
      "cell_type": "markdown",
      "metadata": {
        "id": "xLTCvm-fsG4i",
        "colab_type": "text"
      },
      "source": [
        "# Paramenters\n",
        "This section allows the user to define train paramenters:  \n",
        "- NEG_RATIO: starting ratio for samples of the negative class (int., def. 1);\n",
        "- RANDOM_STATE: set random state for reproducibility (int., def. 1789);\n",
        "- WINDOW_SIZE: size of windows overlapping real binding site\n",
        "- TIMES: number of windows expanding from real binding site\n",
        "\n",
        "\n"
      ]
    },
    {
      "cell_type": "code",
      "metadata": {
        "id": "S_dgDQHWVQ0m",
        "colab_type": "code",
        "colab": {}
      },
      "source": [
        "NEG_RATIO = 20\n",
        "RANDOM_STATE = 1789\n",
        "WINDOW_SIZE = 50\n",
        "TIMES = 10\n",
        "np.random.seed(RANDOM_STATE)\n"
      ],
      "execution_count": 2,
      "outputs": []
    },
    {
      "cell_type": "markdown",
      "metadata": {
        "id": "Qib6pgFAVQ0N",
        "colab_type": "text"
      },
      "source": [
        "## negative class generator\n",
        "\n",
        "The function generates the negative class by creating a connection between each\n",
        "\n",
        "binding site and all mirna (expect the real one). If argument mirna_dict is\n",
        "\n",
        "provided as dictionary of mirna sequences, this dictionary will be used to\n",
        "\n",
        "create the negative class. Otherwise, all unique mirna sequences of the input\n",
        "\n",
        "df will be used to generate samples for the negative class."
      ]
    },
    {
      "cell_type": "code",
      "metadata": {
        "id": "yvf3BayqVQ0O",
        "colab_type": "code",
        "colab": {}
      },
      "source": [
        "def negative_class_generator(df, mirna_dict=None,\n",
        "                            neg_ratio=None, random_state=None):\n",
        "    \"\"\"\n",
        "    create miRNA negative by shuffling the input dataset\n",
        "\n",
        "    parameters:\n",
        "    df=original pandas dataframe\n",
        "    mirna_dict=optional miRNA dataframe\n",
        "    neg_ratio=generate N number of miRNA negatives\n",
        "    random_state=set seed for reproducibility\n",
        "\n",
        "    outputs:\n",
        "    miRNA negative set\n",
        "    \"\"\"\n",
        "    if not mirna_dict:\n",
        "        # generate mirna db of unique sequences\n",
        "        mirnadb = pd.DataFrame(\n",
        "            df.mirna_binding_sequence.unique(), columns=['mirnaid']\n",
        "        )\n",
        "    else:\n",
        "        mirnadb = pd.DataFrame(mirna_dict)\n",
        "        mirnadb.columns = ['mirnaid']\n",
        "    # add mirna db to each row of df\n",
        "    connections = mirnadb.assign(key=1).merge(\n",
        "          df.assign(key=1), on='key'\n",
        "          ).drop(['key', 'label'],axis=1)\n",
        "    # find index of positive connection\n",
        "    positive_samples_mask = (connections.mirnaid == \n",
        "                             connections.mirna_binding_sequence)\n",
        "    # drop positive connection to create negative samples\n",
        "    negative_df = connections[~positive_samples_mask].copy().drop(\n",
        "      ['mirna_binding_sequence'], axis=1\n",
        "      ).reset_index(drop=True)\n",
        "    # rename cols\n",
        "    negative_df.columns = ['mirna_binding_sequence', 'binding_sequence']\n",
        "    # add negative labels\n",
        "    negative_df['label'] = 'negative'\n",
        "    if neg_ratio == None:\n",
        "        return negative_df\n",
        "    else:\n",
        "        neg_samples = int(df.shape[0] * neg_ratio)\n",
        "        return negative_df.sample(\n",
        "            n = neg_samples,\n",
        "            random_state=random_state)"
      ],
      "execution_count": 3,
      "outputs": []
    },
    {
      "cell_type": "markdown",
      "metadata": {
        "id": "kM-j2Qb9VQz3",
        "colab_type": "text"
      },
      "source": [
        "# ENCORI Preprocessing"
      ]
    },
    {
      "cell_type": "markdown",
      "metadata": {
        "id": "bBG2w3qNVQ0l",
        "colab_type": "text"
      },
      "source": [
        "## Load Encori Dataset and Create Test Set\n",
        "The Encori Dataset was obtained by downloading the whole dataset through the Encori API at [URL](http://www.sysu.edu.cn/403.html).\n",
        "\n",
        "The cell loads the original ENCORI dataset, which is filtered for only binding regions mapping on chromosome 1 and obtained by immunoprecipitation of AGO2.\n",
        "\n",
        "Encori original database should contain 2055403 samples, and after filtering the new dataset should contain 460120 samples.\n",
        "\n",
        "expected output:\n",
        "\n",
        "Encori original AGO2 samples are: (460120, 23)\n",
        "\n"
      ]
    },
    {
      "cell_type": "code",
      "metadata": {
        "id": "8WlqAkKVlMZJ",
        "colab_type": "code",
        "colab": {
          "base_uri": "https://localhost:8080/",
          "height": 34
        },
        "outputId": "bfa5d7e4-b4f2-401c-8db9-cbffd154dda5"
      },
      "source": [
        "#load encori\n",
        "encori_original = pd.read_csv('encori_ago2.tsv', sep='\\t', comment='#')\n",
        "# filter encori\n",
        "# encori_original_chr1 = encori_original[(\n",
        "#     encori_original.chromosome == 'chr1') &\n",
        "#     (encori_original.RBP == 'AGO2')].reset_index(drop=True)\n",
        "# assign unique id to each sample\n",
        "encori_original['name'] = encori_original.index.to_list()\n",
        "\n",
        "print('Encori original AGO2 samples are:',\n",
        "      encori_original.shape)\n",
        "# print('Encori original AGO2 samples mapping to chrom1 are:',\n",
        "#       encori_original.shape)"
      ],
      "execution_count": 4,
      "outputs": [
        {
          "output_type": "stream",
          "text": [
            "Encori original AGO2 samples are: (460120, 23)\n"
          ],
          "name": "stdout"
        }
      ]
    },
    {
      "cell_type": "markdown",
      "metadata": {
        "id": "9U5Ci80HwBCW",
        "colab_type": "text"
      },
      "source": [
        "## Filter ENCORI\n",
        "\n",
        "This cell removes ENCORI samples not mapping on UTR.\n",
        "\n",
        "1. load annotation;\n",
        "2. filter `encori_original` for UTR regions only.\n",
        "\n",
        "expected output:\n",
        "\n",
        "samples mapping on UTR are: (425370, 22)"
      ]
    },
    {
      "cell_type": "code",
      "metadata": {
        "id": "O7D-8Yd7oflb",
        "colab_type": "code",
        "colab": {
          "base_uri": "https://localhost:8080/",
          "height": 34
        },
        "outputId": "1c12db1b-ddd1-4a15-b4f0-186df277e228"
      },
      "source": [
        "# 1. load annotation and retrive chrom1 only features.\n",
        "\n",
        "gtf_annotation = pd.read_csv('gencode.v34lift37.basic.annotation.gtf',\n",
        "                             sep='\\t', comment='#',\n",
        "                             names=['chromosome', 'source', 'feature', 'start',\n",
        "                                    'end', 'score', 'strand', 'frame',\n",
        "                                    'attribute'])\n",
        "gtf_annotation_UTR_only = gtf_annotation[\n",
        "                                      (gtf_annotation.feature == 'UTR')\n",
        "                                      ].copy()\n",
        "\n",
        "# filter encori_original with pybedtools.\n",
        "encori_original[['chromosome',\n",
        "       'narrowStart', 'narrowEnd', 'name']].to_csv(\n",
        "           'a.bed', sep='\\t',\n",
        "           header=False, index=False)\n",
        "\n",
        "gtf_annotation_UTR_only[['chromosome',\n",
        "       'start', 'end']].to_csv('b.bed', sep='\\t', header=False, index=False)\n",
        "\n",
        "a = pybedtools.BedTool('a.bed')\n",
        "b = pybedtools.BedTool('b.bed')\n",
        "\n",
        "overlaps = pybedtools.BedTool.intersect(a, b, wa=True, u=True).to_dataframe()\n",
        "\n",
        "ago2_utr = pd.merge(\n",
        "    encori_original, overlaps, on='name').drop(\n",
        "    ['chrom', 'start', 'end', 'name'], axis=1)\n",
        "\n",
        "print('samples mapping on UTR are:', ago2_utr.shape)"
      ],
      "execution_count": 5,
      "outputs": [
        {
          "output_type": "stream",
          "text": [
            "samples mapping on UTR are: (425370, 22)\n"
          ],
          "name": "stdout"
        }
      ]
    },
    {
      "cell_type": "markdown",
      "metadata": {
        "id": "OXhdz3vl9nFo",
        "colab_type": "text"
      },
      "source": [
        "## Filter for unique binding site\n",
        "\n",
        "This cell removes binding sites that are targeted by multiple miRNAs.\n",
        "\n",
        "expected output:\n",
        "\n",
        "ambiguous binding sites are: 222480\n",
        "\n",
        "certain binding sites are: 202890\n",
        "\n",
        "certain Encori database samples are: (202890, 22)\n"
      ]
    },
    {
      "cell_type": "code",
      "metadata": {
        "id": "rwA19rW0patR",
        "colab_type": "code",
        "colab": {
          "base_uri": "https://localhost:8080/",
          "height": 68
        },
        "outputId": "06db9e9a-a065-4186-f7f5-aea1c71e7682"
      },
      "source": [
        "ambiguous_bs = list()\n",
        "unique = 0\n",
        "for name, group in ago2_utr.groupby([\n",
        "            'chromosome', 'narrowStart', 'narrowEnd']):\n",
        "    if group.shape[0] != 1: # more than one miRNA targeted this region\n",
        "        ambiguous_bs += group.index.to_list()\n",
        "    else:\n",
        "        unique += 1\n",
        "print('ambiguous binding sites are:', len(ambiguous_bs))\n",
        "print('certain binding sites are:', unique)\n",
        "\n",
        "ago2_utr_certain = ago2_utr.drop(\n",
        "    ambiguous_bs).reset_index(drop=True)\n",
        "print('certain Encori database samples are:', ago2_utr_certain.shape)"
      ],
      "execution_count": 6,
      "outputs": [
        {
          "output_type": "stream",
          "text": [
            "ambiguous binding sites are: 222480\n",
            "certain binding sites are: 202890\n",
            "certain Encori database samples are: (202890, 22)\n"
          ],
          "name": "stdout"
        }
      ]
    },
    {
      "cell_type": "markdown",
      "metadata": {
        "id": "J92Pe_X9VM64",
        "colab_type": "text"
      },
      "source": [
        "## Assign unique name to each sample\n",
        "\n"
      ]
    },
    {
      "cell_type": "code",
      "metadata": {
        "id": "ul96TLd0VQl0",
        "colab_type": "code",
        "colab": {}
      },
      "source": [
        "ago2_utr_certain['name'] = [ mirna + \"_\" + str(index) \n",
        "    for mirna, index in zip(ago2_utr_certain['miRNAid'].to_list(),\n",
        "                            ago2_utr_certain.index.to_list())]"
      ],
      "execution_count": 7,
      "outputs": []
    },
    {
      "cell_type": "markdown",
      "metadata": {
        "id": "uHjqpKhbAclj",
        "colab_type": "text"
      },
      "source": [
        "## Generate binding site coordinates and sequences for miRNA Neg. test set\n",
        "\n",
        "The cell expands the original narrowStart and narrowEnd binding site coordinates\n",
        "\n",
        "to a random window of 50nt.\n",
        "\n",
        "expected output:\n",
        "\n",
        "average Encori database binding site length is: 50.0\n",
        "\n",
        "min. Encori database binding site length is: 50\n",
        "\n",
        "max Encori database binding site length is: 50\n",
        "\n",
        "Encori with positive binding sites sequence shape is: (202890, 28)"
      ]
    },
    {
      "cell_type": "code",
      "metadata": {
        "id": "nm2UgekSAjFm",
        "colab_type": "code",
        "colab": {}
      },
      "source": [
        "def midpoint(row):\n",
        "    \"\"\"\n",
        "    function extract the genomic coordiantes of binding site's midpoint.\n",
        "\n",
        "    paramenters:\n",
        "    row=dataframe row\n",
        "\n",
        "    returns:\n",
        "    midpoint (int.)\n",
        "    \"\"\"\n",
        "    start = row.narrowStart\n",
        "    end = row.narrowEnd\n",
        "    mid = int(round((end - start) / 2, 0))\n",
        "    midpoint = start + mid\n",
        "    return midpoint"
      ],
      "execution_count": 8,
      "outputs": []
    },
    {
      "cell_type": "code",
      "metadata": {
        "id": "apdxfX4mB3Yi",
        "colab_type": "code",
        "colab": {
          "base_uri": "https://localhost:8080/",
          "height": 68
        },
        "outputId": "149056c1-bef7-48b8-a39d-d1e2a57fb421"
      },
      "source": [
        "ago2_utr_certain['midpoint'] = ago2_utr_certain.apply(\n",
        "    midpoint, axis=1)\n",
        "ago2_utr_certain['random_int'] = np.random.randint(\n",
        "    15, 30, ago2_utr_certain.shape[0])\n",
        "ago2_utr_certain['random_start'] = (\n",
        "    ago2_utr_certain['narrowStart'] - \n",
        "    ago2_utr_certain['random_int'])\n",
        "ago2_utr_certain['random_end'] = (\n",
        "    ago2_utr_certain['random_start'] + WINDOW_SIZE)\n",
        "\n",
        "print('average Encori database binding site length is:', (\n",
        "    ago2_utr_certain['random_end'] -\n",
        "    ago2_utr_certain['random_start']).mean() )\n",
        "print('min. Encori database binding site length is:', (\n",
        "    ago2_utr_certain['random_end'] -\n",
        "    ago2_utr_certain['random_start']).min() )\n",
        "print('max Encori database binding site length is:', (\n",
        "    ago2_utr_certain['random_end'] -\n",
        "    ago2_utr_certain['random_start']).max() )"
      ],
      "execution_count": 9,
      "outputs": [
        {
          "output_type": "stream",
          "text": [
            "average Encori database binding site length is: 50.0\n",
            "min. Encori database binding site length is: 50\n",
            "max Encori database binding site length is: 50\n"
          ],
          "name": "stdout"
        }
      ]
    },
    {
      "cell_type": "code",
      "metadata": {
        "id": "06e-35UVTAqP",
        "colab_type": "code",
        "colab": {
          "base_uri": "https://localhost:8080/",
          "height": 34
        },
        "outputId": "e99ab59b-14fa-4b6b-e18c-e260e77bfa18"
      },
      "source": [
        "positive_bindings_col = [\n",
        "                 'chromosome', 'random_start',\n",
        "                 'random_end', 'name',\n",
        "                 'pancancerNum', 'strand']\n",
        "positive_bindings_bed = 'positive_bindings.bed'\n",
        "\n",
        "ago2_utr_certain[positive_bindings_col].to_csv(\n",
        "    positive_bindings_bed, sep='\\t', index=False, header=False)\n",
        "\n",
        "bedfile = pybedtools.BedTool(positive_bindings_bed)\n",
        "seq_filename = bedfile.sequence(\n",
        "    fi='GRCh37.primary_assembly.genome.fa',\n",
        "    s=True, tab=True, name=True).seqfn\n",
        "\n",
        "seq_df = pd.read_csv(\n",
        "    seq_filename, sep='\\t', header=None, names=['name', 'pos_sequence'])\n",
        "\n",
        "ago2_utr_certain = pd.concat(\n",
        "    [ago2_utr_certain, seq_df['pos_sequence']], axis=1)\n",
        "\n",
        "print('Encori with positive binding sites sequence shape is:',\n",
        "      ago2_utr_certain.shape)"
      ],
      "execution_count": 10,
      "outputs": [
        {
          "output_type": "stream",
          "text": [
            "Encori with positive binding sites sequence shape is: (202890, 28)\n"
          ],
          "name": "stdout"
        }
      ]
    },
    {
      "cell_type": "code",
      "metadata": {
        "id": "CAb1nT00oC6-",
        "colab_type": "code",
        "colab": {
          "base_uri": "https://localhost:8080/",
          "height": 34
        },
        "outputId": "50a4b58a-6700-4d01-ae34-b15e3d54c66c"
      },
      "source": [
        "ago2_utr_certain[ago2_utr_certain.chromosome == 'chr1'].shape"
      ],
      "execution_count": 16,
      "outputs": [
        {
          "output_type": "execute_result",
          "data": {
            "text/plain": [
              "(21628, 28)"
            ]
          },
          "metadata": {
            "tags": []
          },
          "execution_count": 16
        }
      ]
    },
    {
      "cell_type": "markdown",
      "metadata": {
        "id": "4V-KgBrvYSBs",
        "colab_type": "text"
      },
      "source": [
        "## Plug-in miRNA family sequence"
      ]
    },
    {
      "cell_type": "code",
      "metadata": {
        "id": "dofklt8jYwcU",
        "colab_type": "code",
        "colab": {
          "base_uri": "https://localhost:8080/",
          "height": 34
        },
        "outputId": "53e249ba-04da-493e-e19b-af89638d4597"
      },
      "source": [
        "targetscan_family_df = pd.read_csv('miR_Family_Info.txt', sep='\\t')\n",
        "targetscan_family_df.columns = [ 'miRFamily', 'Seed+m8', 'SpeciesID',\n",
        "               'MiRBase ID', 'MatureSequence',\n",
        "               'Family Conservation?', 'miRNAid']\n",
        "\n",
        "# assign miRNA family to Encori df\n",
        "ago2_with_family = pd.merge(\n",
        "    ago2_utr_certain,\n",
        "    targetscan_family_df, on=['miRNAid'])\n",
        "\n",
        "print(ago2_with_family[ago2_with_family.chromosome == 'chr1'].shape)"
      ],
      "execution_count": 19,
      "outputs": [
        {
          "output_type": "stream",
          "text": [
            "(21385, 34)\n"
          ],
          "name": "stdout"
        }
      ]
    },
    {
      "cell_type": "code",
      "metadata": {
        "id": "sYvy2g01o0pj",
        "colab_type": "code",
        "colab": {
          "base_uri": "https://localhost:8080/",
          "height": 34
        },
        "outputId": "b38a93c5-0d2a-4362-aa45-d66603bd738b"
      },
      "source": [
        "updated_families = list()\n",
        "for family, group in ago2_with_family.groupby('miRFamily'):\n",
        "    filter_seq = sorted(\n",
        "        group.MatureSequence.unique().tolist(),\n",
        "        key=lambda x: len(x), reverse=True)[0]\n",
        "    if len(filter_seq) < 20: # fill with N\n",
        "        filter_seq = filter_seq + ('N' * 20)\n",
        "    # trim seq at len 20\n",
        "    filter_seq = filter_seq[ : 20].replace('U', 'T')\n",
        "    x = group.copy()\n",
        "    x['familyseqRepresentative'] = filter_seq\n",
        "    updated_families.append(x)\n",
        "\n",
        "encori_ago2_precessed = pd.concat(updated_families)\n",
        "\n",
        "print(encori_ago2_precessed[encori_ago2_precessed.chromosome == 'chr1'].shape)"
      ],
      "execution_count": 21,
      "outputs": [
        {
          "output_type": "stream",
          "text": [
            "(21385, 35)\n"
          ],
          "name": "stdout"
        }
      ]
    },
    {
      "cell_type": "markdown",
      "metadata": {
        "id": "WZ42NoTZrnJb",
        "colab_type": "text"
      },
      "source": [
        "# Generate Train set\n",
        "\n",
        "The cell generates the positive sample class dataset for the training of the\n",
        "\n",
        "model. The negative class is generated on the fly during the training process.\n",
        "\n",
        "This cell extracts all samples expect those mapping on chromosome 1, which are\n",
        "\n",
        "kept for the test set.\n",
        "\n",
        "expected output:\n",
        "\n",
        "train set size is: (179148, 35)"
      ]
    },
    {
      "cell_type": "code",
      "metadata": {
        "id": "PAd_Ckfcr-GK",
        "colab_type": "code",
        "colab": {
          "base_uri": "https://localhost:8080/",
          "height": 583
        },
        "outputId": "ddc01751-9080-4e45-d17a-3442a545c67a"
      },
      "source": [
        "encori_train_positive_samples = encori_ago2_precessed[\n",
        "                encori_ago2_precessed.chromosome != 'chr1'\n",
        "                ].reset_index(drop=True)\n",
        "\n",
        "print('train set size is:', encori_train_positive_samples.shape)\n",
        "\n",
        "encori_train_positive_samples.head(10)"
      ],
      "execution_count": 49,
      "outputs": [
        {
          "output_type": "stream",
          "text": [
            "train set size is: (179148, 35)\n"
          ],
          "name": "stdout"
        },
        {
          "output_type": "execute_result",
          "data": {
            "text/html": [
              "<div>\n",
              "<style scoped>\n",
              "    .dataframe tbody tr th:only-of-type {\n",
              "        vertical-align: middle;\n",
              "    }\n",
              "\n",
              "    .dataframe tbody tr th {\n",
              "        vertical-align: top;\n",
              "    }\n",
              "\n",
              "    .dataframe thead th {\n",
              "        text-align: right;\n",
              "    }\n",
              "</style>\n",
              "<table border=\"1\" class=\"dataframe\">\n",
              "  <thead>\n",
              "    <tr style=\"text-align: right;\">\n",
              "      <th></th>\n",
              "      <th>miRNAid</th>\n",
              "      <th>miRNAname</th>\n",
              "      <th>geneID</th>\n",
              "      <th>geneName</th>\n",
              "      <th>geneType</th>\n",
              "      <th>chromosome</th>\n",
              "      <th>narrowStart</th>\n",
              "      <th>narrowEnd</th>\n",
              "      <th>broadStart</th>\n",
              "      <th>broadEnd</th>\n",
              "      <th>strand</th>\n",
              "      <th>clipExpNum</th>\n",
              "      <th>degraExpNum</th>\n",
              "      <th>RBP</th>\n",
              "      <th>PITA</th>\n",
              "      <th>RNA22</th>\n",
              "      <th>miRmap</th>\n",
              "      <th>microT</th>\n",
              "      <th>miRanda</th>\n",
              "      <th>PicTar</th>\n",
              "      <th>TargetScan</th>\n",
              "      <th>pancancerNum</th>\n",
              "      <th>name</th>\n",
              "      <th>midpoint</th>\n",
              "      <th>random_int</th>\n",
              "      <th>random_start</th>\n",
              "      <th>random_end</th>\n",
              "      <th>pos_sequence</th>\n",
              "      <th>miRFamily</th>\n",
              "      <th>Seed+m8</th>\n",
              "      <th>SpeciesID</th>\n",
              "      <th>MiRBase ID</th>\n",
              "      <th>MatureSequence</th>\n",
              "      <th>Family Conservation?</th>\n",
              "      <th>familyseqRepresentative</th>\n",
              "    </tr>\n",
              "  </thead>\n",
              "  <tbody>\n",
              "    <tr>\n",
              "      <th>0</th>\n",
              "      <td>MIMAT0000063</td>\n",
              "      <td>hsa-let-7b-5p</td>\n",
              "      <td>ENSG00000172731</td>\n",
              "      <td>LRRC20</td>\n",
              "      <td>protein_coding</td>\n",
              "      <td>chr10</td>\n",
              "      <td>72059919</td>\n",
              "      <td>72059924</td>\n",
              "      <td>72059905</td>\n",
              "      <td>72059939</td>\n",
              "      <td>-</td>\n",
              "      <td>3</td>\n",
              "      <td>0</td>\n",
              "      <td>AGO2</td>\n",
              "      <td>1</td>\n",
              "      <td>1</td>\n",
              "      <td>0</td>\n",
              "      <td>0</td>\n",
              "      <td>1</td>\n",
              "      <td>0</td>\n",
              "      <td>1</td>\n",
              "      <td>12</td>\n",
              "      <td>MIMAT0000063_0</td>\n",
              "      <td>72059921</td>\n",
              "      <td>27</td>\n",
              "      <td>72059892</td>\n",
              "      <td>72059942</td>\n",
              "      <td>GCTTGGTCCTCAGGTATCTACCTCCCACCTTCTCCTCATCTGTGGA...</td>\n",
              "      <td>let-7-5p/98-5p</td>\n",
              "      <td>GAGGUAG</td>\n",
              "      <td>9606</td>\n",
              "      <td>hsa-let-7b-5p</td>\n",
              "      <td>UGAGGUAGUAGGUUGUGUGGUU</td>\n",
              "      <td>2</td>\n",
              "      <td>TGAGGTAGTAGGTTGTGTGG</td>\n",
              "    </tr>\n",
              "    <tr>\n",
              "      <th>1</th>\n",
              "      <td>MIMAT0000063</td>\n",
              "      <td>hsa-let-7b-5p</td>\n",
              "      <td>ENSG00000175161</td>\n",
              "      <td>CADM2</td>\n",
              "      <td>protein_coding</td>\n",
              "      <td>chr3</td>\n",
              "      <td>85008253</td>\n",
              "      <td>85008271</td>\n",
              "      <td>85008253</td>\n",
              "      <td>85008271</td>\n",
              "      <td>+</td>\n",
              "      <td>2</td>\n",
              "      <td>0</td>\n",
              "      <td>AGO2</td>\n",
              "      <td>0</td>\n",
              "      <td>1</td>\n",
              "      <td>0</td>\n",
              "      <td>0</td>\n",
              "      <td>0</td>\n",
              "      <td>0</td>\n",
              "      <td>0</td>\n",
              "      <td>3</td>\n",
              "      <td>MIMAT0000063_1</td>\n",
              "      <td>85008262</td>\n",
              "      <td>22</td>\n",
              "      <td>85008231</td>\n",
              "      <td>85008281</td>\n",
              "      <td>TGCTACCGCCACTAGCGCTGCTTCCACTGCTTCTACCTCCCCTCCC...</td>\n",
              "      <td>let-7-5p/98-5p</td>\n",
              "      <td>GAGGUAG</td>\n",
              "      <td>9606</td>\n",
              "      <td>hsa-let-7b-5p</td>\n",
              "      <td>UGAGGUAGUAGGUUGUGUGGUU</td>\n",
              "      <td>2</td>\n",
              "      <td>TGAGGTAGTAGGTTGTGTGG</td>\n",
              "    </tr>\n",
              "    <tr>\n",
              "      <th>2</th>\n",
              "      <td>MIMAT0000063</td>\n",
              "      <td>hsa-let-7b-5p</td>\n",
              "      <td>ENSG00000165102</td>\n",
              "      <td>HGSNAT</td>\n",
              "      <td>protein_coding</td>\n",
              "      <td>chr8</td>\n",
              "      <td>43056584</td>\n",
              "      <td>43056606</td>\n",
              "      <td>43056584</td>\n",
              "      <td>43056606</td>\n",
              "      <td>+</td>\n",
              "      <td>1</td>\n",
              "      <td>0</td>\n",
              "      <td>AGO2</td>\n",
              "      <td>0</td>\n",
              "      <td>1</td>\n",
              "      <td>0</td>\n",
              "      <td>0</td>\n",
              "      <td>0</td>\n",
              "      <td>0</td>\n",
              "      <td>0</td>\n",
              "      <td>1</td>\n",
              "      <td>MIMAT0000063_2</td>\n",
              "      <td>43056595</td>\n",
              "      <td>21</td>\n",
              "      <td>43056563</td>\n",
              "      <td>43056613</td>\n",
              "      <td>AGCGGGGCTTCTCCTGCCTCCATCACATCACAGAAGTACCTCCTGC...</td>\n",
              "      <td>let-7-5p/98-5p</td>\n",
              "      <td>GAGGUAG</td>\n",
              "      <td>9606</td>\n",
              "      <td>hsa-let-7b-5p</td>\n",
              "      <td>UGAGGUAGUAGGUUGUGUGGUU</td>\n",
              "      <td>2</td>\n",
              "      <td>TGAGGTAGTAGGTTGTGTGG</td>\n",
              "    </tr>\n",
              "    <tr>\n",
              "      <th>3</th>\n",
              "      <td>MIMAT0000064</td>\n",
              "      <td>hsa-let-7c-5p</td>\n",
              "      <td>ENSG00000175697</td>\n",
              "      <td>GPR156</td>\n",
              "      <td>protein_coding</td>\n",
              "      <td>chr3</td>\n",
              "      <td>119885669</td>\n",
              "      <td>119885674</td>\n",
              "      <td>119885668</td>\n",
              "      <td>119885675</td>\n",
              "      <td>-</td>\n",
              "      <td>2</td>\n",
              "      <td>0</td>\n",
              "      <td>AGO2</td>\n",
              "      <td>0</td>\n",
              "      <td>0</td>\n",
              "      <td>1</td>\n",
              "      <td>0</td>\n",
              "      <td>0</td>\n",
              "      <td>1</td>\n",
              "      <td>1</td>\n",
              "      <td>4</td>\n",
              "      <td>MIMAT0000064_4</td>\n",
              "      <td>119885671</td>\n",
              "      <td>18</td>\n",
              "      <td>119885651</td>\n",
              "      <td>119885701</td>\n",
              "      <td>AAAGAGAGGCATTGCCTGTCCTGTTACTACCTCGCAGCCTTACTAT...</td>\n",
              "      <td>let-7-5p/98-5p</td>\n",
              "      <td>GAGGUAG</td>\n",
              "      <td>9606</td>\n",
              "      <td>hsa-let-7c-5p</td>\n",
              "      <td>UGAGGUAGUAGGUUGUAUGGUU</td>\n",
              "      <td>2</td>\n",
              "      <td>TGAGGTAGTAGGTTGTGTGG</td>\n",
              "    </tr>\n",
              "    <tr>\n",
              "      <th>4</th>\n",
              "      <td>MIMAT0000064</td>\n",
              "      <td>hsa-let-7c-5p</td>\n",
              "      <td>ENSG00000178177</td>\n",
              "      <td>LCORL</td>\n",
              "      <td>protein_coding</td>\n",
              "      <td>chr4</td>\n",
              "      <td>17846943</td>\n",
              "      <td>17846948</td>\n",
              "      <td>17846942</td>\n",
              "      <td>17846963</td>\n",
              "      <td>-</td>\n",
              "      <td>1</td>\n",
              "      <td>0</td>\n",
              "      <td>AGO2</td>\n",
              "      <td>1</td>\n",
              "      <td>0</td>\n",
              "      <td>1</td>\n",
              "      <td>0</td>\n",
              "      <td>1</td>\n",
              "      <td>1</td>\n",
              "      <td>1</td>\n",
              "      <td>10</td>\n",
              "      <td>MIMAT0000064_5</td>\n",
              "      <td>17846945</td>\n",
              "      <td>24</td>\n",
              "      <td>17846919</td>\n",
              "      <td>17846969</td>\n",
              "      <td>GTAAAACAGGTGGATACCAACTACCTCGAAGCAAATTGGTGAAAGA...</td>\n",
              "      <td>let-7-5p/98-5p</td>\n",
              "      <td>GAGGUAG</td>\n",
              "      <td>9606</td>\n",
              "      <td>hsa-let-7c-5p</td>\n",
              "      <td>UGAGGUAGUAGGUUGUAUGGUU</td>\n",
              "      <td>2</td>\n",
              "      <td>TGAGGTAGTAGGTTGTGTGG</td>\n",
              "    </tr>\n",
              "    <tr>\n",
              "      <th>5</th>\n",
              "      <td>MIMAT0000065</td>\n",
              "      <td>hsa-let-7d-5p</td>\n",
              "      <td>ENSG00000139687</td>\n",
              "      <td>RB1</td>\n",
              "      <td>protein_coding</td>\n",
              "      <td>chr13</td>\n",
              "      <td>49054893</td>\n",
              "      <td>49054898</td>\n",
              "      <td>49054893</td>\n",
              "      <td>49054899</td>\n",
              "      <td>+</td>\n",
              "      <td>2</td>\n",
              "      <td>0</td>\n",
              "      <td>AGO2</td>\n",
              "      <td>1</td>\n",
              "      <td>0</td>\n",
              "      <td>0</td>\n",
              "      <td>0</td>\n",
              "      <td>0</td>\n",
              "      <td>1</td>\n",
              "      <td>1</td>\n",
              "      <td>10</td>\n",
              "      <td>MIMAT0000065_7</td>\n",
              "      <td>49054895</td>\n",
              "      <td>19</td>\n",
              "      <td>49054874</td>\n",
              "      <td>49054924</td>\n",
              "      <td>CTACTGAAACAGATTTCATACCTCAGAATGTAAAAGAACTTACTGA...</td>\n",
              "      <td>let-7-5p/98-5p</td>\n",
              "      <td>GAGGUAG</td>\n",
              "      <td>9606</td>\n",
              "      <td>hsa-let-7d-5p</td>\n",
              "      <td>AGAGGUAGUAGGUUGCAUAGUU</td>\n",
              "      <td>2</td>\n",
              "      <td>TGAGGTAGTAGGTTGTGTGG</td>\n",
              "    </tr>\n",
              "    <tr>\n",
              "      <th>6</th>\n",
              "      <td>MIMAT0000065</td>\n",
              "      <td>hsa-let-7d-5p</td>\n",
              "      <td>ENSG00000144554</td>\n",
              "      <td>FANCD2</td>\n",
              "      <td>protein_coding</td>\n",
              "      <td>chr3</td>\n",
              "      <td>10082444</td>\n",
              "      <td>10082450</td>\n",
              "      <td>10082432</td>\n",
              "      <td>10082451</td>\n",
              "      <td>+</td>\n",
              "      <td>1</td>\n",
              "      <td>0</td>\n",
              "      <td>AGO2</td>\n",
              "      <td>0</td>\n",
              "      <td>0</td>\n",
              "      <td>1</td>\n",
              "      <td>0</td>\n",
              "      <td>1</td>\n",
              "      <td>0</td>\n",
              "      <td>0</td>\n",
              "      <td>5</td>\n",
              "      <td>MIMAT0000065_8</td>\n",
              "      <td>10082447</td>\n",
              "      <td>19</td>\n",
              "      <td>10082425</td>\n",
              "      <td>10082475</td>\n",
              "      <td>GTATAGTTGTCTGCAAAGCTACCTCCAAAACATCCAGTGATTTCTT...</td>\n",
              "      <td>let-7-5p/98-5p</td>\n",
              "      <td>GAGGUAG</td>\n",
              "      <td>9606</td>\n",
              "      <td>hsa-let-7d-5p</td>\n",
              "      <td>AGAGGUAGUAGGUUGCAUAGUU</td>\n",
              "      <td>2</td>\n",
              "      <td>TGAGGTAGTAGGTTGTGTGG</td>\n",
              "    </tr>\n",
              "    <tr>\n",
              "      <th>7</th>\n",
              "      <td>MIMAT0000065</td>\n",
              "      <td>hsa-let-7d-5p</td>\n",
              "      <td>ENSG00000182606</td>\n",
              "      <td>TRAK1</td>\n",
              "      <td>protein_coding</td>\n",
              "      <td>chr3</td>\n",
              "      <td>42245375</td>\n",
              "      <td>42245380</td>\n",
              "      <td>42245358</td>\n",
              "      <td>42245381</td>\n",
              "      <td>+</td>\n",
              "      <td>2</td>\n",
              "      <td>0</td>\n",
              "      <td>AGO2</td>\n",
              "      <td>0</td>\n",
              "      <td>0</td>\n",
              "      <td>1</td>\n",
              "      <td>0</td>\n",
              "      <td>1</td>\n",
              "      <td>0</td>\n",
              "      <td>0</td>\n",
              "      <td>9</td>\n",
              "      <td>MIMAT0000065_9</td>\n",
              "      <td>42245377</td>\n",
              "      <td>24</td>\n",
              "      <td>42245351</td>\n",
              "      <td>42245401</td>\n",
              "      <td>ATTAAAAAGAATCCAATTATGTTTACCTCAAAAGAACCTGTTTTTG...</td>\n",
              "      <td>let-7-5p/98-5p</td>\n",
              "      <td>GAGGUAG</td>\n",
              "      <td>9606</td>\n",
              "      <td>hsa-let-7d-5p</td>\n",
              "      <td>AGAGGUAGUAGGUUGCAUAGUU</td>\n",
              "      <td>2</td>\n",
              "      <td>TGAGGTAGTAGGTTGTGTGG</td>\n",
              "    </tr>\n",
              "    <tr>\n",
              "      <th>8</th>\n",
              "      <td>MIMAT0000065</td>\n",
              "      <td>hsa-let-7d-5p</td>\n",
              "      <td>ENSG00000119446</td>\n",
              "      <td>RBM18</td>\n",
              "      <td>protein_coding</td>\n",
              "      <td>chr9</td>\n",
              "      <td>125002095</td>\n",
              "      <td>125002114</td>\n",
              "      <td>125002095</td>\n",
              "      <td>125002114</td>\n",
              "      <td>-</td>\n",
              "      <td>1</td>\n",
              "      <td>0</td>\n",
              "      <td>AGO2</td>\n",
              "      <td>0</td>\n",
              "      <td>0</td>\n",
              "      <td>0</td>\n",
              "      <td>0</td>\n",
              "      <td>1</td>\n",
              "      <td>0</td>\n",
              "      <td>0</td>\n",
              "      <td>3</td>\n",
              "      <td>MIMAT0000065_10</td>\n",
              "      <td>125002105</td>\n",
              "      <td>18</td>\n",
              "      <td>125002077</td>\n",
              "      <td>125002127</td>\n",
              "      <td>AACTCTCTTTACCCTTTATGCCTGCCTACCTCTGTTGTTAGAGATG...</td>\n",
              "      <td>let-7-5p/98-5p</td>\n",
              "      <td>GAGGUAG</td>\n",
              "      <td>9606</td>\n",
              "      <td>hsa-let-7d-5p</td>\n",
              "      <td>AGAGGUAGUAGGUUGCAUAGUU</td>\n",
              "      <td>2</td>\n",
              "      <td>TGAGGTAGTAGGTTGTGTGG</td>\n",
              "    </tr>\n",
              "    <tr>\n",
              "      <th>9</th>\n",
              "      <td>MIMAT0000066</td>\n",
              "      <td>hsa-let-7e-5p</td>\n",
              "      <td>ENSG00000150051</td>\n",
              "      <td>MKX</td>\n",
              "      <td>protein_coding</td>\n",
              "      <td>chr10</td>\n",
              "      <td>27961900</td>\n",
              "      <td>27961905</td>\n",
              "      <td>27961899</td>\n",
              "      <td>27961916</td>\n",
              "      <td>-</td>\n",
              "      <td>2</td>\n",
              "      <td>0</td>\n",
              "      <td>AGO2</td>\n",
              "      <td>1</td>\n",
              "      <td>0</td>\n",
              "      <td>0</td>\n",
              "      <td>0</td>\n",
              "      <td>1</td>\n",
              "      <td>0</td>\n",
              "      <td>0</td>\n",
              "      <td>3</td>\n",
              "      <td>MIMAT0000066_20</td>\n",
              "      <td>27961902</td>\n",
              "      <td>21</td>\n",
              "      <td>27961879</td>\n",
              "      <td>27961929</td>\n",
              "      <td>ATTTATGTTGTAGAGAAATAGAATTACCTCTATTCTTTGTTTTGCC...</td>\n",
              "      <td>let-7-5p/98-5p</td>\n",
              "      <td>GAGGUAG</td>\n",
              "      <td>9606</td>\n",
              "      <td>hsa-let-7e-5p</td>\n",
              "      <td>UGAGGUAGGAGGUUGUAUAGUU</td>\n",
              "      <td>2</td>\n",
              "      <td>TGAGGTAGTAGGTTGTGTGG</td>\n",
              "    </tr>\n",
              "  </tbody>\n",
              "</table>\n",
              "</div>"
            ],
            "text/plain": [
              "        miRNAid      miRNAname  ... Family Conservation? familyseqRepresentative\n",
              "0  MIMAT0000063  hsa-let-7b-5p  ...                    2    TGAGGTAGTAGGTTGTGTGG\n",
              "1  MIMAT0000063  hsa-let-7b-5p  ...                    2    TGAGGTAGTAGGTTGTGTGG\n",
              "2  MIMAT0000063  hsa-let-7b-5p  ...                    2    TGAGGTAGTAGGTTGTGTGG\n",
              "3  MIMAT0000064  hsa-let-7c-5p  ...                    2    TGAGGTAGTAGGTTGTGTGG\n",
              "4  MIMAT0000064  hsa-let-7c-5p  ...                    2    TGAGGTAGTAGGTTGTGTGG\n",
              "5  MIMAT0000065  hsa-let-7d-5p  ...                    2    TGAGGTAGTAGGTTGTGTGG\n",
              "6  MIMAT0000065  hsa-let-7d-5p  ...                    2    TGAGGTAGTAGGTTGTGTGG\n",
              "7  MIMAT0000065  hsa-let-7d-5p  ...                    2    TGAGGTAGTAGGTTGTGTGG\n",
              "8  MIMAT0000065  hsa-let-7d-5p  ...                    2    TGAGGTAGTAGGTTGTGTGG\n",
              "9  MIMAT0000066  hsa-let-7e-5p  ...                    2    TGAGGTAGTAGGTTGTGTGG\n",
              "\n",
              "[10 rows x 35 columns]"
            ]
          },
          "metadata": {
            "tags": []
          },
          "execution_count": 49
        }
      ]
    },
    {
      "cell_type": "markdown",
      "metadata": {
        "id": "VAu7ar6RHMDB",
        "colab_type": "text"
      },
      "source": [
        "## Generate coordinates for Scan Test Set\n",
        "\n",
        "> Indented block\n",
        "\n",
        "\n",
        "\n",
        "The cell extends the binding site coordinates of 10 windows of 50nt from the 5' \n",
        "\n",
        "and 3' ends.\n",
        "\n",
        "expected outputs:\n",
        "\n",
        "encori ago2 on chromosome 1 shape is: (21385, 37)\n",
        "\n",
        "Encori with scan binding sites sequence shape is: (21385, 38)"
      ]
    },
    {
      "cell_type": "code",
      "metadata": {
        "id": "LS7Vca1HH9QF",
        "colab_type": "code",
        "colab": {
          "base_uri": "https://localhost:8080/",
          "height": 34
        },
        "outputId": "30ce75ec-437f-4016-c305-2cb786dc2c50"
      },
      "source": [
        "encori_chrom1 = encori_ago2_precessed[\n",
        "                encori_ago2_precessed.chromosome == 'chr1'\n",
        "                ].reset_index(drop=True)\n",
        "\n",
        "encori_chrom1['scan_start'] = (\n",
        "    encori_chrom1['random_start'] - (WINDOW_SIZE * TIMES))\n",
        "encori_chrom1['scan_end'] = (\n",
        "    encori_chrom1['random_end'] + (WINDOW_SIZE * TIMES))\n",
        "\n",
        "print('encori ago2 on chromosome 1 shape is:', encori_chrom1.shape)"
      ],
      "execution_count": 39,
      "outputs": [
        {
          "output_type": "stream",
          "text": [
            "encori ago2 on chromosome 1 shape is: (21385, 37)\n"
          ],
          "name": "stdout"
        }
      ]
    },
    {
      "cell_type": "code",
      "metadata": {
        "id": "sjhiBzOUU9zJ",
        "colab_type": "code",
        "colab": {
          "base_uri": "https://localhost:8080/",
          "height": 34
        },
        "outputId": "004cf62f-328c-4fce-b38d-3810cc10df40"
      },
      "source": [
        "scan_col = [\n",
        "            'chromosome', 'scan_start', 'scan_end',\n",
        "            'name', 'pancancerNum', 'strand']\n",
        "\n",
        "scan_name = 'scan.bed'\n",
        "encori_chrom1[scan_col].to_csv(\n",
        "    scan_name, sep='\\t', index=False, header=False)\n",
        "\n",
        "bedfile = pybedtools.BedTool(scan_name)\n",
        "seq_filename = bedfile.sequence(\n",
        "    fi='GRCh37.primary_assembly.genome.fa',\n",
        "    s=True, tab=True, name=True).seqfn\n",
        "\n",
        "seq_df = pd.read_csv(\n",
        "    seq_filename, sep='\\t', header=None, names=['name', 'scan_sequence'])\n",
        "\n",
        "encori_chrom1_scan = pd.concat(\n",
        "    [encori_chrom1, seq_df['scan_sequence']], axis=1)\n",
        "\n",
        "print('Encori with scan binding sites sequence shape is:', \n",
        "      encori_chrom1_scan.shape)\n"
      ],
      "execution_count": 43,
      "outputs": [
        {
          "output_type": "stream",
          "text": [
            "Encori with scan binding sites sequence shape is: (21385, 38)\n"
          ],
          "name": "stdout"
        }
      ]
    },
    {
      "cell_type": "markdown",
      "metadata": {
        "id": "eRImDbhpx8rT",
        "colab_type": "text"
      },
      "source": [
        "## Create Scan and miRNA Neg Test sets\n",
        "\n",
        "The function `break_seq` breaks the extracted scanning region into windows of \n",
        "\n",
        "50nt size. It returns the miRNA sequence, real binding site sequence, and \n",
        "\n",
        "the 20 segmented surrounding windows. \n",
        "\n",
        "expected output:\n",
        "\n",
        "positive df samples are: (21385, 3)\n",
        "\n",
        "scan negative df samples are: (427700, 3)\n",
        "\n",
        "scan test df samples are: (449085, 3)\n",
        "\n",
        "miRNA neg samples are: (427700, 3)\n",
        "\n",
        "mirna neg test df samples are: (449085, 3)"
      ]
    },
    {
      "cell_type": "code",
      "metadata": {
        "id": "92YcrB1fuPKy",
        "colab_type": "code",
        "colab": {}
      },
      "source": [
        "def break_seq(row):\n",
        "    \"\"\"\n",
        "    breaks scan sequence into windows of 50nt length.\n",
        "\n",
        "    parameters:\n",
        "\n",
        "    row=dataframe row\n",
        "\n",
        "    returns:\n",
        "    mirnaseq, pos_sequence, segments\n",
        "    \"\"\"\n",
        "    segments = list()\n",
        "    mirnaseq = row.familyseqRepresentative\n",
        "    region = row.scan_sequence\n",
        "    pos_sequence = row.pos_sequence\n",
        "    for window, index in enumerate(range(0, len(region), 50)):\n",
        "        if window == 10: # this is the real binding window\n",
        "            continue\n",
        "        segment = region[index : index + 50]\n",
        "        segments.append( (segment) )\n",
        "    return (mirnaseq, pos_sequence, segments)\n",
        "\n",
        "\n",
        "breaks = encori_chrom1_scan.apply(break_seq, axis=1)"
      ],
      "execution_count": 44,
      "outputs": []
    },
    {
      "cell_type": "code",
      "metadata": {
        "id": "qgFQRuDR0JH7",
        "colab_type": "code",
        "colab": {
          "base_uri": "https://localhost:8080/",
          "height": 102
        },
        "outputId": "f7d87762-ac35-4f54-a8ae-bfa4c34775d0"
      },
      "source": [
        "positive_samples_list = list()\n",
        "scan_neg_list = list()\n",
        "\n",
        "# create positive sample list and negative segments for scan test set\n",
        "for sample in breaks:\n",
        "    mirnaseq, pos_sequence, segments = sample\n",
        "    positive_samples_list.append([mirnaseq, pos_sequence, 'positive'])\n",
        "    for neg_segment in segments:\n",
        "        scan_neg_list.append([mirnaseq, neg_segment, 'negative'])\n",
        "\n",
        "# generate dataframe of positive bindings\n",
        "positive_samples_df = pd.DataFrame(\n",
        "    positive_samples_list,\n",
        "    columns = ['mirna_binding_sequence', 'binding_sequence', 'label'])\n",
        "# generate dataframe of negative bindings\n",
        "scan_neg_df = pd.DataFrame(\n",
        "    scan_neg_list,\n",
        "    columns = ['mirna_binding_sequence', 'binding_sequence', 'label'])\n",
        "# generate dataframe of miRNA negative\n",
        "mirna_neg_set = negative_class_generator(\n",
        "        positive_samples_df, neg_ratio=NEG_RATIO,\n",
        "        random_state=RANDOM_STATE)\n",
        "# concatene dataframes to create scan test set and miRNA negative test set\n",
        "scan_test_df = pd.concat([positive_samples_df, scan_neg_df])\n",
        "mirna_neg_test_df = pd.concat( [positive_samples_df, mirna_neg_set])\n",
        "\n",
        "\n",
        "print('positive df samples are:', positive_samples_df.shape)\n",
        "print('scan negative df samples are:', scan_neg_df.shape)\n",
        "print('scan test df samples are:', scan_test_df.shape)\n",
        "print('miRNA neg samples are:', mirna_neg_set.shape)\n",
        "print('mirna neg test df samples are:', mirna_neg_test_df.shape)"
      ],
      "execution_count": 45,
      "outputs": [
        {
          "output_type": "stream",
          "text": [
            "positive df samples are: (21385, 3)\n",
            "scan negative df samples are: (427700, 3)\n",
            "scan test df samples are: (449085, 3)\n",
            "miRNA neg samples are: (427700, 3)\n",
            "mirna neg test df samples are: (449085, 3)\n"
          ],
          "name": "stdout"
        }
      ]
    },
    {
      "cell_type": "markdown",
      "metadata": {
        "id": "TtPlb2WYQPI_",
        "colab_type": "text"
      },
      "source": [
        "## Write output dataset"
      ]
    },
    {
      "cell_type": "code",
      "metadata": {
        "id": "Ww-IoHJsMh3w",
        "colab_type": "code",
        "colab": {}
      },
      "source": [
        "scan_test_df.to_csv('scan_test_set.tsv', header=True, index=False, sep='\\t')\n",
        "mirna_neg_set.to_csv('mirna_neg_set.tsv', header=True, index=False, sep='\\t')\n",
        "encori_train_positive_samples.to_csv(\n",
        "    'train_set_positives.tsv', header=True, index=False, sep='\\t')"
      ],
      "execution_count": 50,
      "outputs": []
    },
    {
      "cell_type": "code",
      "metadata": {
        "id": "tkGHGU9UskQf",
        "colab_type": "code",
        "colab": {
          "base_uri": "https://localhost:8080/",
          "height": 68
        },
        "outputId": "64d188eb-2de5-41d7-a02d-340ff67e139d"
      },
      "source": [
        "! tar -czvf encori_datasets.tar.gz scan_test_set.tsv mirna_neg_set.tsv train_set_positives.tsv"
      ],
      "execution_count": 51,
      "outputs": [
        {
          "output_type": "stream",
          "text": [
            "scan_test_set.tsv\n",
            "mirna_neg_set.tsv\n",
            "train_set_positives.tsv\n"
          ],
          "name": "stdout"
        }
      ]
    }
  ]
}
